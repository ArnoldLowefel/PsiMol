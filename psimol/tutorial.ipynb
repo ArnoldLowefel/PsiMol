{
 "cells": [
  {
   "cell_type": "markdown",
   "metadata": {},
   "source": [
    "## Example usage of PsiMol"
   ]
  },
  {
   "cell_type": "code",
   "execution_count": 1,
   "metadata": {},
   "outputs": [],
   "source": [
    "import psimol"
   ]
  },
  {
   "cell_type": "markdown",
   "metadata": {},
   "source": [
    "### Reading different file formats, like .xyz, .mol or .cif"
   ]
  },
  {
   "cell_type": "code",
   "execution_count": 2,
   "metadata": {},
   "outputs": [
    {
     "data": {
      "application/3dmoljs_load.v0": "<div id=\"3dmolviewer_17180204058372731\"  style=\"position: relative; width: 400px; height: 400px;\">\n        <p id=\"3dmolwarning_17180204058372731\" style=\"background-color:#ffcccc;color:black\">3Dmol.js failed to load for some reason.  Please check your browser console for error messages.<br></p>\n        </div>\n<script>\n\nvar loadScriptAsync = function(uri){\n  return new Promise((resolve, reject) => {\n    //this is to ignore the existence of requirejs amd\n    var savedexports, savedmodule;\n    if (typeof exports !== 'undefined') savedexports = exports;\n    else exports = {}\n    if (typeof module !== 'undefined') savedmodule = module;\n    else module = {}\n\n    var tag = document.createElement('script');\n    tag.src = uri;\n    tag.async = true;\n    tag.onload = () => {\n        exports = savedexports;\n        module = savedmodule;\n        resolve();\n    };\n  var firstScriptTag = document.getElementsByTagName('script')[0];\n  firstScriptTag.parentNode.insertBefore(tag, firstScriptTag);\n});\n};\n\nif(typeof $3Dmolpromise === 'undefined') {\n$3Dmolpromise = null;\n  $3Dmolpromise = loadScriptAsync('https://cdnjs.cloudflare.com/ajax/libs/3Dmol/2.1.0/3Dmol-min.js');\n}\n\nvar viewer_17180204058372731 = null;\nvar warn = document.getElementById(\"3dmolwarning_17180204058372731\");\nif(warn) {\n    warn.parentNode.removeChild(warn);\n}\n$3Dmolpromise.then(function() {\nviewer_17180204058372731 = $3Dmol.createViewer(document.getElementById(\"3dmolviewer_17180204058372731\"),{backgroundColor:\"white\"});\nviewer_17180204058372731.zoomTo();\n\tviewer_17180204058372731.addModel(\"\\n\\n\\n 21 21  0  0  0  0  0  0  0  0999 V2000\\n    2.0564   -0.1654    0.3973 C   0  0  0  0  0  0  0  0  0  0  0\\n    0.6889    2.0285   -0.6482 C   0  0  0  0  0  0  0  0  0  0  0\\n    2.7407    1.0233    0.1253 C   0  0  0  0  0  0  0  0  0  0  0\\n    2.0573    2.1178   -0.4002 C   0  0  0  0  0  0  0  0  0  0  0\\n   -3.5940    1.0321    0.0459 C   0  0  0  0  0  0  0  0  0  0  0\\n    0.6774   -0.2751    0.1510 C   0  0  0  0  0  0  0  0  0  0  0\\n    0.0027    0.8423   -0.3589 C   0  0  0  0  0  0  0  0  0  0  0\\n    0.6329   -2.5453    0.9336 O   0  0  0  0  0  0  0  0  0  0  0\\n   -1.7645    1.4325    1.5657 O   0  0  0  0  0  0  0  0  0  0  0\\n   -1.2489   -1.6841    0.1298 O   0  0  0  0  0  0  0  0  0  0  0\\n    0.0528   -1.5888    0.4496 C   0  0  0  0  0  0  0  0  0  0  0\\n   -2.1520    1.1284    0.4451 C   0  0  0  0  0  0  0  0  0  0  0\\n   -1.3617    0.8283   -0.6583 O   0  0  0  0  0  0  0  0  0  0  0\\n   -1.4765   -2.6011    0.3923 H   0  0  0  0  0  0  0  0  0  0  0\\n    2.6095   -1.0117    0.8028 H   0  0  0  0  0  0  0  0  0  0  0\\n    0.1571    2.8827   -1.0582 H   0  0  0  0  0  0  0  0  0  0  0\\n    3.8078    1.0913    0.3236 H   0  0  0  0  0  0  0  0  0  0  0\\n    2.5904    3.0408   -0.6140 H   0  0  0  0  0  0  0  0  0  0  0\\n   -3.8164    0.0205   -0.3029 H   0  0  0  0  0  0  0  0  0  0  0\\n   -4.2248    1.2459    0.9144 H   0  0  0  0  0  0  0  0  0  0  0\\n   -3.8130    1.7658   -0.7333 H   0  0  0  0  0  0  0  0  0  0  0\\n 13 12  1  0  0  0  0\\n  8 11  2  0  0  0  0\\n  1 15  1  0  0  0  0\\n 12  5  1  0  0  0  0\\n 14 10  1  0  0  0  0\\n  4  2  4  0  0  0  0\\n  7 13  1  0  0  0  0\\n 21  5  1  0  0  0  0\\n 11 10  1  0  0  0  0\\n  7  6  4  0  0  0  0\\n  6 11  1  0  0  0  0\\n 19  5  1  0  0  0  0\\n 17  3  1  0  0  0  0\\n  4 18  1  0  0  0  0\\n  1  3  4  0  0  0  0\\n 12  9  2  0  0  0  0\\n 20  5  1  0  0  0  0\\n  7  2  4  0  0  0  0\\n 16  2  1  0  0  0  0\\n  4  3  4  0  0  0  0\\n  1  6  4  0  0  0  0\\nM  END\\n\");\n\tviewer_17180204058372731.setStyle({\"stick\": {}});\n\tviewer_17180204058372731.zoomTo();\nviewer_17180204058372731.render();\n});\n</script>",
      "text/html": [
       "<div id=\"3dmolviewer_17180204058372731\"  style=\"position: relative; width: 400px; height: 400px;\">\n",
       "        <p id=\"3dmolwarning_17180204058372731\" style=\"background-color:#ffcccc;color:black\">3Dmol.js failed to load for some reason.  Please check your browser console for error messages.<br></p>\n",
       "        </div>\n",
       "<script>\n",
       "\n",
       "var loadScriptAsync = function(uri){\n",
       "  return new Promise((resolve, reject) => {\n",
       "    //this is to ignore the existence of requirejs amd\n",
       "    var savedexports, savedmodule;\n",
       "    if (typeof exports !== 'undefined') savedexports = exports;\n",
       "    else exports = {}\n",
       "    if (typeof module !== 'undefined') savedmodule = module;\n",
       "    else module = {}\n",
       "\n",
       "    var tag = document.createElement('script');\n",
       "    tag.src = uri;\n",
       "    tag.async = true;\n",
       "    tag.onload = () => {\n",
       "        exports = savedexports;\n",
       "        module = savedmodule;\n",
       "        resolve();\n",
       "    };\n",
       "  var firstScriptTag = document.getElementsByTagName('script')[0];\n",
       "  firstScriptTag.parentNode.insertBefore(tag, firstScriptTag);\n",
       "});\n",
       "};\n",
       "\n",
       "if(typeof $3Dmolpromise === 'undefined') {\n",
       "$3Dmolpromise = null;\n",
       "  $3Dmolpromise = loadScriptAsync('https://cdnjs.cloudflare.com/ajax/libs/3Dmol/2.1.0/3Dmol-min.js');\n",
       "}\n",
       "\n",
       "var viewer_17180204058372731 = null;\n",
       "var warn = document.getElementById(\"3dmolwarning_17180204058372731\");\n",
       "if(warn) {\n",
       "    warn.parentNode.removeChild(warn);\n",
       "}\n",
       "$3Dmolpromise.then(function() {\n",
       "viewer_17180204058372731 = $3Dmol.createViewer(document.getElementById(\"3dmolviewer_17180204058372731\"),{backgroundColor:\"white\"});\n",
       "viewer_17180204058372731.zoomTo();\n",
       "\tviewer_17180204058372731.addModel(\"\\n\\n\\n 21 21  0  0  0  0  0  0  0  0999 V2000\\n    2.0564   -0.1654    0.3973 C   0  0  0  0  0  0  0  0  0  0  0\\n    0.6889    2.0285   -0.6482 C   0  0  0  0  0  0  0  0  0  0  0\\n    2.7407    1.0233    0.1253 C   0  0  0  0  0  0  0  0  0  0  0\\n    2.0573    2.1178   -0.4002 C   0  0  0  0  0  0  0  0  0  0  0\\n   -3.5940    1.0321    0.0459 C   0  0  0  0  0  0  0  0  0  0  0\\n    0.6774   -0.2751    0.1510 C   0  0  0  0  0  0  0  0  0  0  0\\n    0.0027    0.8423   -0.3589 C   0  0  0  0  0  0  0  0  0  0  0\\n    0.6329   -2.5453    0.9336 O   0  0  0  0  0  0  0  0  0  0  0\\n   -1.7645    1.4325    1.5657 O   0  0  0  0  0  0  0  0  0  0  0\\n   -1.2489   -1.6841    0.1298 O   0  0  0  0  0  0  0  0  0  0  0\\n    0.0528   -1.5888    0.4496 C   0  0  0  0  0  0  0  0  0  0  0\\n   -2.1520    1.1284    0.4451 C   0  0  0  0  0  0  0  0  0  0  0\\n   -1.3617    0.8283   -0.6583 O   0  0  0  0  0  0  0  0  0  0  0\\n   -1.4765   -2.6011    0.3923 H   0  0  0  0  0  0  0  0  0  0  0\\n    2.6095   -1.0117    0.8028 H   0  0  0  0  0  0  0  0  0  0  0\\n    0.1571    2.8827   -1.0582 H   0  0  0  0  0  0  0  0  0  0  0\\n    3.8078    1.0913    0.3236 H   0  0  0  0  0  0  0  0  0  0  0\\n    2.5904    3.0408   -0.6140 H   0  0  0  0  0  0  0  0  0  0  0\\n   -3.8164    0.0205   -0.3029 H   0  0  0  0  0  0  0  0  0  0  0\\n   -4.2248    1.2459    0.9144 H   0  0  0  0  0  0  0  0  0  0  0\\n   -3.8130    1.7658   -0.7333 H   0  0  0  0  0  0  0  0  0  0  0\\n 13 12  1  0  0  0  0\\n  8 11  2  0  0  0  0\\n  1 15  1  0  0  0  0\\n 12  5  1  0  0  0  0\\n 14 10  1  0  0  0  0\\n  4  2  4  0  0  0  0\\n  7 13  1  0  0  0  0\\n 21  5  1  0  0  0  0\\n 11 10  1  0  0  0  0\\n  7  6  4  0  0  0  0\\n  6 11  1  0  0  0  0\\n 19  5  1  0  0  0  0\\n 17  3  1  0  0  0  0\\n  4 18  1  0  0  0  0\\n  1  3  4  0  0  0  0\\n 12  9  2  0  0  0  0\\n 20  5  1  0  0  0  0\\n  7  2  4  0  0  0  0\\n 16  2  1  0  0  0  0\\n  4  3  4  0  0  0  0\\n  1  6  4  0  0  0  0\\nM  END\\n\");\n",
       "\tviewer_17180204058372731.setStyle({\"stick\": {}});\n",
       "\tviewer_17180204058372731.zoomTo();\n",
       "viewer_17180204058372731.render();\n",
       "});\n",
       "</script>"
      ]
     },
     "metadata": {},
     "output_type": "display_data"
    },
    {
     "data": {
      "application/3dmoljs_load.v0": "<div id=\"3dmolviewer_1718020406419106\"  style=\"position: relative; width: 400px; height: 400px;\">\n        <p id=\"3dmolwarning_1718020406419106\" style=\"background-color:#ffcccc;color:black\">3Dmol.js failed to load for some reason.  Please check your browser console for error messages.<br></p>\n        </div>\n<script>\n\nvar loadScriptAsync = function(uri){\n  return new Promise((resolve, reject) => {\n    //this is to ignore the existence of requirejs amd\n    var savedexports, savedmodule;\n    if (typeof exports !== 'undefined') savedexports = exports;\n    else exports = {}\n    if (typeof module !== 'undefined') savedmodule = module;\n    else module = {}\n\n    var tag = document.createElement('script');\n    tag.src = uri;\n    tag.async = true;\n    tag.onload = () => {\n        exports = savedexports;\n        module = savedmodule;\n        resolve();\n    };\n  var firstScriptTag = document.getElementsByTagName('script')[0];\n  firstScriptTag.parentNode.insertBefore(tag, firstScriptTag);\n});\n};\n\nif(typeof $3Dmolpromise === 'undefined') {\n$3Dmolpromise = null;\n  $3Dmolpromise = loadScriptAsync('https://cdnjs.cloudflare.com/ajax/libs/3Dmol/2.1.0/3Dmol-min.js');\n}\n\nvar viewer_1718020406419106 = null;\nvar warn = document.getElementById(\"3dmolwarning_1718020406419106\");\nif(warn) {\n    warn.parentNode.removeChild(warn);\n}\n$3Dmolpromise.then(function() {\nviewer_1718020406419106 = $3Dmol.createViewer(document.getElementById(\"3dmolviewer_1718020406419106\"),{backgroundColor:\"white\"});\nviewer_1718020406419106.zoomTo();\n\tviewer_1718020406419106.addModel(\"CT1001799864\\n\\n\\n 41 43  0  0  0  0  0  0  0  0999 V2000\\n   -0.0178    1.4649    0.0101 N   0  0  0  0  0  0  0  0  0  0  0\\n    0.0021   -0.0041    0.0020 C   0  0  0  0  0  0  0  0  0  0  0\\n    1.3024    2.1013    0.0009 C   0  0  0  0  0  0  0  0  0  0  0\\n   -0.7275    1.4547   -1.1415 C   0  0  0  0  0  0  0  0  0  0  0\\n   -0.6381   -0.0288   -1.3812 C   0  0  0  0  0  0  0  0  0  0  0\\n    1.7775   -0.4599    0.0174 S   0  0  0  0  0  0  0  0  0  0  0\\n    2.3459    1.1668    0.6702 C   0  0  0  0  0  0  0  0  0  0  0\\n    1.2362    3.4017    0.7596 C   0  0  0  0  0  0  0  0  0  0  0\\n   -1.2591    2.3445   -1.7711 O   0  0  0  0  0  0  0  0  0  0  0\\n    0.2719   -0.4137   -2.4628 N   0  0  0  0  0  0  0  0  0  0  0\\n    3.7653    1.4901    0.1995 C   0  0  0  0  0  0  0  0  0  0  0\\n    2.2435    1.2207    2.1959 C   0  0  0  0  0  0  0  0  0  0  0\\n    2.1883    4.3311    0.5828 O   0  0  0  0  0  0  0  0  0  0  0\\n    0.3260    3.6076    1.5271 O   0  0  0  0  0  0  0  0  0  0  0\\n   -0.2184   -0.9568   -3.5947 C   0  0  0  0  0  0  0  0  0  0  0\\n    0.7177   -1.3528   -4.7074 C   0  0  0  0  0  0  0  0  0  0  0\\n   -1.4129   -1.1268   -3.7178 O   0  0  0  0  0  0  0  0  0  0  0\\n   -0.0766   -1.9302   -5.8505 C   0  0  0  0  0  0  0  0  0  0  0\\n   -0.5471   -1.1027   -6.8529 C   0  0  0  0  0  0  0  0  0  0  0\\n   -0.3299   -3.2883   -5.8996 C   0  0  0  0  0  0  0  0  0  0  0\\n   -1.2758   -1.6324   -7.9014 C   0  0  0  0  0  0  0  0  0  0  0\\n   -1.0585   -3.8180   -6.9481 C   0  0  0  0  0  0  0  0  0  0  0\\n   -1.5336   -2.9897   -7.9477 C   0  0  0  0  0  0  0  0  0  0  0\\n   -0.5894   -0.4774    0.7858 H   0  0  0  0  0  0  0  0  0  0  0\\n    1.6016    2.2991   -1.0284 H   0  0  0  0  0  0  0  0  0  0  0\\n   -1.6013   -0.5373   -1.4229 H   0  0  0  0  0  0  0  0  0  0  0\\n    1.2272   -0.2778   -2.3644 H   0  0  0  0  0  0  0  0  0  0  0\\n    4.0077    2.5211    0.4573 H   0  0  0  0  0  0  0  0  0  0  0\\n    4.4717    0.8180    0.6868 H   0  0  0  0  0  0  0  0  0  0  0\\n    3.8279    1.3616   -0.8811 H   0  0  0  0  0  0  0  0  0  0  0\\n    1.2470    0.9046    2.5045 H   0  0  0  0  0  0  0  0  0  0  0\\n    2.9875    0.5553    2.6337 H   0  0  0  0  0  0  0  0  0  0  0\\n    2.4229    2.2405    2.5363 H   0  0  0  0  0  0  0  0  0  0  0\\n    2.1031    5.1492    1.0914 H   0  0  0  0  0  0  0  0  0  0  0\\n    1.2645   -0.4750   -5.0518 H   0  0  0  0  0  0  0  0  0  0  0\\n    1.4224   -2.0992   -4.3410 H   0  0  0  0  0  0  0  0  0  0  0\\n   -0.3457   -0.0423   -6.8166 H   0  0  0  0  0  0  0  0  0  0  0\\n    0.0417   -3.9355   -5.1190 H   0  0  0  0  0  0  0  0  0  0  0\\n   -1.6440   -0.9858   -8.6841 H   0  0  0  0  0  0  0  0  0  0  0\\n   -1.2561   -4.8791   -6.9867 H   0  0  0  0  0  0  0  0  0  0  0\\n   -2.1031   -3.4035   -8.7667 H   0  0  0  0  0  0  0  0  0  0  0\\n 18 20  1  0  0  0  0\\n 20 38  1  0  0  0  0\\n  1  4  1  0  0  0  0\\n  2  6  1  0  0  0  0\\n  5 26  1  0  0  0  0\\n 16 15  1  0  0  0  0\\n 16 36  1  0  0  0  0\\n 34 13  1  0  0  0  0\\n 32 12  1  0  0  0  0\\n 30 11  1  0  0  0  0\\n 12 33  1  0  0  0  0\\n  5  4  1  0  0  0  0\\n 21 23  2  0  0  0  0\\n 23 22  1  0  0  0  0\\n 21 39  1  0  0  0  0\\n 19 21  1  0  0  0  0\\n 31 12  1  0  0  0  0\\n 15 17  2  0  0  0  0\\n  7  6  1  0  0  0  0\\n  7 11  1  0  0  0  0\\n 29 11  1  0  0  0  0\\n  9  4  2  0  0  0  0\\n  7  3  1  0  0  0  0\\n 20 22  2  0  0  0  0\\n 10 15  1  0  0  0  0\\n  2 24  1  0  0  0  0\\n 11 28  1  0  0  0  0\\n 14  8  2  0  0  0  0\\n  2  1  1  0  0  0  0\\n 23 41  1  0  0  0  0\\n  2  5  1  0  0  0  0\\n 19 37  1  0  0  0  0\\n 10 27  1  0  0  0  0\\n  1  3  1  0  0  0  0\\n 16 18  1  0  0  0  0\\n 16 35  1  0  0  0  0\\n 12  7  1  0  0  0  0\\n 13  8  1  0  0  0  0\\n 40 22  1  0  0  0  0\\n  5 10  1  0  0  0  0\\n  8  3  1  0  0  0  0\\n 25  3  1  0  0  0  0\\n 19 18  2  0  0  0  0\\nM  END\\n\");\n\tviewer_1718020406419106.setStyle({\"stick\": {}});\n\tviewer_1718020406419106.zoomTo();\nviewer_1718020406419106.render();\n});\n</script>",
      "text/html": [
       "<div id=\"3dmolviewer_1718020406419106\"  style=\"position: relative; width: 400px; height: 400px;\">\n",
       "        <p id=\"3dmolwarning_1718020406419106\" style=\"background-color:#ffcccc;color:black\">3Dmol.js failed to load for some reason.  Please check your browser console for error messages.<br></p>\n",
       "        </div>\n",
       "<script>\n",
       "\n",
       "var loadScriptAsync = function(uri){\n",
       "  return new Promise((resolve, reject) => {\n",
       "    //this is to ignore the existence of requirejs amd\n",
       "    var savedexports, savedmodule;\n",
       "    if (typeof exports !== 'undefined') savedexports = exports;\n",
       "    else exports = {}\n",
       "    if (typeof module !== 'undefined') savedmodule = module;\n",
       "    else module = {}\n",
       "\n",
       "    var tag = document.createElement('script');\n",
       "    tag.src = uri;\n",
       "    tag.async = true;\n",
       "    tag.onload = () => {\n",
       "        exports = savedexports;\n",
       "        module = savedmodule;\n",
       "        resolve();\n",
       "    };\n",
       "  var firstScriptTag = document.getElementsByTagName('script')[0];\n",
       "  firstScriptTag.parentNode.insertBefore(tag, firstScriptTag);\n",
       "});\n",
       "};\n",
       "\n",
       "if(typeof $3Dmolpromise === 'undefined') {\n",
       "$3Dmolpromise = null;\n",
       "  $3Dmolpromise = loadScriptAsync('https://cdnjs.cloudflare.com/ajax/libs/3Dmol/2.1.0/3Dmol-min.js');\n",
       "}\n",
       "\n",
       "var viewer_1718020406419106 = null;\n",
       "var warn = document.getElementById(\"3dmolwarning_1718020406419106\");\n",
       "if(warn) {\n",
       "    warn.parentNode.removeChild(warn);\n",
       "}\n",
       "$3Dmolpromise.then(function() {\n",
       "viewer_1718020406419106 = $3Dmol.createViewer(document.getElementById(\"3dmolviewer_1718020406419106\"),{backgroundColor:\"white\"});\n",
       "viewer_1718020406419106.zoomTo();\n",
       "\tviewer_1718020406419106.addModel(\"CT1001799864\\n\\n\\n 41 43  0  0  0  0  0  0  0  0999 V2000\\n   -0.0178    1.4649    0.0101 N   0  0  0  0  0  0  0  0  0  0  0\\n    0.0021   -0.0041    0.0020 C   0  0  0  0  0  0  0  0  0  0  0\\n    1.3024    2.1013    0.0009 C   0  0  0  0  0  0  0  0  0  0  0\\n   -0.7275    1.4547   -1.1415 C   0  0  0  0  0  0  0  0  0  0  0\\n   -0.6381   -0.0288   -1.3812 C   0  0  0  0  0  0  0  0  0  0  0\\n    1.7775   -0.4599    0.0174 S   0  0  0  0  0  0  0  0  0  0  0\\n    2.3459    1.1668    0.6702 C   0  0  0  0  0  0  0  0  0  0  0\\n    1.2362    3.4017    0.7596 C   0  0  0  0  0  0  0  0  0  0  0\\n   -1.2591    2.3445   -1.7711 O   0  0  0  0  0  0  0  0  0  0  0\\n    0.2719   -0.4137   -2.4628 N   0  0  0  0  0  0  0  0  0  0  0\\n    3.7653    1.4901    0.1995 C   0  0  0  0  0  0  0  0  0  0  0\\n    2.2435    1.2207    2.1959 C   0  0  0  0  0  0  0  0  0  0  0\\n    2.1883    4.3311    0.5828 O   0  0  0  0  0  0  0  0  0  0  0\\n    0.3260    3.6076    1.5271 O   0  0  0  0  0  0  0  0  0  0  0\\n   -0.2184   -0.9568   -3.5947 C   0  0  0  0  0  0  0  0  0  0  0\\n    0.7177   -1.3528   -4.7074 C   0  0  0  0  0  0  0  0  0  0  0\\n   -1.4129   -1.1268   -3.7178 O   0  0  0  0  0  0  0  0  0  0  0\\n   -0.0766   -1.9302   -5.8505 C   0  0  0  0  0  0  0  0  0  0  0\\n   -0.5471   -1.1027   -6.8529 C   0  0  0  0  0  0  0  0  0  0  0\\n   -0.3299   -3.2883   -5.8996 C   0  0  0  0  0  0  0  0  0  0  0\\n   -1.2758   -1.6324   -7.9014 C   0  0  0  0  0  0  0  0  0  0  0\\n   -1.0585   -3.8180   -6.9481 C   0  0  0  0  0  0  0  0  0  0  0\\n   -1.5336   -2.9897   -7.9477 C   0  0  0  0  0  0  0  0  0  0  0\\n   -0.5894   -0.4774    0.7858 H   0  0  0  0  0  0  0  0  0  0  0\\n    1.6016    2.2991   -1.0284 H   0  0  0  0  0  0  0  0  0  0  0\\n   -1.6013   -0.5373   -1.4229 H   0  0  0  0  0  0  0  0  0  0  0\\n    1.2272   -0.2778   -2.3644 H   0  0  0  0  0  0  0  0  0  0  0\\n    4.0077    2.5211    0.4573 H   0  0  0  0  0  0  0  0  0  0  0\\n    4.4717    0.8180    0.6868 H   0  0  0  0  0  0  0  0  0  0  0\\n    3.8279    1.3616   -0.8811 H   0  0  0  0  0  0  0  0  0  0  0\\n    1.2470    0.9046    2.5045 H   0  0  0  0  0  0  0  0  0  0  0\\n    2.9875    0.5553    2.6337 H   0  0  0  0  0  0  0  0  0  0  0\\n    2.4229    2.2405    2.5363 H   0  0  0  0  0  0  0  0  0  0  0\\n    2.1031    5.1492    1.0914 H   0  0  0  0  0  0  0  0  0  0  0\\n    1.2645   -0.4750   -5.0518 H   0  0  0  0  0  0  0  0  0  0  0\\n    1.4224   -2.0992   -4.3410 H   0  0  0  0  0  0  0  0  0  0  0\\n   -0.3457   -0.0423   -6.8166 H   0  0  0  0  0  0  0  0  0  0  0\\n    0.0417   -3.9355   -5.1190 H   0  0  0  0  0  0  0  0  0  0  0\\n   -1.6440   -0.9858   -8.6841 H   0  0  0  0  0  0  0  0  0  0  0\\n   -1.2561   -4.8791   -6.9867 H   0  0  0  0  0  0  0  0  0  0  0\\n   -2.1031   -3.4035   -8.7667 H   0  0  0  0  0  0  0  0  0  0  0\\n 18 20  1  0  0  0  0\\n 20 38  1  0  0  0  0\\n  1  4  1  0  0  0  0\\n  2  6  1  0  0  0  0\\n  5 26  1  0  0  0  0\\n 16 15  1  0  0  0  0\\n 16 36  1  0  0  0  0\\n 34 13  1  0  0  0  0\\n 32 12  1  0  0  0  0\\n 30 11  1  0  0  0  0\\n 12 33  1  0  0  0  0\\n  5  4  1  0  0  0  0\\n 21 23  2  0  0  0  0\\n 23 22  1  0  0  0  0\\n 21 39  1  0  0  0  0\\n 19 21  1  0  0  0  0\\n 31 12  1  0  0  0  0\\n 15 17  2  0  0  0  0\\n  7  6  1  0  0  0  0\\n  7 11  1  0  0  0  0\\n 29 11  1  0  0  0  0\\n  9  4  2  0  0  0  0\\n  7  3  1  0  0  0  0\\n 20 22  2  0  0  0  0\\n 10 15  1  0  0  0  0\\n  2 24  1  0  0  0  0\\n 11 28  1  0  0  0  0\\n 14  8  2  0  0  0  0\\n  2  1  1  0  0  0  0\\n 23 41  1  0  0  0  0\\n  2  5  1  0  0  0  0\\n 19 37  1  0  0  0  0\\n 10 27  1  0  0  0  0\\n  1  3  1  0  0  0  0\\n 16 18  1  0  0  0  0\\n 16 35  1  0  0  0  0\\n 12  7  1  0  0  0  0\\n 13  8  1  0  0  0  0\\n 40 22  1  0  0  0  0\\n  5 10  1  0  0  0  0\\n  8  3  1  0  0  0  0\\n 25  3  1  0  0  0  0\\n 19 18  2  0  0  0  0\\nM  END\\n\");\n",
       "\tviewer_1718020406419106.setStyle({\"stick\": {}});\n",
       "\tviewer_1718020406419106.zoomTo();\n",
       "viewer_1718020406419106.render();\n",
       "});\n",
       "</script>"
      ]
     },
     "metadata": {},
     "output_type": "display_data"
    },
    {
     "data": {
      "application/3dmoljs_load.v0": "<div id=\"3dmolviewer_1718020408789772\"  style=\"position: relative; width: 400px; height: 400px;\">\n        <p id=\"3dmolwarning_1718020408789772\" style=\"background-color:#ffcccc;color:black\">3Dmol.js failed to load for some reason.  Please check your browser console for error messages.<br></p>\n        </div>\n<script>\n\nvar loadScriptAsync = function(uri){\n  return new Promise((resolve, reject) => {\n    //this is to ignore the existence of requirejs amd\n    var savedexports, savedmodule;\n    if (typeof exports !== 'undefined') savedexports = exports;\n    else exports = {}\n    if (typeof module !== 'undefined') savedmodule = module;\n    else module = {}\n\n    var tag = document.createElement('script');\n    tag.src = uri;\n    tag.async = true;\n    tag.onload = () => {\n        exports = savedexports;\n        module = savedmodule;\n        resolve();\n    };\n  var firstScriptTag = document.getElementsByTagName('script')[0];\n  firstScriptTag.parentNode.insertBefore(tag, firstScriptTag);\n});\n};\n\nif(typeof $3Dmolpromise === 'undefined') {\n$3Dmolpromise = null;\n  $3Dmolpromise = loadScriptAsync('https://cdnjs.cloudflare.com/ajax/libs/3Dmol/2.1.0/3Dmol-min.js');\n}\n\nvar viewer_1718020408789772 = null;\nvar warn = document.getElementById(\"3dmolwarning_1718020408789772\");\nif(warn) {\n    warn.parentNode.removeChild(warn);\n}\n$3Dmolpromise.then(function() {\nviewer_1718020408789772 = $3Dmol.createViewer(document.getElementById(\"3dmolviewer_1718020408789772\"),{backgroundColor:\"white\"});\nviewer_1718020408789772.zoomTo();\n\tviewer_1718020408789772.addModel(\"1pef.cif\\n\\n\\n162153  0  0  0  0  0  0  0  0999 V2000\\n    3.5250   -6.3170   13.4530 N   0  0  0  0  0  0  0  0  0  0  0\\n    3.5630   -4.8600   13.7720 C   0  0  0  0  0  0  0  0  0  0  0\\n    3.5250   -4.0990   12.4230 C   0  0  0  0  0  0  0  0  0  0  0\\n    3.6260   -4.7230   11.3570 O   0  0  0  0  0  0  0  0  0  0  0\\n    4.8080   -4.5390   14.6380 C   0  0  0  0  0  0  0  0  0  0  0\\n    6.1130   -4.2880   13.8760 C   0  0  0  0  0  0  0  0  0  0  0\\n    7.1450   -5.3930   14.0180 C   0  0  0  0  0  0  0  0  0  0  0\\n    6.9000   -6.5200   13.5240 O   0  0  0  0  0  0  0  0  0  0  0\\n    8.2210   -5.1250   14.6070 O   0  0  0  0  0  0  0  0  0  0  0\\n    3.3790   -2.7800   12.4590 N   0  0  0  0  0  0  0  0  0  0  0\\n    3.2610   -1.9920   11.2380 C   0  0  0  0  0  0  0  0  0  0  0\\n    4.4320   -2.1030   10.2790 C   0  0  0  0  0  0  0  0  0  0  0\\n    4.2330   -2.1300    9.0660 O   0  0  0  0  0  0  0  0  0  0  0\\n    3.0240   -0.5140   11.5370 C   0  0  0  0  0  0  0  0  0  0  0\\n    1.6490   -0.2090   12.1080 C   0  0  0  0  0  0  0  0  0  0  0\\n    1.3110    1.2600   11.9880 C   0  0  0  0  0  0  0  0  0  0  0\\n    2.2110    2.1400   11.9940 O   0  0  0  0  0  0  0  0  0  0  0\\n    0.0330    1.5460   11.8030 N   0  0  0  0  0  0  0  0  0  0  0\\n    5.6430   -2.0760   10.8210 N   0  0  0  0  0  0  0  0  0  0  0\\n    6.8390   -2.1720    9.9880 C   0  0  0  0  0  0  0  0  0  0  0\\n    6.8620   -3.4720    9.1500 C   0  0  0  0  0  0  0  0  0  0  0\\n    7.1910   -3.4570    7.9550 O   0  0  0  0  0  0  0  0  0  0  0\\n    8.1020   -2.0690   10.8660 C   0  0  0  0  0  0  0  0  0  0  0\\n    9.4500   -2.2990   10.1750 C   0  0  0  0  0  0  0  0  0  0  0\\n    9.6420   -1.2410    9.1010 C   0  0  0  0  0  0  0  0  0  0  0\\n   10.5580   -2.2240   11.2030 C   0  0  0  0  0  0  0  0  0  0  0\\n    6.5250   -4.5880    9.7900 N   0  0  0  0  0  0  0  0  0  0  0\\n    6.5130   -5.8660    9.1010 C   0  0  0  0  0  0  0  0  0  0  0\\n    5.4620   -5.8200    7.9710 C   0  0  0  0  0  0  0  0  0  0  0\\n    5.7370   -6.2250    6.8190 O   0  0  0  0  0  0  0  0  0  0  0\\n    6.1910   -7.0040   10.1120 C   0  0  0  0  0  0  0  0  0  0  0\\n    6.1460   -8.4520    9.5840 C   0  0  0  0  0  0  0  0  0  0  0\\n    4.8090   -8.7560    8.9190 C   0  0  0  0  0  0  0  0  0  0  0\\n    7.2960   -8.7150    8.6020 C   0  0  0  0  0  0  0  0  0  0  0\\n    4.2680   -5.3320    8.2800 N   0  0  0  0  0  0  0  0  0  0  0\\n    3.2180   -5.2850    7.2730 C   0  0  0  0  0  0  0  0  0  0  0\\n    3.5980   -4.3630    6.1010 C   0  0  0  0  0  0  0  0  0  0  0\\n    3.2880   -4.6560    4.9360 O   0  0  0  0  0  0  0  0  0  0  0\\n    1.8970   -4.8990    7.9180 C   0  0  0  0  0  0  0  0  0  0  0\\n    1.3420   -6.0130    8.8120 C   0  0  0  0  0  0  0  0  0  0  0\\n    1.1660   -7.2770    7.9630 C   0  0  0  0  0  0  0  0  0  0  0\\n    0.2820   -8.3780    8.5750 C   0  0  0  0  0  0  0  0  0  0  0\\n    0.1210   -9.4860    7.5580 N   0  0  0  0  0  0  0  0  0  0  0\\n    4.3180   -3.2820    6.3880 N   0  0  0  0  0  0  0  0  0  0  0\\n    4.7680   -2.3710    5.3260 C   0  0  0  0  0  0  0  0  0  0  0\\n    5.7760   -3.1300    4.4310 C   0  0  0  0  0  0  0  0  0  0  0\\n    5.6710   -3.0850    3.1850 O   0  0  0  0  0  0  0  0  0  0  0\\n    5.4050   -1.0840    5.9230 C   0  0  0  0  0  0  0  0  0  0  0\\n    6.7560   -3.7910    5.0470 N   0  0  0  0  0  0  0  0  0  0  0\\n    7.7380   -4.5500    4.2950 C   0  0  0  0  0  0  0  0  0  0  0\\n    7.0870   -5.6400    3.4570 C   0  0  0  0  0  0  0  0  0  0  0\\n    7.4430   -5.8160    2.2970 O   0  0  0  0  0  0  0  0  0  0  0\\n    8.7760   -5.1900    5.2140 C   0  0  0  0  0  0  0  0  0  0  0\\n    9.8440   -4.1870    5.6520 C   0  0  0  0  0  0  0  0  0  0  0\\n   10.5240   -4.6870    6.9150 C   0  0  0  0  0  0  0  0  0  0  0\\n   10.8120   -3.9690    4.5030 C   0  0  0  0  0  0  0  0  0  0  0\\n    6.1480   -6.3800    4.0380 N   0  0  0  0  0  0  0  0  0  0  0\\n    5.4930   -7.4440    3.2890 C   0  0  0  0  0  0  0  0  0  0  0\\n    4.8180   -6.9020    2.0110 C   0  0  0  0  0  0  0  0  0  0  0\\n    4.9350   -7.4870    0.9390 O   0  0  0  0  0  0  0  0  0  0  0\\n    4.4570   -8.1670    4.1650 C   0  0  0  0  0  0  0  0  0  0  0\\n    3.7580   -9.2940    3.4280 C   0  0  0  0  0  0  0  0  0  0  0\\n    2.5600   -9.8890    4.1990 C   0  0  0  0  0  0  0  0  0  0  0\\n    1.9050   -9.1870    4.9940 O   0  0  0  0  0  0  0  0  0  0  0\\n    2.2550  -11.0560    3.9590 O   0  0  0  0  0  0  0  0  0  0  0\\n    4.1060   -5.7980    2.1510 N   0  0  0  0  0  0  0  0  0  0  0\\n    3.3980   -5.1710    1.0290 C   0  0  0  0  0  0  0  0  0  0  0\\n    4.3940   -4.6720   -0.0230 C   0  0  0  0  0  0  0  0  0  0  0\\n    4.2090   -4.9160   -1.2350 O   0  0  0  0  0  0  0  0  0  0  0\\n    2.5310   -4.0070    1.5420 C   0  0  0  0  0  0  0  0  0  0  0\\n    1.8810   -3.1960    0.4470 C   0  0  0  0  0  0  0  0  0  0  0\\n    0.8790   -3.7450   -0.3420 C   0  0  0  0  0  0  0  0  0  0  0\\n    2.3080   -1.8920    0.1950 C   0  0  0  0  0  0  0  0  0  0  0\\n    0.2990   -2.9910   -1.3980 C   0  0  0  0  0  0  0  0  0  0  0\\n    1.7540   -1.1390   -0.8390 C   0  0  0  0  0  0  0  0  0  0  0\\n    0.7420   -1.7000   -1.6420 C   0  0  0  0  0  0  0  0  0  0  0\\n    5.4600   -4.0010    0.4370 N   0  0  0  0  0  0  0  0  0  0  0\\n    6.4410   -3.4670   -0.5100 C   0  0  0  0  0  0  0  0  0  0  0\\n    7.1650   -4.5920   -1.2620 C   0  0  0  0  0  0  0  0  0  0  0\\n    7.3500   -4.5160   -2.4930 O   0  0  0  0  0  0  0  0  0  0  0\\n    7.4330   -2.5060    0.1770 C   0  0  0  0  0  0  0  0  0  0  0\\n    6.7670   -1.2570    0.7670 C   0  0  0  0  0  0  0  0  0  0  0\\n    7.7210   -0.5360    1.7210 C   0  0  0  0  0  0  0  0  0  0  0\\n    6.3070   -0.3040   -0.3600 C   0  0  0  0  0  0  0  0  0  0  0\\n    7.5490   -5.6520   -0.5490 N   0  0  0  0  0  0  0  0  0  0  0\\n    8.2340   -6.7530   -1.2030 C   0  0  0  0  0  0  0  0  0  0  0\\n    7.2880   -7.4740   -2.1780 C   0  0  0  0  0  0  0  0  0  0  0\\n    7.7170   -7.9230   -3.2460 O   0  0  0  0  0  0  0  0  0  0  0\\n    8.8490   -7.7120   -0.1710 C   0  0  0  0  0  0  0  0  0  0  0\\n   10.0270   -7.0720    0.5890 C   0  0  0  0  0  0  0  0  0  0  0\\n   10.4540   -7.9880    1.7490 C   0  0  0  0  0  0  0  0  0  0  0\\n   11.1950   -6.7530   -0.3560 C   0  0  0  0  0  0  0  0  0  0  0\\n    6.0050   -7.5900   -1.8160 N   0  0  0  0  0  0  0  0  0  0  0\\n    5.0330   -8.2170   -2.7050 C   0  0  0  0  0  0  0  0  0  0  0\\n    4.9840   -7.4240   -4.0420 C   0  0  0  0  0  0  0  0  0  0  0\\n    4.9130   -8.0260   -5.1430 O   0  0  0  0  0  0  0  0  0  0  0\\n    3.6510   -8.2130   -2.0500 C   0  0  0  0  0  0  0  0  0  0  0\\n    2.5390   -8.4980   -3.0200 C   0  0  0  0  0  0  0  0  0  0  0\\n    1.2230   -8.2320   -2.3800 C   0  0  0  0  0  0  0  0  0  0  0\\n    0.5430   -6.9760   -2.9150 C   0  0  0  0  0  0  0  0  0  0  0\\n    0.0560   -7.1420   -4.3370 N   0  0  0  0  0  0  0  0  0  0  0\\n    4.9780   -6.0920   -3.9410 N   0  0  0  0  0  0  0  0  0  0  0\\n    4.9020   -5.2330   -5.1250 C   0  0  0  0  0  0  0  0  0  0  0\\n    6.1520   -5.3920   -5.9780 C   0  0  0  0  0  0  0  0  0  0  0\\n    6.0550   -5.4400   -7.1970 O   0  0  0  0  0  0  0  0  0  0  0\\n    4.7100   -3.7620   -4.7390 C   0  0  0  0  0  0  0  0  0  0  0\\n    3.3830   -3.4500   -4.0290 C   0  0  0  0  0  0  0  0  0  0  0\\n    2.1880   -3.7010   -4.8870 C   0  0  0  0  0  0  0  0  0  0  0\\n    2.0850   -3.0970   -5.9600 O   0  0  0  0  0  0  0  0  0  0  0\\n    1.3230   -4.5010   -4.5100 O   0  0  0  0  0  0  0  0  0  0  0\\n    7.3080   -5.5290   -5.3340 N   0  0  0  0  0  0  0  0  0  0  0\\n    8.5590   -5.7260   -6.0600 C   0  0  0  0  0  0  0  0  0  0  0\\n    8.5330   -7.0950   -6.7530 C   0  0  0  0  0  0  0  0  0  0  0\\n    8.9020   -7.2080   -7.9300 O   0  0  0  0  0  0  0  0  0  0  0\\n    9.7460   -5.6430   -5.0990 C   0  0  0  0  0  0  0  0  0  0  0\\n   11.1430   -5.5880   -5.7230 C   0  0  0  0  0  0  0  0  0  0  0\\n   11.2680   -4.3760   -6.6920 C   0  0  0  0  0  0  0  0  0  0  0\\n   12.1850   -5.5230   -4.6060 C   0  0  0  0  0  0  0  0  0  0  0\\n    8.0610   -8.1250   -6.0490 N   0  0  0  0  0  0  0  0  0  0  0\\n    7.9820   -9.4770   -6.6250 C   0  0  0  0  0  0  0  0  0  0  0\\n    7.0640   -9.5460   -7.8470 C   0  0  0  0  0  0  0  0  0  0  0\\n    7.2940  -10.3290   -8.7710 O   0  0  0  0  0  0  0  0  0  0  0\\n    7.4610  -10.4860   -5.5930 C   0  0  0  0  0  0  0  0  0  0  0\\n    8.4020  -11.5090   -4.9660 C   0  0  0  0  0  0  0  0  0  0  0\\n    7.6120  -12.3210   -3.9210 C   0  0  0  0  0  0  0  0  0  0  0\\n    8.9820  -12.4220   -6.0130 C   0  0  0  0  0  0  0  0  0  0  0\\n    6.0130   -8.7420   -7.8530 N   0  0  0  0  0  0  0  0  0  0  0\\n    5.1000   -8.7550   -8.9800 C   0  0  0  0  0  0  0  0  0  0  0\\n    5.7700   -8.3180  -10.2650 C   0  0  0  0  0  0  0  0  0  0  0\\n    5.2570   -8.5700  -11.3440 O   0  0  0  0  0  0  0  0  0  0  0\\n    3.8660   -7.8790   -8.7130 C   0  0  0  0  0  0  0  0  0  0  0\\n    2.9670   -8.4760   -7.6420 C   0  0  0  0  0  0  0  0  0  0  0\\n    1.6230   -7.7350   -7.4580 C   0  0  0  0  0  0  0  0  0  0  0\\n    1.2830   -6.8810   -8.3290 O   0  0  0  0  0  0  0  0  0  0  0\\n    0.9040   -8.0510   -6.4630 O   0  0  0  0  0  0  0  0  0  0  0\\n    6.9170   -7.6790  -10.1590 N   0  0  0  0  0  0  0  0  0  0  0\\n    7.6050   -7.2150  -11.3570 C   0  0  0  0  0  0  0  0  0  0  0\\n    8.5520   -8.2230  -12.0130 C   0  0  0  0  0  0  0  0  0  0  0\\n    9.0480   -7.9760  -13.1130 O   0  0  0  0  0  0  0  0  0  0  0\\n    8.3250   -5.9130  -11.0360 C   0  0  0  0  0  0  0  0  0  0  0\\n    7.3280   -4.8440  -10.5540 C   0  0  0  0  0  0  0  0  0  0  0\\n    8.0550   -3.6220  -10.0880 C   0  0  0  0  0  0  0  0  0  0  0\\n    7.0860   -2.6190   -9.4750 C   0  0  0  0  0  0  0  0  0  0  0\\n    6.0950   -2.0960  -10.4390 N   0  0  0  0  0  0  0  0  0  0  0\\n    8.7250   -9.3740  -11.3790 N   0  0  0  0  0  0  0  0  0  0  0\\n    9.6340  -10.4040  -11.8590 C   0  0  0  0  0  0  0  0  0  0  0\\n    8.9700  -11.3680  -12.8270 C   0  0  0  0  0  0  0  0  0  0  0\\n    9.6170  -11.7960  -13.8050 O   0  0  0  0  0  0  0  0  0  0  0\\n   10.1860  -11.1680  -10.6500 C   0  0  0  0  0  0  0  0  0  0  0\\n   11.3420  -12.1320  -10.8930 C   0  0  0  0  0  0  0  0  0  0  0\\n   12.5530  -11.3850  -11.4150 C   0  0  0  0  0  0  0  0  0  0  0\\n   11.6570  -12.8380   -9.6010 C   0  0  0  0  0  0  0  0  0  0  0\\n    7.8230  -11.7350  -12.5750 O   0  0  0  0  0  0  0  0  0  0  0\\n   -4.0050   -6.7890    8.0130 O   0  0  0  0  0  0  0  0  0  0  0\\n    1.8080  -11.7180    7.8580 O   0  0  0  0  0  0  0  0  0  0  0\\n    1.0160   -6.2790    4.3600 O   0  0  0  0  0  0  0  0  0  0  0\\n   -1.2280   -5.2890    5.4100 O   0  0  0  0  0  0  0  0  0  0  0\\n   -3.4270   -9.5480    8.9580 O   0  0  0  0  0  0  0  0  0  0  0\\n    6.0280   -1.0430   13.4540 O   0  0  0  0  0  0  0  0  0  0  0\\n    5.2050    2.0170   13.6510 O   0  0  0  0  0  0  0  0  0  0  0\\n    0.5940   -3.0680   14.5600 O   0  0  0  0  0  0  0  0  0  0  0\\n   -3.8720   -5.2740    5.8060 O   0  0  0  0  0  0  0  0  0  0  0\\n 32 34  1  0  0  0  0\\n 40 41  1  0  0  0  0\\n 32 31  1  0  0  0  0\\n 21 20  1  0  0  0  0\\n  5  6  1  0  0  0  0\\n133134  2  0  0  0  0\\n121120  1  0  0  0  0\\n 86 87  1  0  0  0  0\\n 13 12  2  0  0  0  0\\n112111  1  0  0  0  0\\n147146  1  0  0  0  0\\n 17 16  2  0  0  0  0\\n 68 69  2  0  0  0  0\\n150149  1  0  0  0  0\\n 20 19  1  0  0  0  0\\n 46 47  2  0  0  0  0\\n 28 31  1  0  0  0  0\\n 30 29  2  0  0  0  0\\n 10  3  1  0  0  0  0\\n132131  1  0  0  0  0\\n121127  1  0  0  0  0\\n145146  1  0  0  0  0\\n 98 97  1  0  0  0  0\\n133135  2  0  0  0  0\\n 49 50  1  0  0  0  0\\n 93 87  1  0  0  0  0\\n 99 98  1  0  0  0  0\\n 89 90  1  0  0  0  0\\n 56 54  1  0  0  0  0\\n119120  1  0  0  0  0\\n  1  2  1  0  0  0  0\\n 70 67  1  0  0  0  0\\n118116  1  0  0  0  0\\n136137  1  0  0  0  0\\n149146  1  0  0  0  0\\n103104  1  0  0  0  0\\n  7  8  2  0  0  0  0\\n 74 76  4  0  0  0  0\\n 67 66  1  0  0  0  0\\n 10 11  1  0  0  0  0\\n147148  2  0  0  0  0\\n 63 64  2  0  0  0  0\\n 45 48  1  0  0  0  0\\n120123  1  0  0  0  0\\n 63 65  2  0  0  0  0\\n 82 83  1  0  0  0  0\\n 53 50  1  0  0  0  0\\n 88 87  2  0  0  0  0\\n 79 80  2  0  0  0  0\\n141142  1  0  0  0  0\\n 40 39  1  0  0  0  0\\n 92 90  1  0  0  0  0\\n 86 89  1  0  0  0  0\\n119113  1  0  0  0  0\\n115112  1  0  0  0  0\\n137138  1  0  0  0  0\\n 36 35  1  0  0  0  0\\n115116  1  0  0  0  0\\n124125  1  0  0  0  0\\n  7  9  2  0  0  0  0\\n 46 49  1  0  0  0  0\\n105104  2  0  0  0  0\\n112113  1  0  0  0  0\\n 45 44  1  0  0  0  0\\n 78 81  1  0  0  0  0\\n107108  1  0  0  0  0\\n108110  2  0  0  0  0\\n  7  6  1  0  0  0  0\\n 60 59  2  0  0  0  0\\n 19 12  1  0  0  0  0\\n104111  1  0  0  0  0\\n 51 52  2  0  0  0  0\\n 93 94  1  0  0  0  0\\n 76 75  4  0  0  0  0\\n 73 75  4  0  0  0  0\\n133132  1  0  0  0  0\\n101100  1  0  0  0  0\\n 42 43  1  0  0  0  0\\n128131  1  0  0  0  0\\n 41 42  1  0  0  0  0\\n 67 68  1  0  0  0  0\\n 94 95  1  0  0  0  0\\n 37 38  2  0  0  0  0\\n144143  1  0  0  0  0\\n 72 71  4  0  0  0  0\\n 28 29  1  0  0  0  0\\n 82 84  1  0  0  0  0\\n 21 27  1  0  0  0  0\\n145138  1  0  0  0  0\\n 79 85  1  0  0  0  0\\n 86 85  1  0  0  0  0\\n 78 79  1  0  0  0  0\\n 66 59  1  0  0  0  0\\n128127  1  0  0  0  0\\n 25 24  1  0  0  0  0\\n 73 71  4  0  0  0  0\\n121122  2  0  0  0  0\\n103106  1  0  0  0  0\\n151150  1  0  0  0  0\\n  3  2  1  0  0  0  0\\n128129  1  0  0  0  0\\n 62 61  1  0  0  0  0\\n 91 90  1  0  0  0  0\\n143142  1  0  0  0  0\\n124123  1  0  0  0  0\\n  5  2  1  0  0  0  0\\n136129  2  0  0  0  0\\n107106  1  0  0  0  0\\n 54 53  1  0  0  0  0\\n 58 61  1  0  0  0  0\\n 77 78  1  0  0  0  0\\n  4  3  2  0  0  0  0\\n 82 81  1  0  0  0  0\\n 58 59  1  0  0  0  0\\n103102  1  0  0  0  0\\n 11 12  1  0  0  0  0\\n 33 32  1  0  0  0  0\\n 74 72  4  0  0  0  0\\n 28 27  1  0  0  0  0\\n153147  2  0  0  0  0\\n 57 58  1  0  0  0  0\\n 94 97  1  0  0  0  0\\n 51 50  1  0  0  0  0\\n 23 24  1  0  0  0  0\\n 26 24  1  0  0  0  0\\n141140  1  0  0  0  0\\n 46 45  1  0  0  0  0\\n 21 22  2  0  0  0  0\\n102 95  1  0  0  0  0\\n 36 39  1  0  0  0  0\\n152150  1  0  0  0  0\\n114113  2  0  0  0  0\\n 63 62  1  0  0  0  0\\n 14 15  1  0  0  0  0\\n 57 51  1  0  0  0  0\\n100 99  1  0  0  0  0\\n137140  1  0  0  0  0\\n130129  2  0  0  0  0\\n117116  1  0  0  0  0\\n 23 20  1  0  0  0  0\\n108109  2  0  0  0  0\\n 15 16  1  0  0  0  0\\n 96 95  2  0  0  0  0\\n 37 44  1  0  0  0  0\\n126124  1  0  0  0  0\\n 70 71  1  0  0  0  0\\n 54 55  1  0  0  0  0\\n 77 68  1  0  0  0  0\\n139138  2  0  0  0  0\\n 37 36  1  0  0  0  0\\n 35 29  1  0  0  0  0\\n 11 14  1  0  0  0  0\\n 16 18  1  0  0  0  0\\nM  END\\n\");\n\tviewer_1718020408789772.setStyle({\"stick\": {}});\n\tviewer_1718020408789772.zoomTo();\nviewer_1718020408789772.render();\n});\n</script>",
      "text/html": [
       "<div id=\"3dmolviewer_1718020408789772\"  style=\"position: relative; width: 400px; height: 400px;\">\n",
       "        <p id=\"3dmolwarning_1718020408789772\" style=\"background-color:#ffcccc;color:black\">3Dmol.js failed to load for some reason.  Please check your browser console for error messages.<br></p>\n",
       "        </div>\n",
       "<script>\n",
       "\n",
       "var loadScriptAsync = function(uri){\n",
       "  return new Promise((resolve, reject) => {\n",
       "    //this is to ignore the existence of requirejs amd\n",
       "    var savedexports, savedmodule;\n",
       "    if (typeof exports !== 'undefined') savedexports = exports;\n",
       "    else exports = {}\n",
       "    if (typeof module !== 'undefined') savedmodule = module;\n",
       "    else module = {}\n",
       "\n",
       "    var tag = document.createElement('script');\n",
       "    tag.src = uri;\n",
       "    tag.async = true;\n",
       "    tag.onload = () => {\n",
       "        exports = savedexports;\n",
       "        module = savedmodule;\n",
       "        resolve();\n",
       "    };\n",
       "  var firstScriptTag = document.getElementsByTagName('script')[0];\n",
       "  firstScriptTag.parentNode.insertBefore(tag, firstScriptTag);\n",
       "});\n",
       "};\n",
       "\n",
       "if(typeof $3Dmolpromise === 'undefined') {\n",
       "$3Dmolpromise = null;\n",
       "  $3Dmolpromise = loadScriptAsync('https://cdnjs.cloudflare.com/ajax/libs/3Dmol/2.1.0/3Dmol-min.js');\n",
       "}\n",
       "\n",
       "var viewer_1718020408789772 = null;\n",
       "var warn = document.getElementById(\"3dmolwarning_1718020408789772\");\n",
       "if(warn) {\n",
       "    warn.parentNode.removeChild(warn);\n",
       "}\n",
       "$3Dmolpromise.then(function() {\n",
       "viewer_1718020408789772 = $3Dmol.createViewer(document.getElementById(\"3dmolviewer_1718020408789772\"),{backgroundColor:\"white\"});\n",
       "viewer_1718020408789772.zoomTo();\n",
       "\tviewer_1718020408789772.addModel(\"1pef.cif\\n\\n\\n162153  0  0  0  0  0  0  0  0999 V2000\\n    3.5250   -6.3170   13.4530 N   0  0  0  0  0  0  0  0  0  0  0\\n    3.5630   -4.8600   13.7720 C   0  0  0  0  0  0  0  0  0  0  0\\n    3.5250   -4.0990   12.4230 C   0  0  0  0  0  0  0  0  0  0  0\\n    3.6260   -4.7230   11.3570 O   0  0  0  0  0  0  0  0  0  0  0\\n    4.8080   -4.5390   14.6380 C   0  0  0  0  0  0  0  0  0  0  0\\n    6.1130   -4.2880   13.8760 C   0  0  0  0  0  0  0  0  0  0  0\\n    7.1450   -5.3930   14.0180 C   0  0  0  0  0  0  0  0  0  0  0\\n    6.9000   -6.5200   13.5240 O   0  0  0  0  0  0  0  0  0  0  0\\n    8.2210   -5.1250   14.6070 O   0  0  0  0  0  0  0  0  0  0  0\\n    3.3790   -2.7800   12.4590 N   0  0  0  0  0  0  0  0  0  0  0\\n    3.2610   -1.9920   11.2380 C   0  0  0  0  0  0  0  0  0  0  0\\n    4.4320   -2.1030   10.2790 C   0  0  0  0  0  0  0  0  0  0  0\\n    4.2330   -2.1300    9.0660 O   0  0  0  0  0  0  0  0  0  0  0\\n    3.0240   -0.5140   11.5370 C   0  0  0  0  0  0  0  0  0  0  0\\n    1.6490   -0.2090   12.1080 C   0  0  0  0  0  0  0  0  0  0  0\\n    1.3110    1.2600   11.9880 C   0  0  0  0  0  0  0  0  0  0  0\\n    2.2110    2.1400   11.9940 O   0  0  0  0  0  0  0  0  0  0  0\\n    0.0330    1.5460   11.8030 N   0  0  0  0  0  0  0  0  0  0  0\\n    5.6430   -2.0760   10.8210 N   0  0  0  0  0  0  0  0  0  0  0\\n    6.8390   -2.1720    9.9880 C   0  0  0  0  0  0  0  0  0  0  0\\n    6.8620   -3.4720    9.1500 C   0  0  0  0  0  0  0  0  0  0  0\\n    7.1910   -3.4570    7.9550 O   0  0  0  0  0  0  0  0  0  0  0\\n    8.1020   -2.0690   10.8660 C   0  0  0  0  0  0  0  0  0  0  0\\n    9.4500   -2.2990   10.1750 C   0  0  0  0  0  0  0  0  0  0  0\\n    9.6420   -1.2410    9.1010 C   0  0  0  0  0  0  0  0  0  0  0\\n   10.5580   -2.2240   11.2030 C   0  0  0  0  0  0  0  0  0  0  0\\n    6.5250   -4.5880    9.7900 N   0  0  0  0  0  0  0  0  0  0  0\\n    6.5130   -5.8660    9.1010 C   0  0  0  0  0  0  0  0  0  0  0\\n    5.4620   -5.8200    7.9710 C   0  0  0  0  0  0  0  0  0  0  0\\n    5.7370   -6.2250    6.8190 O   0  0  0  0  0  0  0  0  0  0  0\\n    6.1910   -7.0040   10.1120 C   0  0  0  0  0  0  0  0  0  0  0\\n    6.1460   -8.4520    9.5840 C   0  0  0  0  0  0  0  0  0  0  0\\n    4.8090   -8.7560    8.9190 C   0  0  0  0  0  0  0  0  0  0  0\\n    7.2960   -8.7150    8.6020 C   0  0  0  0  0  0  0  0  0  0  0\\n    4.2680   -5.3320    8.2800 N   0  0  0  0  0  0  0  0  0  0  0\\n    3.2180   -5.2850    7.2730 C   0  0  0  0  0  0  0  0  0  0  0\\n    3.5980   -4.3630    6.1010 C   0  0  0  0  0  0  0  0  0  0  0\\n    3.2880   -4.6560    4.9360 O   0  0  0  0  0  0  0  0  0  0  0\\n    1.8970   -4.8990    7.9180 C   0  0  0  0  0  0  0  0  0  0  0\\n    1.3420   -6.0130    8.8120 C   0  0  0  0  0  0  0  0  0  0  0\\n    1.1660   -7.2770    7.9630 C   0  0  0  0  0  0  0  0  0  0  0\\n    0.2820   -8.3780    8.5750 C   0  0  0  0  0  0  0  0  0  0  0\\n    0.1210   -9.4860    7.5580 N   0  0  0  0  0  0  0  0  0  0  0\\n    4.3180   -3.2820    6.3880 N   0  0  0  0  0  0  0  0  0  0  0\\n    4.7680   -2.3710    5.3260 C   0  0  0  0  0  0  0  0  0  0  0\\n    5.7760   -3.1300    4.4310 C   0  0  0  0  0  0  0  0  0  0  0\\n    5.6710   -3.0850    3.1850 O   0  0  0  0  0  0  0  0  0  0  0\\n    5.4050   -1.0840    5.9230 C   0  0  0  0  0  0  0  0  0  0  0\\n    6.7560   -3.7910    5.0470 N   0  0  0  0  0  0  0  0  0  0  0\\n    7.7380   -4.5500    4.2950 C   0  0  0  0  0  0  0  0  0  0  0\\n    7.0870   -5.6400    3.4570 C   0  0  0  0  0  0  0  0  0  0  0\\n    7.4430   -5.8160    2.2970 O   0  0  0  0  0  0  0  0  0  0  0\\n    8.7760   -5.1900    5.2140 C   0  0  0  0  0  0  0  0  0  0  0\\n    9.8440   -4.1870    5.6520 C   0  0  0  0  0  0  0  0  0  0  0\\n   10.5240   -4.6870    6.9150 C   0  0  0  0  0  0  0  0  0  0  0\\n   10.8120   -3.9690    4.5030 C   0  0  0  0  0  0  0  0  0  0  0\\n    6.1480   -6.3800    4.0380 N   0  0  0  0  0  0  0  0  0  0  0\\n    5.4930   -7.4440    3.2890 C   0  0  0  0  0  0  0  0  0  0  0\\n    4.8180   -6.9020    2.0110 C   0  0  0  0  0  0  0  0  0  0  0\\n    4.9350   -7.4870    0.9390 O   0  0  0  0  0  0  0  0  0  0  0\\n    4.4570   -8.1670    4.1650 C   0  0  0  0  0  0  0  0  0  0  0\\n    3.7580   -9.2940    3.4280 C   0  0  0  0  0  0  0  0  0  0  0\\n    2.5600   -9.8890    4.1990 C   0  0  0  0  0  0  0  0  0  0  0\\n    1.9050   -9.1870    4.9940 O   0  0  0  0  0  0  0  0  0  0  0\\n    2.2550  -11.0560    3.9590 O   0  0  0  0  0  0  0  0  0  0  0\\n    4.1060   -5.7980    2.1510 N   0  0  0  0  0  0  0  0  0  0  0\\n    3.3980   -5.1710    1.0290 C   0  0  0  0  0  0  0  0  0  0  0\\n    4.3940   -4.6720   -0.0230 C   0  0  0  0  0  0  0  0  0  0  0\\n    4.2090   -4.9160   -1.2350 O   0  0  0  0  0  0  0  0  0  0  0\\n    2.5310   -4.0070    1.5420 C   0  0  0  0  0  0  0  0  0  0  0\\n    1.8810   -3.1960    0.4470 C   0  0  0  0  0  0  0  0  0  0  0\\n    0.8790   -3.7450   -0.3420 C   0  0  0  0  0  0  0  0  0  0  0\\n    2.3080   -1.8920    0.1950 C   0  0  0  0  0  0  0  0  0  0  0\\n    0.2990   -2.9910   -1.3980 C   0  0  0  0  0  0  0  0  0  0  0\\n    1.7540   -1.1390   -0.8390 C   0  0  0  0  0  0  0  0  0  0  0\\n    0.7420   -1.7000   -1.6420 C   0  0  0  0  0  0  0  0  0  0  0\\n    5.4600   -4.0010    0.4370 N   0  0  0  0  0  0  0  0  0  0  0\\n    6.4410   -3.4670   -0.5100 C   0  0  0  0  0  0  0  0  0  0  0\\n    7.1650   -4.5920   -1.2620 C   0  0  0  0  0  0  0  0  0  0  0\\n    7.3500   -4.5160   -2.4930 O   0  0  0  0  0  0  0  0  0  0  0\\n    7.4330   -2.5060    0.1770 C   0  0  0  0  0  0  0  0  0  0  0\\n    6.7670   -1.2570    0.7670 C   0  0  0  0  0  0  0  0  0  0  0\\n    7.7210   -0.5360    1.7210 C   0  0  0  0  0  0  0  0  0  0  0\\n    6.3070   -0.3040   -0.3600 C   0  0  0  0  0  0  0  0  0  0  0\\n    7.5490   -5.6520   -0.5490 N   0  0  0  0  0  0  0  0  0  0  0\\n    8.2340   -6.7530   -1.2030 C   0  0  0  0  0  0  0  0  0  0  0\\n    7.2880   -7.4740   -2.1780 C   0  0  0  0  0  0  0  0  0  0  0\\n    7.7170   -7.9230   -3.2460 O   0  0  0  0  0  0  0  0  0  0  0\\n    8.8490   -7.7120   -0.1710 C   0  0  0  0  0  0  0  0  0  0  0\\n   10.0270   -7.0720    0.5890 C   0  0  0  0  0  0  0  0  0  0  0\\n   10.4540   -7.9880    1.7490 C   0  0  0  0  0  0  0  0  0  0  0\\n   11.1950   -6.7530   -0.3560 C   0  0  0  0  0  0  0  0  0  0  0\\n    6.0050   -7.5900   -1.8160 N   0  0  0  0  0  0  0  0  0  0  0\\n    5.0330   -8.2170   -2.7050 C   0  0  0  0  0  0  0  0  0  0  0\\n    4.9840   -7.4240   -4.0420 C   0  0  0  0  0  0  0  0  0  0  0\\n    4.9130   -8.0260   -5.1430 O   0  0  0  0  0  0  0  0  0  0  0\\n    3.6510   -8.2130   -2.0500 C   0  0  0  0  0  0  0  0  0  0  0\\n    2.5390   -8.4980   -3.0200 C   0  0  0  0  0  0  0  0  0  0  0\\n    1.2230   -8.2320   -2.3800 C   0  0  0  0  0  0  0  0  0  0  0\\n    0.5430   -6.9760   -2.9150 C   0  0  0  0  0  0  0  0  0  0  0\\n    0.0560   -7.1420   -4.3370 N   0  0  0  0  0  0  0  0  0  0  0\\n    4.9780   -6.0920   -3.9410 N   0  0  0  0  0  0  0  0  0  0  0\\n    4.9020   -5.2330   -5.1250 C   0  0  0  0  0  0  0  0  0  0  0\\n    6.1520   -5.3920   -5.9780 C   0  0  0  0  0  0  0  0  0  0  0\\n    6.0550   -5.4400   -7.1970 O   0  0  0  0  0  0  0  0  0  0  0\\n    4.7100   -3.7620   -4.7390 C   0  0  0  0  0  0  0  0  0  0  0\\n    3.3830   -3.4500   -4.0290 C   0  0  0  0  0  0  0  0  0  0  0\\n    2.1880   -3.7010   -4.8870 C   0  0  0  0  0  0  0  0  0  0  0\\n    2.0850   -3.0970   -5.9600 O   0  0  0  0  0  0  0  0  0  0  0\\n    1.3230   -4.5010   -4.5100 O   0  0  0  0  0  0  0  0  0  0  0\\n    7.3080   -5.5290   -5.3340 N   0  0  0  0  0  0  0  0  0  0  0\\n    8.5590   -5.7260   -6.0600 C   0  0  0  0  0  0  0  0  0  0  0\\n    8.5330   -7.0950   -6.7530 C   0  0  0  0  0  0  0  0  0  0  0\\n    8.9020   -7.2080   -7.9300 O   0  0  0  0  0  0  0  0  0  0  0\\n    9.7460   -5.6430   -5.0990 C   0  0  0  0  0  0  0  0  0  0  0\\n   11.1430   -5.5880   -5.7230 C   0  0  0  0  0  0  0  0  0  0  0\\n   11.2680   -4.3760   -6.6920 C   0  0  0  0  0  0  0  0  0  0  0\\n   12.1850   -5.5230   -4.6060 C   0  0  0  0  0  0  0  0  0  0  0\\n    8.0610   -8.1250   -6.0490 N   0  0  0  0  0  0  0  0  0  0  0\\n    7.9820   -9.4770   -6.6250 C   0  0  0  0  0  0  0  0  0  0  0\\n    7.0640   -9.5460   -7.8470 C   0  0  0  0  0  0  0  0  0  0  0\\n    7.2940  -10.3290   -8.7710 O   0  0  0  0  0  0  0  0  0  0  0\\n    7.4610  -10.4860   -5.5930 C   0  0  0  0  0  0  0  0  0  0  0\\n    8.4020  -11.5090   -4.9660 C   0  0  0  0  0  0  0  0  0  0  0\\n    7.6120  -12.3210   -3.9210 C   0  0  0  0  0  0  0  0  0  0  0\\n    8.9820  -12.4220   -6.0130 C   0  0  0  0  0  0  0  0  0  0  0\\n    6.0130   -8.7420   -7.8530 N   0  0  0  0  0  0  0  0  0  0  0\\n    5.1000   -8.7550   -8.9800 C   0  0  0  0  0  0  0  0  0  0  0\\n    5.7700   -8.3180  -10.2650 C   0  0  0  0  0  0  0  0  0  0  0\\n    5.2570   -8.5700  -11.3440 O   0  0  0  0  0  0  0  0  0  0  0\\n    3.8660   -7.8790   -8.7130 C   0  0  0  0  0  0  0  0  0  0  0\\n    2.9670   -8.4760   -7.6420 C   0  0  0  0  0  0  0  0  0  0  0\\n    1.6230   -7.7350   -7.4580 C   0  0  0  0  0  0  0  0  0  0  0\\n    1.2830   -6.8810   -8.3290 O   0  0  0  0  0  0  0  0  0  0  0\\n    0.9040   -8.0510   -6.4630 O   0  0  0  0  0  0  0  0  0  0  0\\n    6.9170   -7.6790  -10.1590 N   0  0  0  0  0  0  0  0  0  0  0\\n    7.6050   -7.2150  -11.3570 C   0  0  0  0  0  0  0  0  0  0  0\\n    8.5520   -8.2230  -12.0130 C   0  0  0  0  0  0  0  0  0  0  0\\n    9.0480   -7.9760  -13.1130 O   0  0  0  0  0  0  0  0  0  0  0\\n    8.3250   -5.9130  -11.0360 C   0  0  0  0  0  0  0  0  0  0  0\\n    7.3280   -4.8440  -10.5540 C   0  0  0  0  0  0  0  0  0  0  0\\n    8.0550   -3.6220  -10.0880 C   0  0  0  0  0  0  0  0  0  0  0\\n    7.0860   -2.6190   -9.4750 C   0  0  0  0  0  0  0  0  0  0  0\\n    6.0950   -2.0960  -10.4390 N   0  0  0  0  0  0  0  0  0  0  0\\n    8.7250   -9.3740  -11.3790 N   0  0  0  0  0  0  0  0  0  0  0\\n    9.6340  -10.4040  -11.8590 C   0  0  0  0  0  0  0  0  0  0  0\\n    8.9700  -11.3680  -12.8270 C   0  0  0  0  0  0  0  0  0  0  0\\n    9.6170  -11.7960  -13.8050 O   0  0  0  0  0  0  0  0  0  0  0\\n   10.1860  -11.1680  -10.6500 C   0  0  0  0  0  0  0  0  0  0  0\\n   11.3420  -12.1320  -10.8930 C   0  0  0  0  0  0  0  0  0  0  0\\n   12.5530  -11.3850  -11.4150 C   0  0  0  0  0  0  0  0  0  0  0\\n   11.6570  -12.8380   -9.6010 C   0  0  0  0  0  0  0  0  0  0  0\\n    7.8230  -11.7350  -12.5750 O   0  0  0  0  0  0  0  0  0  0  0\\n   -4.0050   -6.7890    8.0130 O   0  0  0  0  0  0  0  0  0  0  0\\n    1.8080  -11.7180    7.8580 O   0  0  0  0  0  0  0  0  0  0  0\\n    1.0160   -6.2790    4.3600 O   0  0  0  0  0  0  0  0  0  0  0\\n   -1.2280   -5.2890    5.4100 O   0  0  0  0  0  0  0  0  0  0  0\\n   -3.4270   -9.5480    8.9580 O   0  0  0  0  0  0  0  0  0  0  0\\n    6.0280   -1.0430   13.4540 O   0  0  0  0  0  0  0  0  0  0  0\\n    5.2050    2.0170   13.6510 O   0  0  0  0  0  0  0  0  0  0  0\\n    0.5940   -3.0680   14.5600 O   0  0  0  0  0  0  0  0  0  0  0\\n   -3.8720   -5.2740    5.8060 O   0  0  0  0  0  0  0  0  0  0  0\\n 32 34  1  0  0  0  0\\n 40 41  1  0  0  0  0\\n 32 31  1  0  0  0  0\\n 21 20  1  0  0  0  0\\n  5  6  1  0  0  0  0\\n133134  2  0  0  0  0\\n121120  1  0  0  0  0\\n 86 87  1  0  0  0  0\\n 13 12  2  0  0  0  0\\n112111  1  0  0  0  0\\n147146  1  0  0  0  0\\n 17 16  2  0  0  0  0\\n 68 69  2  0  0  0  0\\n150149  1  0  0  0  0\\n 20 19  1  0  0  0  0\\n 46 47  2  0  0  0  0\\n 28 31  1  0  0  0  0\\n 30 29  2  0  0  0  0\\n 10  3  1  0  0  0  0\\n132131  1  0  0  0  0\\n121127  1  0  0  0  0\\n145146  1  0  0  0  0\\n 98 97  1  0  0  0  0\\n133135  2  0  0  0  0\\n 49 50  1  0  0  0  0\\n 93 87  1  0  0  0  0\\n 99 98  1  0  0  0  0\\n 89 90  1  0  0  0  0\\n 56 54  1  0  0  0  0\\n119120  1  0  0  0  0\\n  1  2  1  0  0  0  0\\n 70 67  1  0  0  0  0\\n118116  1  0  0  0  0\\n136137  1  0  0  0  0\\n149146  1  0  0  0  0\\n103104  1  0  0  0  0\\n  7  8  2  0  0  0  0\\n 74 76  4  0  0  0  0\\n 67 66  1  0  0  0  0\\n 10 11  1  0  0  0  0\\n147148  2  0  0  0  0\\n 63 64  2  0  0  0  0\\n 45 48  1  0  0  0  0\\n120123  1  0  0  0  0\\n 63 65  2  0  0  0  0\\n 82 83  1  0  0  0  0\\n 53 50  1  0  0  0  0\\n 88 87  2  0  0  0  0\\n 79 80  2  0  0  0  0\\n141142  1  0  0  0  0\\n 40 39  1  0  0  0  0\\n 92 90  1  0  0  0  0\\n 86 89  1  0  0  0  0\\n119113  1  0  0  0  0\\n115112  1  0  0  0  0\\n137138  1  0  0  0  0\\n 36 35  1  0  0  0  0\\n115116  1  0  0  0  0\\n124125  1  0  0  0  0\\n  7  9  2  0  0  0  0\\n 46 49  1  0  0  0  0\\n105104  2  0  0  0  0\\n112113  1  0  0  0  0\\n 45 44  1  0  0  0  0\\n 78 81  1  0  0  0  0\\n107108  1  0  0  0  0\\n108110  2  0  0  0  0\\n  7  6  1  0  0  0  0\\n 60 59  2  0  0  0  0\\n 19 12  1  0  0  0  0\\n104111  1  0  0  0  0\\n 51 52  2  0  0  0  0\\n 93 94  1  0  0  0  0\\n 76 75  4  0  0  0  0\\n 73 75  4  0  0  0  0\\n133132  1  0  0  0  0\\n101100  1  0  0  0  0\\n 42 43  1  0  0  0  0\\n128131  1  0  0  0  0\\n 41 42  1  0  0  0  0\\n 67 68  1  0  0  0  0\\n 94 95  1  0  0  0  0\\n 37 38  2  0  0  0  0\\n144143  1  0  0  0  0\\n 72 71  4  0  0  0  0\\n 28 29  1  0  0  0  0\\n 82 84  1  0  0  0  0\\n 21 27  1  0  0  0  0\\n145138  1  0  0  0  0\\n 79 85  1  0  0  0  0\\n 86 85  1  0  0  0  0\\n 78 79  1  0  0  0  0\\n 66 59  1  0  0  0  0\\n128127  1  0  0  0  0\\n 25 24  1  0  0  0  0\\n 73 71  4  0  0  0  0\\n121122  2  0  0  0  0\\n103106  1  0  0  0  0\\n151150  1  0  0  0  0\\n  3  2  1  0  0  0  0\\n128129  1  0  0  0  0\\n 62 61  1  0  0  0  0\\n 91 90  1  0  0  0  0\\n143142  1  0  0  0  0\\n124123  1  0  0  0  0\\n  5  2  1  0  0  0  0\\n136129  2  0  0  0  0\\n107106  1  0  0  0  0\\n 54 53  1  0  0  0  0\\n 58 61  1  0  0  0  0\\n 77 78  1  0  0  0  0\\n  4  3  2  0  0  0  0\\n 82 81  1  0  0  0  0\\n 58 59  1  0  0  0  0\\n103102  1  0  0  0  0\\n 11 12  1  0  0  0  0\\n 33 32  1  0  0  0  0\\n 74 72  4  0  0  0  0\\n 28 27  1  0  0  0  0\\n153147  2  0  0  0  0\\n 57 58  1  0  0  0  0\\n 94 97  1  0  0  0  0\\n 51 50  1  0  0  0  0\\n 23 24  1  0  0  0  0\\n 26 24  1  0  0  0  0\\n141140  1  0  0  0  0\\n 46 45  1  0  0  0  0\\n 21 22  2  0  0  0  0\\n102 95  1  0  0  0  0\\n 36 39  1  0  0  0  0\\n152150  1  0  0  0  0\\n114113  2  0  0  0  0\\n 63 62  1  0  0  0  0\\n 14 15  1  0  0  0  0\\n 57 51  1  0  0  0  0\\n100 99  1  0  0  0  0\\n137140  1  0  0  0  0\\n130129  2  0  0  0  0\\n117116  1  0  0  0  0\\n 23 20  1  0  0  0  0\\n108109  2  0  0  0  0\\n 15 16  1  0  0  0  0\\n 96 95  2  0  0  0  0\\n 37 44  1  0  0  0  0\\n126124  1  0  0  0  0\\n 70 71  1  0  0  0  0\\n 54 55  1  0  0  0  0\\n 77 68  1  0  0  0  0\\n139138  2  0  0  0  0\\n 37 36  1  0  0  0  0\\n 35 29  1  0  0  0  0\\n 11 14  1  0  0  0  0\\n 16 18  1  0  0  0  0\\nM  END\\n\");\n",
       "\tviewer_1718020408789772.setStyle({\"stick\": {}});\n",
       "\tviewer_1718020408789772.zoomTo();\n",
       "viewer_1718020408789772.render();\n",
       "});\n",
       "</script>"
      ]
     },
     "metadata": {},
     "output_type": "display_data"
    }
   ],
   "source": [
    "# XYZ format\n",
    "aspirin = psimol.Molecule.from_xyz('example_data/aspirin.xyz')\n",
    "aspirin.visualize()\n",
    "\n",
    "# MOL/SDF format\n",
    "penicillin = psimol.Molecule.from_mol('example_data/penicillin.mol')\n",
    "penicillin.visualize()\n",
    "\n",
    "# CIF format\n",
    "peptideF = psimol.Molecule.from_cif('example_data/1pef.cif')\n",
    "peptideF.visualize()"
   ]
  },
  {
   "cell_type": "markdown",
   "metadata": {},
   "source": [
    "### Parsing SMILES to 3D coordinates"
   ]
  },
  {
   "cell_type": "code",
   "execution_count": 10,
   "metadata": {},
   "outputs": [
    {
     "data": {
      "application/3dmoljs_load.v0": "<div id=\"3dmolviewer_1717889809573699\"  style=\"position: relative; width: 400px; height: 400px;\">\n        <p id=\"3dmolwarning_1717889809573699\" style=\"background-color:#ffcccc;color:black\">3Dmol.js failed to load for some reason.  Please check your browser console for error messages.<br></p>\n        </div>\n<script>\n\nvar loadScriptAsync = function(uri){\n  return new Promise((resolve, reject) => {\n    //this is to ignore the existence of requirejs amd\n    var savedexports, savedmodule;\n    if (typeof exports !== 'undefined') savedexports = exports;\n    else exports = {}\n    if (typeof module !== 'undefined') savedmodule = module;\n    else module = {}\n\n    var tag = document.createElement('script');\n    tag.src = uri;\n    tag.async = true;\n    tag.onload = () => {\n        exports = savedexports;\n        module = savedmodule;\n        resolve();\n    };\n  var firstScriptTag = document.getElementsByTagName('script')[0];\n  firstScriptTag.parentNode.insertBefore(tag, firstScriptTag);\n});\n};\n\nif(typeof $3Dmolpromise === 'undefined') {\n$3Dmolpromise = null;\n  $3Dmolpromise = loadScriptAsync('https://cdnjs.cloudflare.com/ajax/libs/3Dmol/2.1.0/3Dmol-min.js');\n}\n\nvar viewer_1717889809573699 = null;\nvar warn = document.getElementById(\"3dmolwarning_1717889809573699\");\nif(warn) {\n    warn.parentNode.removeChild(warn);\n}\n$3Dmolpromise.then(function() {\nviewer_1717889809573699 = $3Dmol.createViewer(document.getElementById(\"3dmolviewer_1717889809573699\"),{backgroundColor:\"white\"});\nviewer_1717889809573699.zoomTo();\n\tviewer_1717889809573699.addModel(\"C1CC1N2C=C(C(=O)C3=CC(=C(C=C32)N4CCNCC4)F)C(=O)O\\n\\n\\n 42 45  0  0  0  0  0  0  0  0999 V2000\\n    0.0000   -1.5000    0.0000 C   0  0  0  0  0  0  0  0  0  0  0\\n    0.0000    0.0000    0.0000 C   0  0  0  0  0  0  0  0  0  0  0\\n    1.2990   -0.7500    0.0000 C   0  0  0  0  0  0  0  0  0  0  0\\n    2.7590   -0.7500   -0.0006 N   0  0  0  0  0  0  0  0  0  0  0\\n    3.8697    0.1977   -0.0006 C   0  0  0  0  0  0  0  0  0  0  0\\n    5.1664   -0.1399   -0.0006 C   0  0  0  0  0  0  0  0  0  0  0\\n    5.5233   -1.5969   -0.0006 C   0  0  0  0  0  0  0  0  0  0  0\\n    6.7087   -1.9607   -0.0003 O   0  0  0  0  0  0  0  0  0  0  0\\n    4.4106   -2.6029   -0.0006 C   0  0  0  0  0  0  0  0  0  0  0\\n    4.5959   -4.0914   -0.0006 C   0  0  0  0  0  0  0  0  0  0  0\\n    3.5765   -4.9612   -0.0006 C   0  0  0  0  0  0  0  0  0  0  0\\n    2.1948   -4.3774   -0.0006 C   0  0  0  0  0  0  0  0  0  0  0\\n    1.9512   -3.0597   -0.0006 C   0  0  0  0  0  0  0  0  0  0  0\\n    2.9969   -2.1015   -0.0006 C   0  0  0  0  0  0  0  0  0  0  0\\n    1.1462   -5.3932   -0.0003 N   0  0  0  0  0  0  0  0  0  0  0\\n    1.6322   -6.7699   -0.0003 C   0  0  0  0  0  0  0  0  0  0  0\\n    0.6355   -7.8909   -0.0003 C   0  0  0  0  0  0  0  0  0  0  0\\n   -0.7972   -7.6099   -0.0003 N   0  0  0  0  0  0  0  0  0  0  0\\n   -1.2832   -6.2331   -0.0003 C   0  0  0  0  0  0  0  0  0  0  0\\n   -0.2865   -5.1122   -0.0003 C   0  0  0  0  0  0  0  0  0  0  0\\n    3.6472   -6.3494   -0.0011 F   0  0  0  0  0  0  0  0  0  0  0\\n    6.3305    0.8061   -0.0006 C   0  0  0  0  0  0  0  0  0  0  0\\n    6.6740    1.5432    0.9355 O   0  0  0  0  0  0  0  0  0  0  0\\n    7.0822    0.8468   -1.1572 O   0  0  0  0  0  0  0  0  0  0  0\\n   -0.2706   -1.9687    0.9230 H   0  0  0  0  0  0  0  0  0  0  0\\n   -0.2706   -1.9687   -0.9230 H   0  0  0  0  0  0  0  0  0  0  0\\n   -0.2758    0.4778   -0.9168 H   0  0  0  0  0  0  0  0  0  0  0\\n   -0.2758    0.4778    0.9168 H   0  0  0  0  0  0  0  0  0  0  0\\n    2.1016   -0.5949    0.6904 H   0  0  0  0  0  0  0  0  0  0  0\\n    3.5418    1.2162   -0.0006 H   0  0  0  0  0  0  0  0  0  0  0\\n    5.6313   -4.3613   -0.0004 H   0  0  0  0  0  0  0  0  0  0  0\\n    0.9578   -2.6622   -0.0005 H   0  0  0  0  0  0  0  0  0  0  0\\n    1.9995   -6.8689   -1.0004 H   0  0  0  0  0  0  0  0  0  0  0\\n    1.9993   -6.8687    0.9999 H   0  0  0  0  0  0  0  0  0  0  0\\n    0.7139   -8.3129   -0.9805 H   0  0  0  0  0  0  0  0  0  0  0\\n    0.7139   -8.3128    0.9799 H   0  0  0  0  0  0  0  0  0  0  0\\n   -1.4706   -8.3893    0.0021 H   0  0  0  0  0  0  0  0  0  0  0\\n   -1.6318   -6.1382    1.0069 H   0  0  0  0  0  0  0  0  0  0  0\\n   -1.6318   -6.1382   -1.0075 H   0  0  0  0  0  0  0  0  0  0  0\\n   -0.3611   -4.6837   -0.9779 H   0  0  0  0  0  0  0  0  0  0  0\\n   -0.3611   -4.6837    0.9773 H   0  0  0  0  0  0  0  0  0  0  0\\n    7.5997    0.8748   -1.9534 H   0  0  0  0  0  0  0  0  0  0  0\\n 17 35  1  0  0  0  0\\n 23 22  2  0  0  0  0\\n 11 21  1  0  0  0  0\\n 41 20  1  0  0  0  0\\n  1 26  1  0  0  0  0\\n 38 19  1  0  0  0  0\\n 31 10  1  0  0  0  0\\n  2 28  1  0  0  0  0\\n 13 12  1  0  0  0  0\\n 16 15  1  0  0  0  0\\n  2  1  1  0  0  0  0\\n  5  4  1  0  0  0  0\\n  3  1  1  0  0  0  0\\n 18 19  1  0  0  0  0\\n 24 22  1  0  0  0  0\\n  2 27  1  0  0  0  0\\n 14  9  1  0  0  0  0\\n  7  8  2  0  0  0  0\\n  5  6  2  0  0  0  0\\n 11 10  1  0  0  0  0\\n  3  2  1  0  0  0  0\\n 10  9  2  0  0  0  0\\n  3  4  1  0  0  0  0\\n 40 20  1  0  0  0  0\\n 17 16  1  0  0  0  0\\n  7  6  1  0  0  0  0\\n 39 19  1  0  0  0  0\\n 15 20  1  0  0  0  0\\n 17 18  1  0  0  0  0\\n 37 18  1  0  0  0  0\\n  7  9  1  0  0  0  0\\n 30  5  1  0  0  0  0\\n 14  4  1  0  0  0  0\\n 11 12  2  0  0  0  0\\n 16 34  1  0  0  0  0\\n 13 14  2  0  0  0  0\\n 29  3  1  0  0  0  0\\n 25  1  1  0  0  0  0\\n 17 36  1  0  0  0  0\\n 20 19  1  0  0  0  0\\n 42 24  1  0  0  0  0\\n 22  6  1  0  0  0  0\\n 13 32  1  0  0  0  0\\n 33 16  1  0  0  0  0\\n 15 12  1  0  0  0  0\\nM  END\\n\");\n\tviewer_1717889809573699.setStyle({\"stick\": {}});\n\tviewer_1717889809573699.zoomTo();\nviewer_1717889809573699.render();\n});\n</script>",
      "text/html": [
       "<div id=\"3dmolviewer_1717889809573699\"  style=\"position: relative; width: 400px; height: 400px;\">\n",
       "        <p id=\"3dmolwarning_1717889809573699\" style=\"background-color:#ffcccc;color:black\">3Dmol.js failed to load for some reason.  Please check your browser console for error messages.<br></p>\n",
       "        </div>\n",
       "<script>\n",
       "\n",
       "var loadScriptAsync = function(uri){\n",
       "  return new Promise((resolve, reject) => {\n",
       "    //this is to ignore the existence of requirejs amd\n",
       "    var savedexports, savedmodule;\n",
       "    if (typeof exports !== 'undefined') savedexports = exports;\n",
       "    else exports = {}\n",
       "    if (typeof module !== 'undefined') savedmodule = module;\n",
       "    else module = {}\n",
       "\n",
       "    var tag = document.createElement('script');\n",
       "    tag.src = uri;\n",
       "    tag.async = true;\n",
       "    tag.onload = () => {\n",
       "        exports = savedexports;\n",
       "        module = savedmodule;\n",
       "        resolve();\n",
       "    };\n",
       "  var firstScriptTag = document.getElementsByTagName('script')[0];\n",
       "  firstScriptTag.parentNode.insertBefore(tag, firstScriptTag);\n",
       "});\n",
       "};\n",
       "\n",
       "if(typeof $3Dmolpromise === 'undefined') {\n",
       "$3Dmolpromise = null;\n",
       "  $3Dmolpromise = loadScriptAsync('https://cdnjs.cloudflare.com/ajax/libs/3Dmol/2.1.0/3Dmol-min.js');\n",
       "}\n",
       "\n",
       "var viewer_1717889809573699 = null;\n",
       "var warn = document.getElementById(\"3dmolwarning_1717889809573699\");\n",
       "if(warn) {\n",
       "    warn.parentNode.removeChild(warn);\n",
       "}\n",
       "$3Dmolpromise.then(function() {\n",
       "viewer_1717889809573699 = $3Dmol.createViewer(document.getElementById(\"3dmolviewer_1717889809573699\"),{backgroundColor:\"white\"});\n",
       "viewer_1717889809573699.zoomTo();\n",
       "\tviewer_1717889809573699.addModel(\"C1CC1N2C=C(C(=O)C3=CC(=C(C=C32)N4CCNCC4)F)C(=O)O\\n\\n\\n 42 45  0  0  0  0  0  0  0  0999 V2000\\n    0.0000   -1.5000    0.0000 C   0  0  0  0  0  0  0  0  0  0  0\\n    0.0000    0.0000    0.0000 C   0  0  0  0  0  0  0  0  0  0  0\\n    1.2990   -0.7500    0.0000 C   0  0  0  0  0  0  0  0  0  0  0\\n    2.7590   -0.7500   -0.0006 N   0  0  0  0  0  0  0  0  0  0  0\\n    3.8697    0.1977   -0.0006 C   0  0  0  0  0  0  0  0  0  0  0\\n    5.1664   -0.1399   -0.0006 C   0  0  0  0  0  0  0  0  0  0  0\\n    5.5233   -1.5969   -0.0006 C   0  0  0  0  0  0  0  0  0  0  0\\n    6.7087   -1.9607   -0.0003 O   0  0  0  0  0  0  0  0  0  0  0\\n    4.4106   -2.6029   -0.0006 C   0  0  0  0  0  0  0  0  0  0  0\\n    4.5959   -4.0914   -0.0006 C   0  0  0  0  0  0  0  0  0  0  0\\n    3.5765   -4.9612   -0.0006 C   0  0  0  0  0  0  0  0  0  0  0\\n    2.1948   -4.3774   -0.0006 C   0  0  0  0  0  0  0  0  0  0  0\\n    1.9512   -3.0597   -0.0006 C   0  0  0  0  0  0  0  0  0  0  0\\n    2.9969   -2.1015   -0.0006 C   0  0  0  0  0  0  0  0  0  0  0\\n    1.1462   -5.3932   -0.0003 N   0  0  0  0  0  0  0  0  0  0  0\\n    1.6322   -6.7699   -0.0003 C   0  0  0  0  0  0  0  0  0  0  0\\n    0.6355   -7.8909   -0.0003 C   0  0  0  0  0  0  0  0  0  0  0\\n   -0.7972   -7.6099   -0.0003 N   0  0  0  0  0  0  0  0  0  0  0\\n   -1.2832   -6.2331   -0.0003 C   0  0  0  0  0  0  0  0  0  0  0\\n   -0.2865   -5.1122   -0.0003 C   0  0  0  0  0  0  0  0  0  0  0\\n    3.6472   -6.3494   -0.0011 F   0  0  0  0  0  0  0  0  0  0  0\\n    6.3305    0.8061   -0.0006 C   0  0  0  0  0  0  0  0  0  0  0\\n    6.6740    1.5432    0.9355 O   0  0  0  0  0  0  0  0  0  0  0\\n    7.0822    0.8468   -1.1572 O   0  0  0  0  0  0  0  0  0  0  0\\n   -0.2706   -1.9687    0.9230 H   0  0  0  0  0  0  0  0  0  0  0\\n   -0.2706   -1.9687   -0.9230 H   0  0  0  0  0  0  0  0  0  0  0\\n   -0.2758    0.4778   -0.9168 H   0  0  0  0  0  0  0  0  0  0  0\\n   -0.2758    0.4778    0.9168 H   0  0  0  0  0  0  0  0  0  0  0\\n    2.1016   -0.5949    0.6904 H   0  0  0  0  0  0  0  0  0  0  0\\n    3.5418    1.2162   -0.0006 H   0  0  0  0  0  0  0  0  0  0  0\\n    5.6313   -4.3613   -0.0004 H   0  0  0  0  0  0  0  0  0  0  0\\n    0.9578   -2.6622   -0.0005 H   0  0  0  0  0  0  0  0  0  0  0\\n    1.9995   -6.8689   -1.0004 H   0  0  0  0  0  0  0  0  0  0  0\\n    1.9993   -6.8687    0.9999 H   0  0  0  0  0  0  0  0  0  0  0\\n    0.7139   -8.3129   -0.9805 H   0  0  0  0  0  0  0  0  0  0  0\\n    0.7139   -8.3128    0.9799 H   0  0  0  0  0  0  0  0  0  0  0\\n   -1.4706   -8.3893    0.0021 H   0  0  0  0  0  0  0  0  0  0  0\\n   -1.6318   -6.1382    1.0069 H   0  0  0  0  0  0  0  0  0  0  0\\n   -1.6318   -6.1382   -1.0075 H   0  0  0  0  0  0  0  0  0  0  0\\n   -0.3611   -4.6837   -0.9779 H   0  0  0  0  0  0  0  0  0  0  0\\n   -0.3611   -4.6837    0.9773 H   0  0  0  0  0  0  0  0  0  0  0\\n    7.5997    0.8748   -1.9534 H   0  0  0  0  0  0  0  0  0  0  0\\n 17 35  1  0  0  0  0\\n 23 22  2  0  0  0  0\\n 11 21  1  0  0  0  0\\n 41 20  1  0  0  0  0\\n  1 26  1  0  0  0  0\\n 38 19  1  0  0  0  0\\n 31 10  1  0  0  0  0\\n  2 28  1  0  0  0  0\\n 13 12  1  0  0  0  0\\n 16 15  1  0  0  0  0\\n  2  1  1  0  0  0  0\\n  5  4  1  0  0  0  0\\n  3  1  1  0  0  0  0\\n 18 19  1  0  0  0  0\\n 24 22  1  0  0  0  0\\n  2 27  1  0  0  0  0\\n 14  9  1  0  0  0  0\\n  7  8  2  0  0  0  0\\n  5  6  2  0  0  0  0\\n 11 10  1  0  0  0  0\\n  3  2  1  0  0  0  0\\n 10  9  2  0  0  0  0\\n  3  4  1  0  0  0  0\\n 40 20  1  0  0  0  0\\n 17 16  1  0  0  0  0\\n  7  6  1  0  0  0  0\\n 39 19  1  0  0  0  0\\n 15 20  1  0  0  0  0\\n 17 18  1  0  0  0  0\\n 37 18  1  0  0  0  0\\n  7  9  1  0  0  0  0\\n 30  5  1  0  0  0  0\\n 14  4  1  0  0  0  0\\n 11 12  2  0  0  0  0\\n 16 34  1  0  0  0  0\\n 13 14  2  0  0  0  0\\n 29  3  1  0  0  0  0\\n 25  1  1  0  0  0  0\\n 17 36  1  0  0  0  0\\n 20 19  1  0  0  0  0\\n 42 24  1  0  0  0  0\\n 22  6  1  0  0  0  0\\n 13 32  1  0  0  0  0\\n 33 16  1  0  0  0  0\\n 15 12  1  0  0  0  0\\nM  END\\n\");\n",
       "\tviewer_1717889809573699.setStyle({\"stick\": {}});\n",
       "\tviewer_1717889809573699.zoomTo();\n",
       "viewer_1717889809573699.render();\n",
       "});\n",
       "</script>"
      ]
     },
     "metadata": {},
     "output_type": "display_data"
    }
   ],
   "source": [
    "# smiles = 'c2nc1ncnc(c1n2)n' # adenine\n",
    "# smiles = 'C1=CC=C(O)C=C1' # phenol\n",
    "# smiles = 'C1=CC2=C3C(=C1)C=CC4=CC=CC(=C43)C=C2' # pyrene\n",
    "# smiles = 'C1=CC=C2C3=C4C(=CC2=C1)C=CC5=C4C(=CC=C5)C=C3' # benz[a]pyrene\n",
    "# smiles = 'C1=CC=C2C(=C1)C=CC3=C2C=CC4=CC=CC=C43' # chrysene\n",
    "# smiles = 'CC#CCC(CC=O)CCC(CN)CC(Cc1ccccc1)CBr' #  some random molecule\n",
    "# smiles = 'Cn1cnc2c1c(=O)n(C)c(=O)n2C' # caffeine\n",
    "smiles = 'C1CC1N2C=C(C(=O)C3=CC(=C(C=C32)N4CCNCC4)F)C(=O)O' # Ciprofloxacin\n",
    "\n",
    "mol = psimol.Molecule.from_smiles(smiles)\n",
    "mol.visualize()"
   ]
  },
  {
   "cell_type": "markdown",
   "metadata": {},
   "source": [
    "### Optimizing molecular geometry, calculating energies and frequencies using quantum methods from psi4"
   ]
  },
  {
   "cell_type": "code",
   "execution_count": 5,
   "metadata": {},
   "outputs": [
    {
     "data": {
      "application/3dmoljs_load.v0": "<div id=\"3dmolviewer_1717882045135357\"  style=\"position: relative; width: 400px; height: 400px;\">\n        <p id=\"3dmolwarning_1717882045135357\" style=\"background-color:#ffcccc;color:black\">3Dmol.js failed to load for some reason.  Please check your browser console for error messages.<br></p>\n        </div>\n<script>\n\nvar loadScriptAsync = function(uri){\n  return new Promise((resolve, reject) => {\n    //this is to ignore the existence of requirejs amd\n    var savedexports, savedmodule;\n    if (typeof exports !== 'undefined') savedexports = exports;\n    else exports = {}\n    if (typeof module !== 'undefined') savedmodule = module;\n    else module = {}\n\n    var tag = document.createElement('script');\n    tag.src = uri;\n    tag.async = true;\n    tag.onload = () => {\n        exports = savedexports;\n        module = savedmodule;\n        resolve();\n    };\n  var firstScriptTag = document.getElementsByTagName('script')[0];\n  firstScriptTag.parentNode.insertBefore(tag, firstScriptTag);\n});\n};\n\nif(typeof $3Dmolpromise === 'undefined') {\n$3Dmolpromise = null;\n  $3Dmolpromise = loadScriptAsync('https://cdnjs.cloudflare.com/ajax/libs/3Dmol/2.1.0/3Dmol-min.js');\n}\n\nvar viewer_1717882045135357 = null;\nvar warn = document.getElementById(\"3dmolwarning_1717882045135357\");\nif(warn) {\n    warn.parentNode.removeChild(warn);\n}\n$3Dmolpromise.then(function() {\nviewer_1717882045135357 = $3Dmol.createViewer(document.getElementById(\"3dmolviewer_1717882045135357\"),{backgroundColor:\"white\"});\nviewer_1717882045135357.zoomTo();\n\tviewer_1717882045135357.addModel(\"NC(=O)O\\n\\n\\n  7  6  0  0  0  0  0  0  0  0999 V2000\\n    0.0000    0.0000    0.0000 N   0  0  0  0  0  0  0  0  0  0  0\\n    1.4600    0.0000    0.0000 C   0  0  0  0  0  0  0  0  0  0  0\\n    2.1895   -0.6497   -0.7638 O   0  0  0  0  0  0  0  0  0  0  0\\n    2.0638    0.8036    0.9455 O   0  0  0  0  0  0  0  0  0  0  0\\n   -0.5689   -0.2756   -0.8132 H   0  0  0  0  0  0  0  0  0  0  0\\n   -0.5689    0.2756    0.8132 H   0  0  0  0  0  0  0  0  0  0  0\\n    2.4795    1.3569    1.5964 H   0  0  0  0  0  0  0  0  0  0  0\\n  7  4  1  0  0  0  0\\n  1  6  1  0  0  0  0\\n  1  5  1  0  0  0  0\\n  3  2  2  0  0  0  0\\n  1  2  1  0  0  0  0\\n  2  4  1  0  0  0  0\\nM  END\\n\");\n\tviewer_1717882045135357.setStyle({\"stick\": {}});\n\tviewer_1717882045135357.zoomTo();\nviewer_1717882045135357.render();\n});\n</script>",
      "text/html": [
       "<div id=\"3dmolviewer_1717882045135357\"  style=\"position: relative; width: 400px; height: 400px;\">\n",
       "        <p id=\"3dmolwarning_1717882045135357\" style=\"background-color:#ffcccc;color:black\">3Dmol.js failed to load for some reason.  Please check your browser console for error messages.<br></p>\n",
       "        </div>\n",
       "<script>\n",
       "\n",
       "var loadScriptAsync = function(uri){\n",
       "  return new Promise((resolve, reject) => {\n",
       "    //this is to ignore the existence of requirejs amd\n",
       "    var savedexports, savedmodule;\n",
       "    if (typeof exports !== 'undefined') savedexports = exports;\n",
       "    else exports = {}\n",
       "    if (typeof module !== 'undefined') savedmodule = module;\n",
       "    else module = {}\n",
       "\n",
       "    var tag = document.createElement('script');\n",
       "    tag.src = uri;\n",
       "    tag.async = true;\n",
       "    tag.onload = () => {\n",
       "        exports = savedexports;\n",
       "        module = savedmodule;\n",
       "        resolve();\n",
       "    };\n",
       "  var firstScriptTag = document.getElementsByTagName('script')[0];\n",
       "  firstScriptTag.parentNode.insertBefore(tag, firstScriptTag);\n",
       "});\n",
       "};\n",
       "\n",
       "if(typeof $3Dmolpromise === 'undefined') {\n",
       "$3Dmolpromise = null;\n",
       "  $3Dmolpromise = loadScriptAsync('https://cdnjs.cloudflare.com/ajax/libs/3Dmol/2.1.0/3Dmol-min.js');\n",
       "}\n",
       "\n",
       "var viewer_1717882045135357 = null;\n",
       "var warn = document.getElementById(\"3dmolwarning_1717882045135357\");\n",
       "if(warn) {\n",
       "    warn.parentNode.removeChild(warn);\n",
       "}\n",
       "$3Dmolpromise.then(function() {\n",
       "viewer_1717882045135357 = $3Dmol.createViewer(document.getElementById(\"3dmolviewer_1717882045135357\"),{backgroundColor:\"white\"});\n",
       "viewer_1717882045135357.zoomTo();\n",
       "\tviewer_1717882045135357.addModel(\"NC(=O)O\\n\\n\\n  7  6  0  0  0  0  0  0  0  0999 V2000\\n    0.0000    0.0000    0.0000 N   0  0  0  0  0  0  0  0  0  0  0\\n    1.4600    0.0000    0.0000 C   0  0  0  0  0  0  0  0  0  0  0\\n    2.1895   -0.6497   -0.7638 O   0  0  0  0  0  0  0  0  0  0  0\\n    2.0638    0.8036    0.9455 O   0  0  0  0  0  0  0  0  0  0  0\\n   -0.5689   -0.2756   -0.8132 H   0  0  0  0  0  0  0  0  0  0  0\\n   -0.5689    0.2756    0.8132 H   0  0  0  0  0  0  0  0  0  0  0\\n    2.4795    1.3569    1.5964 H   0  0  0  0  0  0  0  0  0  0  0\\n  7  4  1  0  0  0  0\\n  1  6  1  0  0  0  0\\n  1  5  1  0  0  0  0\\n  3  2  2  0  0  0  0\\n  1  2  1  0  0  0  0\\n  2  4  1  0  0  0  0\\nM  END\\n\");\n",
       "\tviewer_1717882045135357.setStyle({\"stick\": {}});\n",
       "\tviewer_1717882045135357.zoomTo();\n",
       "viewer_1717882045135357.render();\n",
       "});\n",
       "</script>"
      ]
     },
     "metadata": {},
     "output_type": "display_data"
    },
    {
     "name": "stderr",
     "output_type": "stream",
     "text": [
      "\u001b[38;20m[2024-06-08 23:28:01,665] [INFO] Optimized geometry of NC(=O)O with energy -245.11899 Ha.\u001b[0m\n"
     ]
    },
    {
     "name": "stdout",
     "output_type": "stream",
     "text": [
      "Optimizer: Optimization complete!\n"
     ]
    },
    {
     "data": {
      "application/3dmoljs_load.v0": "<div id=\"3dmolviewer_17178820816667562\"  style=\"position: relative; width: 400px; height: 400px;\">\n        <p id=\"3dmolwarning_17178820816667562\" style=\"background-color:#ffcccc;color:black\">3Dmol.js failed to load for some reason.  Please check your browser console for error messages.<br></p>\n        </div>\n<script>\n\nvar loadScriptAsync = function(uri){\n  return new Promise((resolve, reject) => {\n    //this is to ignore the existence of requirejs amd\n    var savedexports, savedmodule;\n    if (typeof exports !== 'undefined') savedexports = exports;\n    else exports = {}\n    if (typeof module !== 'undefined') savedmodule = module;\n    else module = {}\n\n    var tag = document.createElement('script');\n    tag.src = uri;\n    tag.async = true;\n    tag.onload = () => {\n        exports = savedexports;\n        module = savedmodule;\n        resolve();\n    };\n  var firstScriptTag = document.getElementsByTagName('script')[0];\n  firstScriptTag.parentNode.insertBefore(tag, firstScriptTag);\n});\n};\n\nif(typeof $3Dmolpromise === 'undefined') {\n$3Dmolpromise = null;\n  $3Dmolpromise = loadScriptAsync('https://cdnjs.cloudflare.com/ajax/libs/3Dmol/2.1.0/3Dmol-min.js');\n}\n\nvar viewer_17178820816667562 = null;\nvar warn = document.getElementById(\"3dmolwarning_17178820816667562\");\nif(warn) {\n    warn.parentNode.removeChild(warn);\n}\n$3Dmolpromise.then(function() {\nviewer_17178820816667562 = $3Dmol.createViewer(document.getElementById(\"3dmolviewer_17178820816667562\"),{backgroundColor:\"white\"});\nviewer_17178820816667562.zoomTo();\n\tviewer_17178820816667562.addModel(\"NC(=O)O\\n\\n\\n  7  6  0  0  0  0  0  0  0  0999 V2000\\n   -1.3189    0.2182   -0.0262 N   0  0  0  0  0  0  0  0  0  0  0\\n    0.0410   -0.0671   -0.0779 C   0  0  0  0  0  0  0  0  0  0  0\\n    0.5671   -0.7386   -0.9303 O   0  0  0  0  0  0  0  0  0  0  0\\n    0.7686    0.5235    0.9142 O   0  0  0  0  0  0  0  0  0  0  0\\n   -1.8569   -0.3354   -0.6811 H   0  0  0  0  0  0  0  0  0  0  0\\n   -1.7516    0.2908    0.8869 H   0  0  0  0  0  0  0  0  0  0  0\\n    0.2489    1.2247    1.3403 H   0  0  0  0  0  0  0  0  0  0  0\\n  2  1  1  0  0  0  0\\n  7  4  1  0  0  0  0\\n  5  1  1  0  0  0  0\\n  6  1  1  0  0  0  0\\n  2  4  1  0  0  0  0\\n  2  3  2  0  0  0  0\\nM  END\\n\");\n\tviewer_17178820816667562.setStyle({\"stick\": {}});\n\tviewer_17178820816667562.zoomTo();\nviewer_17178820816667562.render();\n});\n</script>",
      "text/html": [
       "<div id=\"3dmolviewer_17178820816667562\"  style=\"position: relative; width: 400px; height: 400px;\">\n",
       "        <p id=\"3dmolwarning_17178820816667562\" style=\"background-color:#ffcccc;color:black\">3Dmol.js failed to load for some reason.  Please check your browser console for error messages.<br></p>\n",
       "        </div>\n",
       "<script>\n",
       "\n",
       "var loadScriptAsync = function(uri){\n",
       "  return new Promise((resolve, reject) => {\n",
       "    //this is to ignore the existence of requirejs amd\n",
       "    var savedexports, savedmodule;\n",
       "    if (typeof exports !== 'undefined') savedexports = exports;\n",
       "    else exports = {}\n",
       "    if (typeof module !== 'undefined') savedmodule = module;\n",
       "    else module = {}\n",
       "\n",
       "    var tag = document.createElement('script');\n",
       "    tag.src = uri;\n",
       "    tag.async = true;\n",
       "    tag.onload = () => {\n",
       "        exports = savedexports;\n",
       "        module = savedmodule;\n",
       "        resolve();\n",
       "    };\n",
       "  var firstScriptTag = document.getElementsByTagName('script')[0];\n",
       "  firstScriptTag.parentNode.insertBefore(tag, firstScriptTag);\n",
       "});\n",
       "};\n",
       "\n",
       "if(typeof $3Dmolpromise === 'undefined') {\n",
       "$3Dmolpromise = null;\n",
       "  $3Dmolpromise = loadScriptAsync('https://cdnjs.cloudflare.com/ajax/libs/3Dmol/2.1.0/3Dmol-min.js');\n",
       "}\n",
       "\n",
       "var viewer_17178820816667562 = null;\n",
       "var warn = document.getElementById(\"3dmolwarning_17178820816667562\");\n",
       "if(warn) {\n",
       "    warn.parentNode.removeChild(warn);\n",
       "}\n",
       "$3Dmolpromise.then(function() {\n",
       "viewer_17178820816667562 = $3Dmol.createViewer(document.getElementById(\"3dmolviewer_17178820816667562\"),{backgroundColor:\"white\"});\n",
       "viewer_17178820816667562.zoomTo();\n",
       "\tviewer_17178820816667562.addModel(\"NC(=O)O\\n\\n\\n  7  6  0  0  0  0  0  0  0  0999 V2000\\n   -1.3189    0.2182   -0.0262 N   0  0  0  0  0  0  0  0  0  0  0\\n    0.0410   -0.0671   -0.0779 C   0  0  0  0  0  0  0  0  0  0  0\\n    0.5671   -0.7386   -0.9303 O   0  0  0  0  0  0  0  0  0  0  0\\n    0.7686    0.5235    0.9142 O   0  0  0  0  0  0  0  0  0  0  0\\n   -1.8569   -0.3354   -0.6811 H   0  0  0  0  0  0  0  0  0  0  0\\n   -1.7516    0.2908    0.8869 H   0  0  0  0  0  0  0  0  0  0  0\\n    0.2489    1.2247    1.3403 H   0  0  0  0  0  0  0  0  0  0  0\\n  2  1  1  0  0  0  0\\n  7  4  1  0  0  0  0\\n  5  1  1  0  0  0  0\\n  6  1  1  0  0  0  0\\n  2  4  1  0  0  0  0\\n  2  3  2  0  0  0  0\\nM  END\\n\");\n",
       "\tviewer_17178820816667562.setStyle({\"stick\": {}});\n",
       "\tviewer_17178820816667562.zoomTo();\n",
       "viewer_17178820816667562.render();\n",
       "});\n",
       "</script>"
      ]
     },
     "metadata": {},
     "output_type": "display_data"
    }
   ],
   "source": [
    "mol = psimol.Molecule.from_smiles('NC(=O)O')\n",
    "mol.visualize()\n",
    "\n",
    "optimized_molecule, _, _ = mol.optimize(maxiter=800, geom_maxiter=300)\n",
    "optimized_molecule.visualize()"
   ]
  },
  {
   "cell_type": "markdown",
   "metadata": {},
   "source": [
    "#### Once calculated, the vibrational modes of molecules can be interactively animated"
   ]
  },
  {
   "cell_type": "code",
   "execution_count": null,
   "metadata": {},
   "outputs": [],
   "source": [
    "optimized_molecule.calculate_frequencies()"
   ]
  },
  {
   "cell_type": "code",
   "execution_count": 26,
   "metadata": {},
   "outputs": [
    {
     "data": {
      "application/3dmoljs_load.v0": "<div id=\"3dmolviewer_171788283464623\"  style=\"position: relative; width: 400px; height: 400px;\">\n        <p id=\"3dmolwarning_171788283464623\" style=\"background-color:#ffcccc;color:black\">3Dmol.js failed to load for some reason.  Please check your browser console for error messages.<br></p>\n        </div>\n<script>\n\nvar loadScriptAsync = function(uri){\n  return new Promise((resolve, reject) => {\n    //this is to ignore the existence of requirejs amd\n    var savedexports, savedmodule;\n    if (typeof exports !== 'undefined') savedexports = exports;\n    else exports = {}\n    if (typeof module !== 'undefined') savedmodule = module;\n    else module = {}\n\n    var tag = document.createElement('script');\n    tag.src = uri;\n    tag.async = true;\n    tag.onload = () => {\n        exports = savedexports;\n        module = savedmodule;\n        resolve();\n    };\n  var firstScriptTag = document.getElementsByTagName('script')[0];\n  firstScriptTag.parentNode.insertBefore(tag, firstScriptTag);\n});\n};\n\nif(typeof $3Dmolpromise === 'undefined') {\n$3Dmolpromise = null;\n  $3Dmolpromise = loadScriptAsync('https://cdnjs.cloudflare.com/ajax/libs/3Dmol/2.1.0/3Dmol-min.js');\n}\n\nvar viewer_171788283464623 = null;\nvar warn = document.getElementById(\"3dmolwarning_171788283464623\");\nif(warn) {\n    warn.parentNode.removeChild(warn);\n}\n$3Dmolpromise.then(function() {\nviewer_171788283464623 = $3Dmol.createViewer(document.getElementById(\"3dmolviewer_171788283464623\"),{backgroundColor:\"white\"});\nviewer_171788283464623.zoomTo();\n\tviewer_171788283464623.addModel(\"7\\nNC(=O)O\\nN -1.31894 0.21821 -0.02618 -0.1921039704895106 0.23305887651446566 0.11881303281711866\\nC 0.04100 -0.06706 -0.07788 0.16650318333475825 0.05326610534455545 0.03759852488174742\\nO 0.56706 -0.73862 -0.93028 0.015306569504307565 -0.0008605631160320738 0.056423987324828444\\nO 0.76856 0.52354 0.91421 -0.08953714322934374 -0.06508210470424829 0.4756629729535608\\nH -1.85688 -0.33536 -0.68111 0.0937099496069639 -0.05506581422456478 -0.02962359191935787\\nH -1.75155 0.29081 0.88690 0.06223253860892948 0.005152449748776032 0.3822995635472564\\nH 0.24890 1.22465 1.34027 0.0014105816304158518 -0.0011568538483939879 -0.0015618917996737473\",\"xyz\",{\"vibrate\": {\"frames\": 10, \"amplitude\": 1}});\n\tviewer_171788283464623.setStyle({\"stick\": {}});\n\tviewer_171788283464623.animate({\"loop\": \"backAndForth\"});\n\tviewer_171788283464623.zoomTo();\nviewer_171788283464623.render();\n});\n</script>",
      "text/html": [
       "<div id=\"3dmolviewer_171788283464623\"  style=\"position: relative; width: 400px; height: 400px;\">\n",
       "        <p id=\"3dmolwarning_171788283464623\" style=\"background-color:#ffcccc;color:black\">3Dmol.js failed to load for some reason.  Please check your browser console for error messages.<br></p>\n",
       "        </div>\n",
       "<script>\n",
       "\n",
       "var loadScriptAsync = function(uri){\n",
       "  return new Promise((resolve, reject) => {\n",
       "    //this is to ignore the existence of requirejs amd\n",
       "    var savedexports, savedmodule;\n",
       "    if (typeof exports !== 'undefined') savedexports = exports;\n",
       "    else exports = {}\n",
       "    if (typeof module !== 'undefined') savedmodule = module;\n",
       "    else module = {}\n",
       "\n",
       "    var tag = document.createElement('script');\n",
       "    tag.src = uri;\n",
       "    tag.async = true;\n",
       "    tag.onload = () => {\n",
       "        exports = savedexports;\n",
       "        module = savedmodule;\n",
       "        resolve();\n",
       "    };\n",
       "  var firstScriptTag = document.getElementsByTagName('script')[0];\n",
       "  firstScriptTag.parentNode.insertBefore(tag, firstScriptTag);\n",
       "});\n",
       "};\n",
       "\n",
       "if(typeof $3Dmolpromise === 'undefined') {\n",
       "$3Dmolpromise = null;\n",
       "  $3Dmolpromise = loadScriptAsync('https://cdnjs.cloudflare.com/ajax/libs/3Dmol/2.1.0/3Dmol-min.js');\n",
       "}\n",
       "\n",
       "var viewer_171788283464623 = null;\n",
       "var warn = document.getElementById(\"3dmolwarning_171788283464623\");\n",
       "if(warn) {\n",
       "    warn.parentNode.removeChild(warn);\n",
       "}\n",
       "$3Dmolpromise.then(function() {\n",
       "viewer_171788283464623 = $3Dmol.createViewer(document.getElementById(\"3dmolviewer_171788283464623\"),{backgroundColor:\"white\"});\n",
       "viewer_171788283464623.zoomTo();\n",
       "\tviewer_171788283464623.addModel(\"7\\nNC(=O)O\\nN -1.31894 0.21821 -0.02618 -0.1921039704895106 0.23305887651446566 0.11881303281711866\\nC 0.04100 -0.06706 -0.07788 0.16650318333475825 0.05326610534455545 0.03759852488174742\\nO 0.56706 -0.73862 -0.93028 0.015306569504307565 -0.0008605631160320738 0.056423987324828444\\nO 0.76856 0.52354 0.91421 -0.08953714322934374 -0.06508210470424829 0.4756629729535608\\nH -1.85688 -0.33536 -0.68111 0.0937099496069639 -0.05506581422456478 -0.02962359191935787\\nH -1.75155 0.29081 0.88690 0.06223253860892948 0.005152449748776032 0.3822995635472564\\nH 0.24890 1.22465 1.34027 0.0014105816304158518 -0.0011568538483939879 -0.0015618917996737473\",\"xyz\",{\"vibrate\": {\"frames\": 10, \"amplitude\": 1}});\n",
       "\tviewer_171788283464623.setStyle({\"stick\": {}});\n",
       "\tviewer_171788283464623.animate({\"loop\": \"backAndForth\"});\n",
       "\tviewer_171788283464623.zoomTo();\n",
       "viewer_171788283464623.render();\n",
       "});\n",
       "</script>"
      ]
     },
     "metadata": {},
     "output_type": "display_data"
    }
   ],
   "source": [
    "mode = 4\n",
    "optimized_molecule.show_modes(mode)"
   ]
  },
  {
   "cell_type": "markdown",
   "metadata": {},
   "source": [
    "### Adding explicit hydrogens to molecule"
   ]
  },
  {
   "cell_type": "code",
   "execution_count": 13,
   "metadata": {},
   "outputs": [
    {
     "data": {
      "application/3dmoljs_load.v0": "<div id=\"3dmolviewer_17178822821671731\"  style=\"position: relative; width: 400px; height: 400px;\">\n        <p id=\"3dmolwarning_17178822821671731\" style=\"background-color:#ffcccc;color:black\">3Dmol.js failed to load for some reason.  Please check your browser console for error messages.<br></p>\n        </div>\n<script>\n\nvar loadScriptAsync = function(uri){\n  return new Promise((resolve, reject) => {\n    //this is to ignore the existence of requirejs amd\n    var savedexports, savedmodule;\n    if (typeof exports !== 'undefined') savedexports = exports;\n    else exports = {}\n    if (typeof module !== 'undefined') savedmodule = module;\n    else module = {}\n\n    var tag = document.createElement('script');\n    tag.src = uri;\n    tag.async = true;\n    tag.onload = () => {\n        exports = savedexports;\n        module = savedmodule;\n        resolve();\n    };\n  var firstScriptTag = document.getElementsByTagName('script')[0];\n  firstScriptTag.parentNode.insertBefore(tag, firstScriptTag);\n});\n};\n\nif(typeof $3Dmolpromise === 'undefined') {\n$3Dmolpromise = null;\n  $3Dmolpromise = loadScriptAsync('https://cdnjs.cloudflare.com/ajax/libs/3Dmol/2.1.0/3Dmol-min.js');\n}\n\nvar viewer_17178822821671731 = null;\nvar warn = document.getElementById(\"3dmolwarning_17178822821671731\");\nif(warn) {\n    warn.parentNode.removeChild(warn);\n}\n$3Dmolpromise.then(function() {\nviewer_17178822821671731 = $3Dmol.createViewer(document.getElementById(\"3dmolviewer_17178822821671731\"),{backgroundColor:\"white\"});\nviewer_17178822821671731.zoomTo();\n\tviewer_17178822821671731.addModel(\"\\n\\n\\n 13 13  0  0  0  0  0  0  0  0999 V2000\\n    2.0564   -0.1654    0.3973 C   0  0  0  0  0  0  0  0  0  0  0\\n    0.6889    2.0285   -0.6482 C   0  0  0  0  0  0  0  0  0  0  0\\n    2.7407    1.0233    0.1253 C   0  0  0  0  0  0  0  0  0  0  0\\n    2.0573    2.1178   -0.4002 C   0  0  0  0  0  0  0  0  0  0  0\\n   -3.5940    1.0321    0.0459 C   0  0  0  0  0  0  0  0  0  0  0\\n    0.6774   -0.2751    0.1510 C   0  0  0  0  0  0  0  0  0  0  0\\n    0.0027    0.8423   -0.3589 C   0  0  0  0  0  0  0  0  0  0  0\\n    0.6329   -2.5453    0.9336 O   0  0  0  0  0  0  0  0  0  0  0\\n   -1.7645    1.4325    1.5657 O   0  0  0  0  0  0  0  0  0  0  0\\n   -1.2489   -1.6841    0.1298 O   0  0  0  0  0  0  0  0  0  0  0\\n    0.0528   -1.5888    0.4496 C   0  0  0  0  0  0  0  0  0  0  0\\n   -2.1520    1.1284    0.4451 C   0  0  0  0  0  0  0  0  0  0  0\\n   -1.3617    0.8283   -0.6583 O   0  0  0  0  0  0  0  0  0  0  0\\n  8 11  2  0  0  0  0\\n 12  9  2  0  0  0  0\\n  6  1  4  0  0  0  0\\n  6  7  4  0  0  0  0\\n  5 12  1  0  0  0  0\\n 11 10  1  0  0  0  0\\n  7 13  1  0  0  0  0\\n  6 11  1  0  0  0  0\\n  4  2  4  0  0  0  0\\n  3  1  4  0  0  0  0\\n  3  4  4  0  0  0  0\\n 12 13  1  0  0  0  0\\n  7  2  4  0  0  0  0\\nM  END\\n\");\n\tviewer_17178822821671731.setStyle({\"stick\": {}});\n\tviewer_17178822821671731.zoomTo();\nviewer_17178822821671731.render();\n});\n</script>",
      "text/html": [
       "<div id=\"3dmolviewer_17178822821671731\"  style=\"position: relative; width: 400px; height: 400px;\">\n",
       "        <p id=\"3dmolwarning_17178822821671731\" style=\"background-color:#ffcccc;color:black\">3Dmol.js failed to load for some reason.  Please check your browser console for error messages.<br></p>\n",
       "        </div>\n",
       "<script>\n",
       "\n",
       "var loadScriptAsync = function(uri){\n",
       "  return new Promise((resolve, reject) => {\n",
       "    //this is to ignore the existence of requirejs amd\n",
       "    var savedexports, savedmodule;\n",
       "    if (typeof exports !== 'undefined') savedexports = exports;\n",
       "    else exports = {}\n",
       "    if (typeof module !== 'undefined') savedmodule = module;\n",
       "    else module = {}\n",
       "\n",
       "    var tag = document.createElement('script');\n",
       "    tag.src = uri;\n",
       "    tag.async = true;\n",
       "    tag.onload = () => {\n",
       "        exports = savedexports;\n",
       "        module = savedmodule;\n",
       "        resolve();\n",
       "    };\n",
       "  var firstScriptTag = document.getElementsByTagName('script')[0];\n",
       "  firstScriptTag.parentNode.insertBefore(tag, firstScriptTag);\n",
       "});\n",
       "};\n",
       "\n",
       "if(typeof $3Dmolpromise === 'undefined') {\n",
       "$3Dmolpromise = null;\n",
       "  $3Dmolpromise = loadScriptAsync('https://cdnjs.cloudflare.com/ajax/libs/3Dmol/2.1.0/3Dmol-min.js');\n",
       "}\n",
       "\n",
       "var viewer_17178822821671731 = null;\n",
       "var warn = document.getElementById(\"3dmolwarning_17178822821671731\");\n",
       "if(warn) {\n",
       "    warn.parentNode.removeChild(warn);\n",
       "}\n",
       "$3Dmolpromise.then(function() {\n",
       "viewer_17178822821671731 = $3Dmol.createViewer(document.getElementById(\"3dmolviewer_17178822821671731\"),{backgroundColor:\"white\"});\n",
       "viewer_17178822821671731.zoomTo();\n",
       "\tviewer_17178822821671731.addModel(\"\\n\\n\\n 13 13  0  0  0  0  0  0  0  0999 V2000\\n    2.0564   -0.1654    0.3973 C   0  0  0  0  0  0  0  0  0  0  0\\n    0.6889    2.0285   -0.6482 C   0  0  0  0  0  0  0  0  0  0  0\\n    2.7407    1.0233    0.1253 C   0  0  0  0  0  0  0  0  0  0  0\\n    2.0573    2.1178   -0.4002 C   0  0  0  0  0  0  0  0  0  0  0\\n   -3.5940    1.0321    0.0459 C   0  0  0  0  0  0  0  0  0  0  0\\n    0.6774   -0.2751    0.1510 C   0  0  0  0  0  0  0  0  0  0  0\\n    0.0027    0.8423   -0.3589 C   0  0  0  0  0  0  0  0  0  0  0\\n    0.6329   -2.5453    0.9336 O   0  0  0  0  0  0  0  0  0  0  0\\n   -1.7645    1.4325    1.5657 O   0  0  0  0  0  0  0  0  0  0  0\\n   -1.2489   -1.6841    0.1298 O   0  0  0  0  0  0  0  0  0  0  0\\n    0.0528   -1.5888    0.4496 C   0  0  0  0  0  0  0  0  0  0  0\\n   -2.1520    1.1284    0.4451 C   0  0  0  0  0  0  0  0  0  0  0\\n   -1.3617    0.8283   -0.6583 O   0  0  0  0  0  0  0  0  0  0  0\\n  8 11  2  0  0  0  0\\n 12  9  2  0  0  0  0\\n  6  1  4  0  0  0  0\\n  6  7  4  0  0  0  0\\n  5 12  1  0  0  0  0\\n 11 10  1  0  0  0  0\\n  7 13  1  0  0  0  0\\n  6 11  1  0  0  0  0\\n  4  2  4  0  0  0  0\\n  3  1  4  0  0  0  0\\n  3  4  4  0  0  0  0\\n 12 13  1  0  0  0  0\\n  7  2  4  0  0  0  0\\nM  END\\n\");\n",
       "\tviewer_17178822821671731.setStyle({\"stick\": {}});\n",
       "\tviewer_17178822821671731.zoomTo();\n",
       "viewer_17178822821671731.render();\n",
       "});\n",
       "</script>"
      ]
     },
     "metadata": {},
     "output_type": "display_data"
    },
    {
     "data": {
      "application/3dmoljs_load.v0": "<div id=\"3dmolviewer_17178822823254888\"  style=\"position: relative; width: 400px; height: 400px;\">\n        <p id=\"3dmolwarning_17178822823254888\" style=\"background-color:#ffcccc;color:black\">3Dmol.js failed to load for some reason.  Please check your browser console for error messages.<br></p>\n        </div>\n<script>\n\nvar loadScriptAsync = function(uri){\n  return new Promise((resolve, reject) => {\n    //this is to ignore the existence of requirejs amd\n    var savedexports, savedmodule;\n    if (typeof exports !== 'undefined') savedexports = exports;\n    else exports = {}\n    if (typeof module !== 'undefined') savedmodule = module;\n    else module = {}\n\n    var tag = document.createElement('script');\n    tag.src = uri;\n    tag.async = true;\n    tag.onload = () => {\n        exports = savedexports;\n        module = savedmodule;\n        resolve();\n    };\n  var firstScriptTag = document.getElementsByTagName('script')[0];\n  firstScriptTag.parentNode.insertBefore(tag, firstScriptTag);\n});\n};\n\nif(typeof $3Dmolpromise === 'undefined') {\n$3Dmolpromise = null;\n  $3Dmolpromise = loadScriptAsync('https://cdnjs.cloudflare.com/ajax/libs/3Dmol/2.1.0/3Dmol-min.js');\n}\n\nvar viewer_17178822823254888 = null;\nvar warn = document.getElementById(\"3dmolwarning_17178822823254888\");\nif(warn) {\n    warn.parentNode.removeChild(warn);\n}\n$3Dmolpromise.then(function() {\nviewer_17178822823254888 = $3Dmol.createViewer(document.getElementById(\"3dmolviewer_17178822823254888\"),{backgroundColor:\"white\"});\nviewer_17178822823254888.zoomTo();\n\tviewer_17178822823254888.addModel(\"\\n\\n\\n 21 21  0  0  0  0  0  0  0  0999 V2000\\n    2.0564   -0.1654    0.3973 C   0  0  0  0  0  0  0  0  0  0  0\\n    0.6889    2.0285   -0.6482 C   0  0  0  0  0  0  0  0  0  0  0\\n    2.7407    1.0233    0.1253 C   0  0  0  0  0  0  0  0  0  0  0\\n    2.0573    2.1178   -0.4002 C   0  0  0  0  0  0  0  0  0  0  0\\n   -3.5940    1.0321    0.0459 C   0  0  0  0  0  0  0  0  0  0  0\\n    0.6774   -0.2751    0.1510 C   0  0  0  0  0  0  0  0  0  0  0\\n    0.0027    0.8423   -0.3589 C   0  0  0  0  0  0  0  0  0  0  0\\n    0.6329   -2.5453    0.9336 O   0  0  0  0  0  0  0  0  0  0  0\\n   -1.7645    1.4325    1.5657 O   0  0  0  0  0  0  0  0  0  0  0\\n   -1.2489   -1.6841    0.1298 O   0  0  0  0  0  0  0  0  0  0  0\\n    0.0528   -1.5888    0.4496 C   0  0  0  0  0  0  0  0  0  0  0\\n   -2.1520    1.1284    0.4451 C   0  0  0  0  0  0  0  0  0  0  0\\n   -1.3617    0.8283   -0.6583 O   0  0  0  0  0  0  0  0  0  0  0\\n    2.5850   -1.0050    0.7979 H   0  0  0  0  0  0  0  0  0  0  0\\n    0.1584    2.8621   -1.0588 H   0  0  0  0  0  0  0  0  0  0  0\\n    3.7904    1.0886    0.3225 H   0  0  0  0  0  0  0  0  0  0  0\\n    2.5822    3.0255   -0.6134 H   0  0  0  0  0  0  0  0  0  0  0\\n   -4.1514    0.7991   -0.8372 H   0  0  0  0  0  0  0  0  0  0  0\\n   -4.4541    0.4658    0.3364 H   0  0  0  0  0  0  0  0  0  0  0\\n   -4.4449    1.6798    0.0103 H   0  0  0  0  0  0  0  0  0  0  0\\n   -2.1692   -1.7515   -0.0964 H   0  0  0  0  0  0  0  0  0  0  0\\n  8 11  2  0  0  0  0\\n 11 10  1  0  0  0  0\\n  5 18  1  0  0  0  0\\n 15  2  1  0  0  0  0\\n  7 13  1  0  0  0  0\\n  3  1  4  0  0  0  0\\n  5 20  1  0  0  0  0\\n  6 11  1  0  0  0  0\\n  5 19  1  0  0  0  0\\n  7  2  4  0  0  0  0\\n  5 12  1  0  0  0  0\\n  4 17  1  0  0  0  0\\n  1 14  1  0  0  0  0\\n  4  2  4  0  0  0  0\\n 12  9  2  0  0  0  0\\n  6  1  4  0  0  0  0\\n  6  7  4  0  0  0  0\\n 21 10  1  0  0  0  0\\n  3  4  4  0  0  0  0\\n 12 13  1  0  0  0  0\\n  3 16  1  0  0  0  0\\nM  END\\n\");\n\tviewer_17178822823254888.setStyle({\"stick\": {}});\n\tviewer_17178822823254888.zoomTo();\nviewer_17178822823254888.render();\n});\n</script>",
      "text/html": [
       "<div id=\"3dmolviewer_17178822823254888\"  style=\"position: relative; width: 400px; height: 400px;\">\n",
       "        <p id=\"3dmolwarning_17178822823254888\" style=\"background-color:#ffcccc;color:black\">3Dmol.js failed to load for some reason.  Please check your browser console for error messages.<br></p>\n",
       "        </div>\n",
       "<script>\n",
       "\n",
       "var loadScriptAsync = function(uri){\n",
       "  return new Promise((resolve, reject) => {\n",
       "    //this is to ignore the existence of requirejs amd\n",
       "    var savedexports, savedmodule;\n",
       "    if (typeof exports !== 'undefined') savedexports = exports;\n",
       "    else exports = {}\n",
       "    if (typeof module !== 'undefined') savedmodule = module;\n",
       "    else module = {}\n",
       "\n",
       "    var tag = document.createElement('script');\n",
       "    tag.src = uri;\n",
       "    tag.async = true;\n",
       "    tag.onload = () => {\n",
       "        exports = savedexports;\n",
       "        module = savedmodule;\n",
       "        resolve();\n",
       "    };\n",
       "  var firstScriptTag = document.getElementsByTagName('script')[0];\n",
       "  firstScriptTag.parentNode.insertBefore(tag, firstScriptTag);\n",
       "});\n",
       "};\n",
       "\n",
       "if(typeof $3Dmolpromise === 'undefined') {\n",
       "$3Dmolpromise = null;\n",
       "  $3Dmolpromise = loadScriptAsync('https://cdnjs.cloudflare.com/ajax/libs/3Dmol/2.1.0/3Dmol-min.js');\n",
       "}\n",
       "\n",
       "var viewer_17178822823254888 = null;\n",
       "var warn = document.getElementById(\"3dmolwarning_17178822823254888\");\n",
       "if(warn) {\n",
       "    warn.parentNode.removeChild(warn);\n",
       "}\n",
       "$3Dmolpromise.then(function() {\n",
       "viewer_17178822823254888 = $3Dmol.createViewer(document.getElementById(\"3dmolviewer_17178822823254888\"),{backgroundColor:\"white\"});\n",
       "viewer_17178822823254888.zoomTo();\n",
       "\tviewer_17178822823254888.addModel(\"\\n\\n\\n 21 21  0  0  0  0  0  0  0  0999 V2000\\n    2.0564   -0.1654    0.3973 C   0  0  0  0  0  0  0  0  0  0  0\\n    0.6889    2.0285   -0.6482 C   0  0  0  0  0  0  0  0  0  0  0\\n    2.7407    1.0233    0.1253 C   0  0  0  0  0  0  0  0  0  0  0\\n    2.0573    2.1178   -0.4002 C   0  0  0  0  0  0  0  0  0  0  0\\n   -3.5940    1.0321    0.0459 C   0  0  0  0  0  0  0  0  0  0  0\\n    0.6774   -0.2751    0.1510 C   0  0  0  0  0  0  0  0  0  0  0\\n    0.0027    0.8423   -0.3589 C   0  0  0  0  0  0  0  0  0  0  0\\n    0.6329   -2.5453    0.9336 O   0  0  0  0  0  0  0  0  0  0  0\\n   -1.7645    1.4325    1.5657 O   0  0  0  0  0  0  0  0  0  0  0\\n   -1.2489   -1.6841    0.1298 O   0  0  0  0  0  0  0  0  0  0  0\\n    0.0528   -1.5888    0.4496 C   0  0  0  0  0  0  0  0  0  0  0\\n   -2.1520    1.1284    0.4451 C   0  0  0  0  0  0  0  0  0  0  0\\n   -1.3617    0.8283   -0.6583 O   0  0  0  0  0  0  0  0  0  0  0\\n    2.5850   -1.0050    0.7979 H   0  0  0  0  0  0  0  0  0  0  0\\n    0.1584    2.8621   -1.0588 H   0  0  0  0  0  0  0  0  0  0  0\\n    3.7904    1.0886    0.3225 H   0  0  0  0  0  0  0  0  0  0  0\\n    2.5822    3.0255   -0.6134 H   0  0  0  0  0  0  0  0  0  0  0\\n   -4.1514    0.7991   -0.8372 H   0  0  0  0  0  0  0  0  0  0  0\\n   -4.4541    0.4658    0.3364 H   0  0  0  0  0  0  0  0  0  0  0\\n   -4.4449    1.6798    0.0103 H   0  0  0  0  0  0  0  0  0  0  0\\n   -2.1692   -1.7515   -0.0964 H   0  0  0  0  0  0  0  0  0  0  0\\n  8 11  2  0  0  0  0\\n 11 10  1  0  0  0  0\\n  5 18  1  0  0  0  0\\n 15  2  1  0  0  0  0\\n  7 13  1  0  0  0  0\\n  3  1  4  0  0  0  0\\n  5 20  1  0  0  0  0\\n  6 11  1  0  0  0  0\\n  5 19  1  0  0  0  0\\n  7  2  4  0  0  0  0\\n  5 12  1  0  0  0  0\\n  4 17  1  0  0  0  0\\n  1 14  1  0  0  0  0\\n  4  2  4  0  0  0  0\\n 12  9  2  0  0  0  0\\n  6  1  4  0  0  0  0\\n  6  7  4  0  0  0  0\\n 21 10  1  0  0  0  0\\n  3  4  4  0  0  0  0\\n 12 13  1  0  0  0  0\\n  3 16  1  0  0  0  0\\nM  END\\n\");\n",
       "\tviewer_17178822823254888.setStyle({\"stick\": {}});\n",
       "\tviewer_17178822823254888.zoomTo();\n",
       "viewer_17178822823254888.render();\n",
       "});\n",
       "</script>"
      ]
     },
     "metadata": {},
     "output_type": "display_data"
    }
   ],
   "source": [
    "aspirin_noH = psimol.Molecule.from_xyz('example_data/aspirin_noH.xyz')\n",
    "aspirin_noH.visualize()\n",
    "\n",
    "aspirin_noH.add_hydrogens()\n",
    "aspirin_noH.visualize()"
   ]
  },
  {
   "cell_type": "markdown",
   "metadata": {},
   "source": [
    "### Mutating atoms and getting some basic molecular properties"
   ]
  },
  {
   "cell_type": "code",
   "execution_count": 11,
   "metadata": {},
   "outputs": [
    {
     "data": {
      "application/3dmoljs_load.v0": "<div id=\"3dmolviewer_1717889855996942\"  style=\"position: relative; width: 400px; height: 400px;\">\n        <p id=\"3dmolwarning_1717889855996942\" style=\"background-color:#ffcccc;color:black\">3Dmol.js failed to load for some reason.  Please check your browser console for error messages.<br></p>\n        </div>\n<script>\n\nvar loadScriptAsync = function(uri){\n  return new Promise((resolve, reject) => {\n    //this is to ignore the existence of requirejs amd\n    var savedexports, savedmodule;\n    if (typeof exports !== 'undefined') savedexports = exports;\n    else exports = {}\n    if (typeof module !== 'undefined') savedmodule = module;\n    else module = {}\n\n    var tag = document.createElement('script');\n    tag.src = uri;\n    tag.async = true;\n    tag.onload = () => {\n        exports = savedexports;\n        module = savedmodule;\n        resolve();\n    };\n  var firstScriptTag = document.getElementsByTagName('script')[0];\n  firstScriptTag.parentNode.insertBefore(tag, firstScriptTag);\n});\n};\n\nif(typeof $3Dmolpromise === 'undefined') {\n$3Dmolpromise = null;\n  $3Dmolpromise = loadScriptAsync('https://cdnjs.cloudflare.com/ajax/libs/3Dmol/2.1.0/3Dmol-min.js');\n}\n\nvar viewer_1717889855996942 = null;\nvar warn = document.getElementById(\"3dmolwarning_1717889855996942\");\nif(warn) {\n    warn.parentNode.removeChild(warn);\n}\n$3Dmolpromise.then(function() {\nviewer_1717889855996942 = $3Dmol.createViewer(document.getElementById(\"3dmolviewer_1717889855996942\"),{backgroundColor:\"white\"});\nviewer_1717889855996942.zoomTo();\n\tviewer_1717889855996942.addModel(\"c1ccccc1\\n\\n\\n 12 12  0  0  0  0  0  0  0  0999 V2000\\n    0.0000   -1.5000    0.0000 C   0  0  0  0  0  0  0  0  0  0  0\\n    0.0000    0.0000    0.0000 C   0  0  0  0  0  0  0  0  0  0  0\\n    1.2990    0.7500    0.0000 C   0  0  0  0  0  0  0  0  0  0  0\\n    2.5981    0.0000    0.0000 C   0  0  0  0  0  0  0  0  0  0  0\\n    2.5981   -1.5000    0.0000 C   0  0  0  0  0  0  0  0  0  0  0\\n    1.2990   -2.2500    0.0000 C   0  0  0  0  0  0  0  0  0  0  0\\n   -0.9267   -2.0350   -0.0000 H   0  0  0  0  0  0  0  0  0  0  0\\n   -0.9266    0.5350   -0.0000 H   0  0  0  0  0  0  0  0  0  0  0\\n    1.2990    1.8200   -0.0000 H   0  0  0  0  0  0  0  0  0  0  0\\n    3.5247    0.5350    0.0000 H   0  0  0  0  0  0  0  0  0  0  0\\n    3.5247   -2.0350   -0.0000 H   0  0  0  0  0  0  0  0  0  0  0\\n    1.2990   -3.3200    0.0000 H   0  0  0  0  0  0  0  0  0  0  0\\n  2  1  4  0  0  0  0\\n  2  3  4  0  0  0  0\\n  3  4  4  0  0  0  0\\n  5  6  4  0  0  0  0\\n  8  2  1  0  0  0  0\\n  5 11  1  0  0  0  0\\n  1  7  1  0  0  0  0\\n 12  6  1  0  0  0  0\\n  4 10  1  0  0  0  0\\n  3  9  1  0  0  0  0\\n  6  1  4  0  0  0  0\\n  5  4  4  0  0  0  0\\nM  END\\n\");\n\tviewer_1717889855996942.setStyle({\"stick\": {}});\n\tviewer_1717889855996942.zoomTo();\nviewer_1717889855996942.render();\n});\n</script>",
      "text/html": [
       "<div id=\"3dmolviewer_1717889855996942\"  style=\"position: relative; width: 400px; height: 400px;\">\n",
       "        <p id=\"3dmolwarning_1717889855996942\" style=\"background-color:#ffcccc;color:black\">3Dmol.js failed to load for some reason.  Please check your browser console for error messages.<br></p>\n",
       "        </div>\n",
       "<script>\n",
       "\n",
       "var loadScriptAsync = function(uri){\n",
       "  return new Promise((resolve, reject) => {\n",
       "    //this is to ignore the existence of requirejs amd\n",
       "    var savedexports, savedmodule;\n",
       "    if (typeof exports !== 'undefined') savedexports = exports;\n",
       "    else exports = {}\n",
       "    if (typeof module !== 'undefined') savedmodule = module;\n",
       "    else module = {}\n",
       "\n",
       "    var tag = document.createElement('script');\n",
       "    tag.src = uri;\n",
       "    tag.async = true;\n",
       "    tag.onload = () => {\n",
       "        exports = savedexports;\n",
       "        module = savedmodule;\n",
       "        resolve();\n",
       "    };\n",
       "  var firstScriptTag = document.getElementsByTagName('script')[0];\n",
       "  firstScriptTag.parentNode.insertBefore(tag, firstScriptTag);\n",
       "});\n",
       "};\n",
       "\n",
       "if(typeof $3Dmolpromise === 'undefined') {\n",
       "$3Dmolpromise = null;\n",
       "  $3Dmolpromise = loadScriptAsync('https://cdnjs.cloudflare.com/ajax/libs/3Dmol/2.1.0/3Dmol-min.js');\n",
       "}\n",
       "\n",
       "var viewer_1717889855996942 = null;\n",
       "var warn = document.getElementById(\"3dmolwarning_1717889855996942\");\n",
       "if(warn) {\n",
       "    warn.parentNode.removeChild(warn);\n",
       "}\n",
       "$3Dmolpromise.then(function() {\n",
       "viewer_1717889855996942 = $3Dmol.createViewer(document.getElementById(\"3dmolviewer_1717889855996942\"),{backgroundColor:\"white\"});\n",
       "viewer_1717889855996942.zoomTo();\n",
       "\tviewer_1717889855996942.addModel(\"c1ccccc1\\n\\n\\n 12 12  0  0  0  0  0  0  0  0999 V2000\\n    0.0000   -1.5000    0.0000 C   0  0  0  0  0  0  0  0  0  0  0\\n    0.0000    0.0000    0.0000 C   0  0  0  0  0  0  0  0  0  0  0\\n    1.2990    0.7500    0.0000 C   0  0  0  0  0  0  0  0  0  0  0\\n    2.5981    0.0000    0.0000 C   0  0  0  0  0  0  0  0  0  0  0\\n    2.5981   -1.5000    0.0000 C   0  0  0  0  0  0  0  0  0  0  0\\n    1.2990   -2.2500    0.0000 C   0  0  0  0  0  0  0  0  0  0  0\\n   -0.9267   -2.0350   -0.0000 H   0  0  0  0  0  0  0  0  0  0  0\\n   -0.9266    0.5350   -0.0000 H   0  0  0  0  0  0  0  0  0  0  0\\n    1.2990    1.8200   -0.0000 H   0  0  0  0  0  0  0  0  0  0  0\\n    3.5247    0.5350    0.0000 H   0  0  0  0  0  0  0  0  0  0  0\\n    3.5247   -2.0350   -0.0000 H   0  0  0  0  0  0  0  0  0  0  0\\n    1.2990   -3.3200    0.0000 H   0  0  0  0  0  0  0  0  0  0  0\\n  2  1  4  0  0  0  0\\n  2  3  4  0  0  0  0\\n  3  4  4  0  0  0  0\\n  5  6  4  0  0  0  0\\n  8  2  1  0  0  0  0\\n  5 11  1  0  0  0  0\\n  1  7  1  0  0  0  0\\n 12  6  1  0  0  0  0\\n  4 10  1  0  0  0  0\\n  3  9  1  0  0  0  0\\n  6  1  4  0  0  0  0\\n  5  4  4  0  0  0  0\\nM  END\\n\");\n",
       "\tviewer_1717889855996942.setStyle({\"stick\": {}});\n",
       "\tviewer_1717889855996942.zoomTo();\n",
       "viewer_1717889855996942.render();\n",
       "});\n",
       "</script>"
      ]
     },
     "metadata": {},
     "output_type": "display_data"
    },
    {
     "name": "stdout",
     "output_type": "stream",
     "text": [
      "C (2; Carbon) : C (1; Carbon) \n",
      "C (6; Carbon) : C (1; Carbon) \n",
      "C (1; Carbon) - H (Hydrogen) \n",
      "C (2; Carbon) : C (3; Carbon) \n",
      "H (Hydrogen) - C (2; Carbon) \n",
      "C (3; Carbon) : C (4; Carbon) \n",
      "C (3; Carbon) - H (Hydrogen) \n",
      "C (5; Carbon) : C (4; Carbon) \n",
      "C (4; Carbon) - H (Hydrogen) \n",
      "C (5; Carbon) : C (6; Carbon) \n",
      "C (5; Carbon) - H (Hydrogen) \n",
      "H (Hydrogen) - C (6; Carbon) \n"
     ]
    },
    {
     "data": {
      "application/3dmoljs_load.v0": "<div id=\"3dmolviewer_171788985600671\"  style=\"position: relative; width: 400px; height: 400px;\">\n        <p id=\"3dmolwarning_171788985600671\" style=\"background-color:#ffcccc;color:black\">3Dmol.js failed to load for some reason.  Please check your browser console for error messages.<br></p>\n        </div>\n<script>\n\nvar loadScriptAsync = function(uri){\n  return new Promise((resolve, reject) => {\n    //this is to ignore the existence of requirejs amd\n    var savedexports, savedmodule;\n    if (typeof exports !== 'undefined') savedexports = exports;\n    else exports = {}\n    if (typeof module !== 'undefined') savedmodule = module;\n    else module = {}\n\n    var tag = document.createElement('script');\n    tag.src = uri;\n    tag.async = true;\n    tag.onload = () => {\n        exports = savedexports;\n        module = savedmodule;\n        resolve();\n    };\n  var firstScriptTag = document.getElementsByTagName('script')[0];\n  firstScriptTag.parentNode.insertBefore(tag, firstScriptTag);\n});\n};\n\nif(typeof $3Dmolpromise === 'undefined') {\n$3Dmolpromise = null;\n  $3Dmolpromise = loadScriptAsync('https://cdnjs.cloudflare.com/ajax/libs/3Dmol/2.1.0/3Dmol-min.js');\n}\n\nvar viewer_171788985600671 = null;\nvar warn = document.getElementById(\"3dmolwarning_171788985600671\");\nif(warn) {\n    warn.parentNode.removeChild(warn);\n}\n$3Dmolpromise.then(function() {\nviewer_171788985600671 = $3Dmol.createViewer(document.getElementById(\"3dmolviewer_171788985600671\"),{backgroundColor:\"white\"});\nviewer_171788985600671.zoomTo();\n\tviewer_171788985600671.addModel(\"c1ccccc1\\n\\n\\n 12 12  0  0  0  0  0  0  0  0999 V2000\\n    0.0000   -1.5000    0.0000 C   0  0  0  0  0  0  0  0  0  0  0\\n    0.0000    0.0000    0.0000 C   0  0  0  0  0  0  0  0  0  0  0\\n    1.2990    0.7500    0.0000 C   0  0  0  0  0  0  0  0  0  0  0\\n    2.5981    0.0000    0.0000 C   0  0  0  0  0  0  0  0  0  0  0\\n    2.5981   -1.5000    0.0000 C   0  0  0  0  0  0  0  0  0  0  0\\n    1.2990   -2.2500    0.0000 C   0  0  0  0  0  0  0  0  0  0  0\\n   -0.9267   -2.0350   -0.0000 H   0  0  0  0  0  0  0  0  0  0  0\\n   -0.9266    0.5350   -0.0000 H   0  0  0  0  0  0  0  0  0  0  0\\n    1.2990    1.8200   -0.0000 H   0  0  0  0  0  0  0  0  0  0  0\\n    3.5247    0.5350    0.0000 H   0  0  0  0  0  0  0  0  0  0  0\\n    3.5247   -2.0350   -0.0000 H   0  0  0  0  0  0  0  0  0  0  0\\n    1.2990   -3.3200    0.0000 O   0  0  0  0  0  0  0  0  0  0  0\\n  2  1  4  0  0  0  0\\n  2  3  4  0  0  0  0\\n  3  4  4  0  0  0  0\\n  5  6  4  0  0  0  0\\n  8  2  1  0  0  0  0\\n  5 11  1  0  0  0  0\\n  1  7  1  0  0  0  0\\n 12  6  1  0  0  0  0\\n  4 10  1  0  0  0  0\\n  3  9  1  0  0  0  0\\n  6  1  4  0  0  0  0\\n  5  4  4  0  0  0  0\\nM  END\\n\");\n\tviewer_171788985600671.setStyle({\"stick\": {}});\n\tviewer_171788985600671.zoomTo();\nviewer_171788985600671.render();\n});\n</script>",
      "text/html": [
       "<div id=\"3dmolviewer_171788985600671\"  style=\"position: relative; width: 400px; height: 400px;\">\n",
       "        <p id=\"3dmolwarning_171788985600671\" style=\"background-color:#ffcccc;color:black\">3Dmol.js failed to load for some reason.  Please check your browser console for error messages.<br></p>\n",
       "        </div>\n",
       "<script>\n",
       "\n",
       "var loadScriptAsync = function(uri){\n",
       "  return new Promise((resolve, reject) => {\n",
       "    //this is to ignore the existence of requirejs amd\n",
       "    var savedexports, savedmodule;\n",
       "    if (typeof exports !== 'undefined') savedexports = exports;\n",
       "    else exports = {}\n",
       "    if (typeof module !== 'undefined') savedmodule = module;\n",
       "    else module = {}\n",
       "\n",
       "    var tag = document.createElement('script');\n",
       "    tag.src = uri;\n",
       "    tag.async = true;\n",
       "    tag.onload = () => {\n",
       "        exports = savedexports;\n",
       "        module = savedmodule;\n",
       "        resolve();\n",
       "    };\n",
       "  var firstScriptTag = document.getElementsByTagName('script')[0];\n",
       "  firstScriptTag.parentNode.insertBefore(tag, firstScriptTag);\n",
       "});\n",
       "};\n",
       "\n",
       "if(typeof $3Dmolpromise === 'undefined') {\n",
       "$3Dmolpromise = null;\n",
       "  $3Dmolpromise = loadScriptAsync('https://cdnjs.cloudflare.com/ajax/libs/3Dmol/2.1.0/3Dmol-min.js');\n",
       "}\n",
       "\n",
       "var viewer_171788985600671 = null;\n",
       "var warn = document.getElementById(\"3dmolwarning_171788985600671\");\n",
       "if(warn) {\n",
       "    warn.parentNode.removeChild(warn);\n",
       "}\n",
       "$3Dmolpromise.then(function() {\n",
       "viewer_171788985600671 = $3Dmol.createViewer(document.getElementById(\"3dmolviewer_171788985600671\"),{backgroundColor:\"white\"});\n",
       "viewer_171788985600671.zoomTo();\n",
       "\tviewer_171788985600671.addModel(\"c1ccccc1\\n\\n\\n 12 12  0  0  0  0  0  0  0  0999 V2000\\n    0.0000   -1.5000    0.0000 C   0  0  0  0  0  0  0  0  0  0  0\\n    0.0000    0.0000    0.0000 C   0  0  0  0  0  0  0  0  0  0  0\\n    1.2990    0.7500    0.0000 C   0  0  0  0  0  0  0  0  0  0  0\\n    2.5981    0.0000    0.0000 C   0  0  0  0  0  0  0  0  0  0  0\\n    2.5981   -1.5000    0.0000 C   0  0  0  0  0  0  0  0  0  0  0\\n    1.2990   -2.2500    0.0000 C   0  0  0  0  0  0  0  0  0  0  0\\n   -0.9267   -2.0350   -0.0000 H   0  0  0  0  0  0  0  0  0  0  0\\n   -0.9266    0.5350   -0.0000 H   0  0  0  0  0  0  0  0  0  0  0\\n    1.2990    1.8200   -0.0000 H   0  0  0  0  0  0  0  0  0  0  0\\n    3.5247    0.5350    0.0000 H   0  0  0  0  0  0  0  0  0  0  0\\n    3.5247   -2.0350   -0.0000 H   0  0  0  0  0  0  0  0  0  0  0\\n    1.2990   -3.3200    0.0000 O   0  0  0  0  0  0  0  0  0  0  0\\n  2  1  4  0  0  0  0\\n  2  3  4  0  0  0  0\\n  3  4  4  0  0  0  0\\n  5  6  4  0  0  0  0\\n  8  2  1  0  0  0  0\\n  5 11  1  0  0  0  0\\n  1  7  1  0  0  0  0\\n 12  6  1  0  0  0  0\\n  4 10  1  0  0  0  0\\n  3  9  1  0  0  0  0\\n  6  1  4  0  0  0  0\\n  5  4  4  0  0  0  0\\nM  END\\n\");\n",
       "\tviewer_171788985600671.setStyle({\"stick\": {}});\n",
       "\tviewer_171788985600671.zoomTo();\n",
       "viewer_171788985600671.render();\n",
       "});\n",
       "</script>"
      ]
     },
     "metadata": {},
     "output_type": "display_data"
    },
    {
     "name": "stdout",
     "output_type": "stream",
     "text": [
      "Molar mass: 93.0\n",
      "Total charge: 0\n"
     ]
    }
   ],
   "source": [
    "benzene = psimol.Molecule.from_smiles('c1ccccc1')\n",
    "benzene.visualize()\n",
    "\n",
    "# Print all bonds\n",
    "benzene.print_bonds()\n",
    "\n",
    "# Mutate last hydrogen to oxygen\n",
    "last_hydrogen = benzene.atoms[-1]\n",
    "last_hydrogen.mutate('O')\n",
    "benzene.visualize()\n",
    "\n",
    "# Print molar mass and total charge\n",
    "print('Molar mass:', benzene.molar_mass)\n",
    "print('Total charge:', benzene.total_charge)"
   ]
  },
  {
   "cell_type": "markdown",
   "metadata": {},
   "source": [
    "### Saving obtained molecules to .xyz or .mol files"
   ]
  },
  {
   "cell_type": "code",
   "execution_count": 27,
   "metadata": {},
   "outputs": [],
   "source": [
    "output_path = 'example_data'\n",
    "\n",
    "optimized_molecule.save_xyz(output_path + '/dummy_molecule.xyz')\n",
    "optimized_molecule.save_mol(output_path + '/dummy_molecule.mol')"
   ]
  },
  {
   "cell_type": "code",
   "execution_count": null,
   "metadata": {},
   "outputs": [],
   "source": []
  }
 ],
 "metadata": {
  "kernelspec": {
   "display_name": "psimol-env",
   "language": "python",
   "name": "python3"
  },
  "language_info": {
   "codemirror_mode": {
    "name": "ipython",
    "version": 3
   },
   "file_extension": ".py",
   "mimetype": "text/x-python",
   "name": "python",
   "nbconvert_exporter": "python",
   "pygments_lexer": "ipython3",
   "version": "3.12.3"
  }
 },
 "nbformat": 4,
 "nbformat_minor": 2
}
