{
 "cells": [
  {
   "cell_type": "markdown",
   "metadata": {},
   "source": [
    "## Example usage of PsiMol"
   ]
  },
  {
   "cell_type": "code",
   "execution_count": 1,
   "metadata": {},
   "outputs": [],
   "source": [
    "import psimol"
   ]
  },
  {
   "cell_type": "markdown",
   "metadata": {},
   "source": [
    "### Reading different file formats, like .xyz, .mol or .cif"
   ]
  },
  {
   "cell_type": "code",
   "execution_count": null,
   "metadata": {},
   "outputs": [],
   "source": [
    "# XYZ format\n",
    "aspirin = psimol.Molecule.from_xyz('example_data/aspirin.xyz')\n",
    "aspirin.visualize()\n",
    "\n",
    "# MOL/SDF format\n",
    "penicillin = psimol.Molecule.from_mol('example_data/penicillin.mol')\n",
    "penicillin.visualize()\n",
    "\n",
    "# CIF format\n",
    "atp = psimol.Molecule.from_cif('example_data/atp.cif')\n",
    "atp.visualize()"
   ]
  },
  {
   "cell_type": "markdown",
   "metadata": {},
   "source": [
    "### Parsing SMILES to 3D coordinates"
   ]
  },
  {
   "cell_type": "code",
   "execution_count": 3,
   "metadata": {},
   "outputs": [
    {
     "data": {
      "application/3dmoljs_load.v0": "<div id=\"3dmolviewer_17178814180562549\"  style=\"position: relative; width: 400px; height: 400px;\">\n        <p id=\"3dmolwarning_17178814180562549\" style=\"background-color:#ffcccc;color:black\">3Dmol.js failed to load for some reason.  Please check your browser console for error messages.<br></p>\n        </div>\n<script>\n\nvar loadScriptAsync = function(uri){\n  return new Promise((resolve, reject) => {\n    //this is to ignore the existence of requirejs amd\n    var savedexports, savedmodule;\n    if (typeof exports !== 'undefined') savedexports = exports;\n    else exports = {}\n    if (typeof module !== 'undefined') savedmodule = module;\n    else module = {}\n\n    var tag = document.createElement('script');\n    tag.src = uri;\n    tag.async = true;\n    tag.onload = () => {\n        exports = savedexports;\n        module = savedmodule;\n        resolve();\n    };\n  var firstScriptTag = document.getElementsByTagName('script')[0];\n  firstScriptTag.parentNode.insertBefore(tag, firstScriptTag);\n});\n};\n\nif(typeof $3Dmolpromise === 'undefined') {\n$3Dmolpromise = null;\n  $3Dmolpromise = loadScriptAsync('https://cdnjs.cloudflare.com/ajax/libs/3Dmol/2.1.0/3Dmol-min.js');\n}\n\nvar viewer_17178814180562549 = null;\nvar warn = document.getElementById(\"3dmolwarning_17178814180562549\");\nif(warn) {\n    warn.parentNode.removeChild(warn);\n}\n$3Dmolpromise.then(function() {\nviewer_17178814180562549 = $3Dmol.createViewer(document.getElementById(\"3dmolviewer_17178814180562549\"),{backgroundColor:\"white\"});\nviewer_17178814180562549.zoomTo();\n\tviewer_17178814180562549.addModel(\"C1CC1N2C=C(C(=O)C3=CC(=C(C=C32)N4CCNCC4)F)C(=O)O\\n\\n\\n 42 45  0  0  0  0  0  0  0  0999 V2000\\n    0.0000   -1.5000    0.0000 C   0  0  0  0  0  0  0  0  0  0  0\\n    0.0000    0.0000    0.0000 C   0  0  0  0  0  0  0  0  0  0  0\\n    1.2990   -0.7500    0.0000 C   0  0  0  0  0  0  0  0  0  0  0\\n    2.7590   -0.7500    0.0005 N   0  0  0  0  0  0  0  0  0  0  0\\n    3.8697    0.1977    0.0005 C   0  0  0  0  0  0  0  0  0  0  0\\n    5.1664   -0.1399    0.0005 C   0  0  0  0  0  0  0  0  0  0  0\\n    5.5233   -1.5969    0.0005 C   0  0  0  0  0  0  0  0  0  0  0\\n    6.7087   -1.9607    0.0001 O   0  0  0  0  0  0  0  0  0  0  0\\n    4.4106   -2.6029    0.0005 C   0  0  0  0  0  0  0  0  0  0  0\\n    4.5959   -4.0914    0.0005 C   0  0  0  0  0  0  0  0  0  0  0\\n    3.5765   -4.9612    0.0005 C   0  0  0  0  0  0  0  0  0  0  0\\n    2.1948   -4.3774    0.0005 C   0  0  0  0  0  0  0  0  0  0  0\\n    1.9512   -3.0597    0.0005 C   0  0  0  0  0  0  0  0  0  0  0\\n    2.9969   -2.1015    0.0005 C   0  0  0  0  0  0  0  0  0  0  0\\n    1.1462   -5.3932    0.0016 N   0  0  0  0  0  0  0  0  0  0  0\\n    1.6322   -6.7699    0.0016 C   0  0  0  0  0  0  0  0  0  0  0\\n    0.6355   -7.8909    0.0016 C   0  0  0  0  0  0  0  0  0  0  0\\n   -0.7972   -7.6099    0.0016 N   0  0  0  0  0  0  0  0  0  0  0\\n   -1.2832   -6.2331    0.0016 C   0  0  0  0  0  0  0  0  0  0  0\\n   -0.2865   -5.1122    0.0016 C   0  0  0  0  0  0  0  0  0  0  0\\n    3.6472   -6.3494    0.0013 F   0  0  0  0  0  0  0  0  0  0  0\\n    6.3305    0.8061    0.0004 C   0  0  0  0  0  0  0  0  0  0  0\\n    7.3831    0.6745    0.6426 O   0  0  0  0  0  0  0  0  0  0  0\\n    6.2080    1.9264   -0.7959 O   0  0  0  0  0  0  0  0  0  0  0\\n   -0.2726   -1.9722   -0.9206 H   0  0  0  0  0  0  0  0  0  0  0\\n   -0.2726   -1.9722    0.9206 H   0  0  0  0  0  0  0  0  0  0  0\\n   -0.2726    0.4721   -0.9207 H   0  0  0  0  0  0  0  0  0  0  0\\n   -0.2725    0.4721    0.9207 H   0  0  0  0  0  0  0  0  0  0  0\\n    1.2778   -0.7500   -1.0698 H   0  0  0  0  0  0  0  0  0  0  0\\n    3.5418    1.2162    0.0000 H   0  0  0  0  0  0  0  0  0  0  0\\n    5.6313   -4.3612    0.0007 H   0  0  0  0  0  0  0  0  0  0  0\\n    0.9578   -2.6622    0.0001 H   0  0  0  0  0  0  0  0  0  0  0\\n    2.0043   -6.8697    0.9998 H   0  0  0  0  0  0  0  0  0  0  0\\n    2.0044   -6.8698   -0.9966 H   0  0  0  0  0  0  0  0  0  0  0\\n    0.7149   -8.3112    0.9823 H   0  0  0  0  0  0  0  0  0  0  0\\n    0.7149   -8.3113   -0.9792 H   0  0  0  0  0  0  0  0  0  0  0\\n   -1.4706   -8.3892    0.0015 H   0  0  0  0  0  0  0  0  0  0  0\\n   -1.6822   -6.1279    0.9888 H   0  0  0  0  0  0  0  0  0  0  0\\n   -1.6822   -6.1279   -0.9857 H   0  0  0  0  0  0  0  0  0  0  0\\n   -0.3719   -4.7013    0.9858 H   0  0  0  0  0  0  0  0  0  0  0\\n   -0.3719   -4.7013   -0.9827 H   0  0  0  0  0  0  0  0  0  0  0\\n    6.1236    2.6977   -1.3441 H   0  0  0  0  0  0  0  0  0  0  0\\n 11 10  1  0  0  0  0\\n 27  2  1  0  0  0  0\\n  1  2  1  0  0  0  0\\n 20 19  1  0  0  0  0\\n  1 25  1  0  0  0  0\\n 15 20  1  0  0  0  0\\n 16 34  1  0  0  0  0\\n 11 21  1  0  0  0  0\\n  3 29  1  0  0  0  0\\n 13 32  1  0  0  0  0\\n  7  9  1  0  0  0  0\\n 31 10  1  0  0  0  0\\n 16 17  1  0  0  0  0\\n 10  9  2  0  0  0  0\\n 20 40  1  0  0  0  0\\n  3  2  1  0  0  0  0\\n 30  5  1  0  0  0  0\\n 35 17  1  0  0  0  0\\n 15 16  1  0  0  0  0\\n 39 19  1  0  0  0  0\\n 17 36  1  0  0  0  0\\n 15 12  1  0  0  0  0\\n 28  2  1  0  0  0  0\\n 22 23  2  0  0  0  0\\n  3  1  1  0  0  0  0\\n  7  6  1  0  0  0  0\\n 13 12  1  0  0  0  0\\n  7  8  2  0  0  0  0\\n  5  6  2  0  0  0  0\\n 14  9  1  0  0  0  0\\n 13 14  2  0  0  0  0\\n 18 19  1  0  0  0  0\\n  5  4  1  0  0  0  0\\n  3  4  1  0  0  0  0\\n 37 18  1  0  0  0  0\\n 26  1  1  0  0  0  0\\n 20 41  1  0  0  0  0\\n 17 18  1  0  0  0  0\\n 22  6  1  0  0  0  0\\n 11 12  2  0  0  0  0\\n 24 22  1  0  0  0  0\\n 19 38  1  0  0  0  0\\n 16 33  1  0  0  0  0\\n 14  4  1  0  0  0  0\\n 24 42  1  0  0  0  0\\nM  END\\n\");\n\tviewer_17178814180562549.setStyle({\"stick\": {}});\n\tviewer_17178814180562549.zoomTo();\nviewer_17178814180562549.render();\n});\n</script>",
      "text/html": [
       "<div id=\"3dmolviewer_17178814180562549\"  style=\"position: relative; width: 400px; height: 400px;\">\n",
       "        <p id=\"3dmolwarning_17178814180562549\" style=\"background-color:#ffcccc;color:black\">3Dmol.js failed to load for some reason.  Please check your browser console for error messages.<br></p>\n",
       "        </div>\n",
       "<script>\n",
       "\n",
       "var loadScriptAsync = function(uri){\n",
       "  return new Promise((resolve, reject) => {\n",
       "    //this is to ignore the existence of requirejs amd\n",
       "    var savedexports, savedmodule;\n",
       "    if (typeof exports !== 'undefined') savedexports = exports;\n",
       "    else exports = {}\n",
       "    if (typeof module !== 'undefined') savedmodule = module;\n",
       "    else module = {}\n",
       "\n",
       "    var tag = document.createElement('script');\n",
       "    tag.src = uri;\n",
       "    tag.async = true;\n",
       "    tag.onload = () => {\n",
       "        exports = savedexports;\n",
       "        module = savedmodule;\n",
       "        resolve();\n",
       "    };\n",
       "  var firstScriptTag = document.getElementsByTagName('script')[0];\n",
       "  firstScriptTag.parentNode.insertBefore(tag, firstScriptTag);\n",
       "});\n",
       "};\n",
       "\n",
       "if(typeof $3Dmolpromise === 'undefined') {\n",
       "$3Dmolpromise = null;\n",
       "  $3Dmolpromise = loadScriptAsync('https://cdnjs.cloudflare.com/ajax/libs/3Dmol/2.1.0/3Dmol-min.js');\n",
       "}\n",
       "\n",
       "var viewer_17178814180562549 = null;\n",
       "var warn = document.getElementById(\"3dmolwarning_17178814180562549\");\n",
       "if(warn) {\n",
       "    warn.parentNode.removeChild(warn);\n",
       "}\n",
       "$3Dmolpromise.then(function() {\n",
       "viewer_17178814180562549 = $3Dmol.createViewer(document.getElementById(\"3dmolviewer_17178814180562549\"),{backgroundColor:\"white\"});\n",
       "viewer_17178814180562549.zoomTo();\n",
       "\tviewer_17178814180562549.addModel(\"C1CC1N2C=C(C(=O)C3=CC(=C(C=C32)N4CCNCC4)F)C(=O)O\\n\\n\\n 42 45  0  0  0  0  0  0  0  0999 V2000\\n    0.0000   -1.5000    0.0000 C   0  0  0  0  0  0  0  0  0  0  0\\n    0.0000    0.0000    0.0000 C   0  0  0  0  0  0  0  0  0  0  0\\n    1.2990   -0.7500    0.0000 C   0  0  0  0  0  0  0  0  0  0  0\\n    2.7590   -0.7500    0.0005 N   0  0  0  0  0  0  0  0  0  0  0\\n    3.8697    0.1977    0.0005 C   0  0  0  0  0  0  0  0  0  0  0\\n    5.1664   -0.1399    0.0005 C   0  0  0  0  0  0  0  0  0  0  0\\n    5.5233   -1.5969    0.0005 C   0  0  0  0  0  0  0  0  0  0  0\\n    6.7087   -1.9607    0.0001 O   0  0  0  0  0  0  0  0  0  0  0\\n    4.4106   -2.6029    0.0005 C   0  0  0  0  0  0  0  0  0  0  0\\n    4.5959   -4.0914    0.0005 C   0  0  0  0  0  0  0  0  0  0  0\\n    3.5765   -4.9612    0.0005 C   0  0  0  0  0  0  0  0  0  0  0\\n    2.1948   -4.3774    0.0005 C   0  0  0  0  0  0  0  0  0  0  0\\n    1.9512   -3.0597    0.0005 C   0  0  0  0  0  0  0  0  0  0  0\\n    2.9969   -2.1015    0.0005 C   0  0  0  0  0  0  0  0  0  0  0\\n    1.1462   -5.3932    0.0016 N   0  0  0  0  0  0  0  0  0  0  0\\n    1.6322   -6.7699    0.0016 C   0  0  0  0  0  0  0  0  0  0  0\\n    0.6355   -7.8909    0.0016 C   0  0  0  0  0  0  0  0  0  0  0\\n   -0.7972   -7.6099    0.0016 N   0  0  0  0  0  0  0  0  0  0  0\\n   -1.2832   -6.2331    0.0016 C   0  0  0  0  0  0  0  0  0  0  0\\n   -0.2865   -5.1122    0.0016 C   0  0  0  0  0  0  0  0  0  0  0\\n    3.6472   -6.3494    0.0013 F   0  0  0  0  0  0  0  0  0  0  0\\n    6.3305    0.8061    0.0004 C   0  0  0  0  0  0  0  0  0  0  0\\n    7.3831    0.6745    0.6426 O   0  0  0  0  0  0  0  0  0  0  0\\n    6.2080    1.9264   -0.7959 O   0  0  0  0  0  0  0  0  0  0  0\\n   -0.2726   -1.9722   -0.9206 H   0  0  0  0  0  0  0  0  0  0  0\\n   -0.2726   -1.9722    0.9206 H   0  0  0  0  0  0  0  0  0  0  0\\n   -0.2726    0.4721   -0.9207 H   0  0  0  0  0  0  0  0  0  0  0\\n   -0.2725    0.4721    0.9207 H   0  0  0  0  0  0  0  0  0  0  0\\n    1.2778   -0.7500   -1.0698 H   0  0  0  0  0  0  0  0  0  0  0\\n    3.5418    1.2162    0.0000 H   0  0  0  0  0  0  0  0  0  0  0\\n    5.6313   -4.3612    0.0007 H   0  0  0  0  0  0  0  0  0  0  0\\n    0.9578   -2.6622    0.0001 H   0  0  0  0  0  0  0  0  0  0  0\\n    2.0043   -6.8697    0.9998 H   0  0  0  0  0  0  0  0  0  0  0\\n    2.0044   -6.8698   -0.9966 H   0  0  0  0  0  0  0  0  0  0  0\\n    0.7149   -8.3112    0.9823 H   0  0  0  0  0  0  0  0  0  0  0\\n    0.7149   -8.3113   -0.9792 H   0  0  0  0  0  0  0  0  0  0  0\\n   -1.4706   -8.3892    0.0015 H   0  0  0  0  0  0  0  0  0  0  0\\n   -1.6822   -6.1279    0.9888 H   0  0  0  0  0  0  0  0  0  0  0\\n   -1.6822   -6.1279   -0.9857 H   0  0  0  0  0  0  0  0  0  0  0\\n   -0.3719   -4.7013    0.9858 H   0  0  0  0  0  0  0  0  0  0  0\\n   -0.3719   -4.7013   -0.9827 H   0  0  0  0  0  0  0  0  0  0  0\\n    6.1236    2.6977   -1.3441 H   0  0  0  0  0  0  0  0  0  0  0\\n 11 10  1  0  0  0  0\\n 27  2  1  0  0  0  0\\n  1  2  1  0  0  0  0\\n 20 19  1  0  0  0  0\\n  1 25  1  0  0  0  0\\n 15 20  1  0  0  0  0\\n 16 34  1  0  0  0  0\\n 11 21  1  0  0  0  0\\n  3 29  1  0  0  0  0\\n 13 32  1  0  0  0  0\\n  7  9  1  0  0  0  0\\n 31 10  1  0  0  0  0\\n 16 17  1  0  0  0  0\\n 10  9  2  0  0  0  0\\n 20 40  1  0  0  0  0\\n  3  2  1  0  0  0  0\\n 30  5  1  0  0  0  0\\n 35 17  1  0  0  0  0\\n 15 16  1  0  0  0  0\\n 39 19  1  0  0  0  0\\n 17 36  1  0  0  0  0\\n 15 12  1  0  0  0  0\\n 28  2  1  0  0  0  0\\n 22 23  2  0  0  0  0\\n  3  1  1  0  0  0  0\\n  7  6  1  0  0  0  0\\n 13 12  1  0  0  0  0\\n  7  8  2  0  0  0  0\\n  5  6  2  0  0  0  0\\n 14  9  1  0  0  0  0\\n 13 14  2  0  0  0  0\\n 18 19  1  0  0  0  0\\n  5  4  1  0  0  0  0\\n  3  4  1  0  0  0  0\\n 37 18  1  0  0  0  0\\n 26  1  1  0  0  0  0\\n 20 41  1  0  0  0  0\\n 17 18  1  0  0  0  0\\n 22  6  1  0  0  0  0\\n 11 12  2  0  0  0  0\\n 24 22  1  0  0  0  0\\n 19 38  1  0  0  0  0\\n 16 33  1  0  0  0  0\\n 14  4  1  0  0  0  0\\n 24 42  1  0  0  0  0\\nM  END\\n\");\n",
       "\tviewer_17178814180562549.setStyle({\"stick\": {}});\n",
       "\tviewer_17178814180562549.zoomTo();\n",
       "viewer_17178814180562549.render();\n",
       "});\n",
       "</script>"
      ]
     },
     "metadata": {},
     "output_type": "display_data"
    }
   ],
   "source": [
    "# smiles = 'c2nc1ncnc(c1n2)n' # adenine\n",
    "# smiles = 'C1=CC=C(O)C=C1' # phenol\n",
    "# smiles = 'C1=CC2=C3C(=C1)C=CC4=CC=CC(=C43)C=C2' # pyrene\n",
    "# smiles = 'C1=CC=C2C3=C4C(=CC2=C1)C=CC5=C4C(=CC=C5)C=C3' # benz[a]pyrene\n",
    "# smiles = 'C1=CC=C2C(=C1)C=CC3=C2C=CC4=CC=CC=C43' # chrysene\n",
    "# smiles = 'CC#CCC(CC=O)CCC(CN)CC(Cc1ccccc1)CBr' #  some random molecule\n",
    "# smiles = 'Cn1cnc2c1c(=O)n(C)c(=O)n2C' # caffeine\n",
    "smiles = 'C1CC1N2C=C(C(=O)C3=CC(=C(C=C32)N4CCNCC4)F)C(=O)O' # Ciprofloxacin\n",
    "\n",
    "mol = psimol.Molecule.from_smiles(smiles)\n",
    "mol.visualize()"
   ]
  },
  {
   "cell_type": "markdown",
   "metadata": {},
   "source": [
    "### Optimizing molecular geometry, calculating energies and frequencies using quantum methods from psi4"
   ]
  },
  {
   "cell_type": "code",
   "execution_count": 5,
   "metadata": {},
   "outputs": [
    {
     "data": {
      "application/3dmoljs_load.v0": "<div id=\"3dmolviewer_1717882045135357\"  style=\"position: relative; width: 400px; height: 400px;\">\n        <p id=\"3dmolwarning_1717882045135357\" style=\"background-color:#ffcccc;color:black\">3Dmol.js failed to load for some reason.  Please check your browser console for error messages.<br></p>\n        </div>\n<script>\n\nvar loadScriptAsync = function(uri){\n  return new Promise((resolve, reject) => {\n    //this is to ignore the existence of requirejs amd\n    var savedexports, savedmodule;\n    if (typeof exports !== 'undefined') savedexports = exports;\n    else exports = {}\n    if (typeof module !== 'undefined') savedmodule = module;\n    else module = {}\n\n    var tag = document.createElement('script');\n    tag.src = uri;\n    tag.async = true;\n    tag.onload = () => {\n        exports = savedexports;\n        module = savedmodule;\n        resolve();\n    };\n  var firstScriptTag = document.getElementsByTagName('script')[0];\n  firstScriptTag.parentNode.insertBefore(tag, firstScriptTag);\n});\n};\n\nif(typeof $3Dmolpromise === 'undefined') {\n$3Dmolpromise = null;\n  $3Dmolpromise = loadScriptAsync('https://cdnjs.cloudflare.com/ajax/libs/3Dmol/2.1.0/3Dmol-min.js');\n}\n\nvar viewer_1717882045135357 = null;\nvar warn = document.getElementById(\"3dmolwarning_1717882045135357\");\nif(warn) {\n    warn.parentNode.removeChild(warn);\n}\n$3Dmolpromise.then(function() {\nviewer_1717882045135357 = $3Dmol.createViewer(document.getElementById(\"3dmolviewer_1717882045135357\"),{backgroundColor:\"white\"});\nviewer_1717882045135357.zoomTo();\n\tviewer_1717882045135357.addModel(\"NC(=O)O\\n\\n\\n  7  6  0  0  0  0  0  0  0  0999 V2000\\n    0.0000    0.0000    0.0000 N   0  0  0  0  0  0  0  0  0  0  0\\n    1.4600    0.0000    0.0000 C   0  0  0  0  0  0  0  0  0  0  0\\n    2.1895   -0.6497   -0.7638 O   0  0  0  0  0  0  0  0  0  0  0\\n    2.0638    0.8036    0.9455 O   0  0  0  0  0  0  0  0  0  0  0\\n   -0.5689   -0.2756   -0.8132 H   0  0  0  0  0  0  0  0  0  0  0\\n   -0.5689    0.2756    0.8132 H   0  0  0  0  0  0  0  0  0  0  0\\n    2.4795    1.3569    1.5964 H   0  0  0  0  0  0  0  0  0  0  0\\n  7  4  1  0  0  0  0\\n  1  6  1  0  0  0  0\\n  1  5  1  0  0  0  0\\n  3  2  2  0  0  0  0\\n  1  2  1  0  0  0  0\\n  2  4  1  0  0  0  0\\nM  END\\n\");\n\tviewer_1717882045135357.setStyle({\"stick\": {}});\n\tviewer_1717882045135357.zoomTo();\nviewer_1717882045135357.render();\n});\n</script>",
      "text/html": [
       "<div id=\"3dmolviewer_1717882045135357\"  style=\"position: relative; width: 400px; height: 400px;\">\n",
       "        <p id=\"3dmolwarning_1717882045135357\" style=\"background-color:#ffcccc;color:black\">3Dmol.js failed to load for some reason.  Please check your browser console for error messages.<br></p>\n",
       "        </div>\n",
       "<script>\n",
       "\n",
       "var loadScriptAsync = function(uri){\n",
       "  return new Promise((resolve, reject) => {\n",
       "    //this is to ignore the existence of requirejs amd\n",
       "    var savedexports, savedmodule;\n",
       "    if (typeof exports !== 'undefined') savedexports = exports;\n",
       "    else exports = {}\n",
       "    if (typeof module !== 'undefined') savedmodule = module;\n",
       "    else module = {}\n",
       "\n",
       "    var tag = document.createElement('script');\n",
       "    tag.src = uri;\n",
       "    tag.async = true;\n",
       "    tag.onload = () => {\n",
       "        exports = savedexports;\n",
       "        module = savedmodule;\n",
       "        resolve();\n",
       "    };\n",
       "  var firstScriptTag = document.getElementsByTagName('script')[0];\n",
       "  firstScriptTag.parentNode.insertBefore(tag, firstScriptTag);\n",
       "});\n",
       "};\n",
       "\n",
       "if(typeof $3Dmolpromise === 'undefined') {\n",
       "$3Dmolpromise = null;\n",
       "  $3Dmolpromise = loadScriptAsync('https://cdnjs.cloudflare.com/ajax/libs/3Dmol/2.1.0/3Dmol-min.js');\n",
       "}\n",
       "\n",
       "var viewer_1717882045135357 = null;\n",
       "var warn = document.getElementById(\"3dmolwarning_1717882045135357\");\n",
       "if(warn) {\n",
       "    warn.parentNode.removeChild(warn);\n",
       "}\n",
       "$3Dmolpromise.then(function() {\n",
       "viewer_1717882045135357 = $3Dmol.createViewer(document.getElementById(\"3dmolviewer_1717882045135357\"),{backgroundColor:\"white\"});\n",
       "viewer_1717882045135357.zoomTo();\n",
       "\tviewer_1717882045135357.addModel(\"NC(=O)O\\n\\n\\n  7  6  0  0  0  0  0  0  0  0999 V2000\\n    0.0000    0.0000    0.0000 N   0  0  0  0  0  0  0  0  0  0  0\\n    1.4600    0.0000    0.0000 C   0  0  0  0  0  0  0  0  0  0  0\\n    2.1895   -0.6497   -0.7638 O   0  0  0  0  0  0  0  0  0  0  0\\n    2.0638    0.8036    0.9455 O   0  0  0  0  0  0  0  0  0  0  0\\n   -0.5689   -0.2756   -0.8132 H   0  0  0  0  0  0  0  0  0  0  0\\n   -0.5689    0.2756    0.8132 H   0  0  0  0  0  0  0  0  0  0  0\\n    2.4795    1.3569    1.5964 H   0  0  0  0  0  0  0  0  0  0  0\\n  7  4  1  0  0  0  0\\n  1  6  1  0  0  0  0\\n  1  5  1  0  0  0  0\\n  3  2  2  0  0  0  0\\n  1  2  1  0  0  0  0\\n  2  4  1  0  0  0  0\\nM  END\\n\");\n",
       "\tviewer_1717882045135357.setStyle({\"stick\": {}});\n",
       "\tviewer_1717882045135357.zoomTo();\n",
       "viewer_1717882045135357.render();\n",
       "});\n",
       "</script>"
      ]
     },
     "metadata": {},
     "output_type": "display_data"
    },
    {
     "name": "stderr",
     "output_type": "stream",
     "text": [
      "\u001b[38;20m[2024-06-08 23:28:01,665] [INFO] Optimized geometry of NC(=O)O with energy -245.11899 Ha.\u001b[0m\n"
     ]
    },
    {
     "name": "stdout",
     "output_type": "stream",
     "text": [
      "Optimizer: Optimization complete!\n"
     ]
    },
    {
     "data": {
      "application/3dmoljs_load.v0": "<div id=\"3dmolviewer_17178820816667562\"  style=\"position: relative; width: 400px; height: 400px;\">\n        <p id=\"3dmolwarning_17178820816667562\" style=\"background-color:#ffcccc;color:black\">3Dmol.js failed to load for some reason.  Please check your browser console for error messages.<br></p>\n        </div>\n<script>\n\nvar loadScriptAsync = function(uri){\n  return new Promise((resolve, reject) => {\n    //this is to ignore the existence of requirejs amd\n    var savedexports, savedmodule;\n    if (typeof exports !== 'undefined') savedexports = exports;\n    else exports = {}\n    if (typeof module !== 'undefined') savedmodule = module;\n    else module = {}\n\n    var tag = document.createElement('script');\n    tag.src = uri;\n    tag.async = true;\n    tag.onload = () => {\n        exports = savedexports;\n        module = savedmodule;\n        resolve();\n    };\n  var firstScriptTag = document.getElementsByTagName('script')[0];\n  firstScriptTag.parentNode.insertBefore(tag, firstScriptTag);\n});\n};\n\nif(typeof $3Dmolpromise === 'undefined') {\n$3Dmolpromise = null;\n  $3Dmolpromise = loadScriptAsync('https://cdnjs.cloudflare.com/ajax/libs/3Dmol/2.1.0/3Dmol-min.js');\n}\n\nvar viewer_17178820816667562 = null;\nvar warn = document.getElementById(\"3dmolwarning_17178820816667562\");\nif(warn) {\n    warn.parentNode.removeChild(warn);\n}\n$3Dmolpromise.then(function() {\nviewer_17178820816667562 = $3Dmol.createViewer(document.getElementById(\"3dmolviewer_17178820816667562\"),{backgroundColor:\"white\"});\nviewer_17178820816667562.zoomTo();\n\tviewer_17178820816667562.addModel(\"NC(=O)O\\n\\n\\n  7  6  0  0  0  0  0  0  0  0999 V2000\\n   -1.3189    0.2182   -0.0262 N   0  0  0  0  0  0  0  0  0  0  0\\n    0.0410   -0.0671   -0.0779 C   0  0  0  0  0  0  0  0  0  0  0\\n    0.5671   -0.7386   -0.9303 O   0  0  0  0  0  0  0  0  0  0  0\\n    0.7686    0.5235    0.9142 O   0  0  0  0  0  0  0  0  0  0  0\\n   -1.8569   -0.3354   -0.6811 H   0  0  0  0  0  0  0  0  0  0  0\\n   -1.7516    0.2908    0.8869 H   0  0  0  0  0  0  0  0  0  0  0\\n    0.2489    1.2247    1.3403 H   0  0  0  0  0  0  0  0  0  0  0\\n  2  1  1  0  0  0  0\\n  7  4  1  0  0  0  0\\n  5  1  1  0  0  0  0\\n  6  1  1  0  0  0  0\\n  2  4  1  0  0  0  0\\n  2  3  2  0  0  0  0\\nM  END\\n\");\n\tviewer_17178820816667562.setStyle({\"stick\": {}});\n\tviewer_17178820816667562.zoomTo();\nviewer_17178820816667562.render();\n});\n</script>",
      "text/html": [
       "<div id=\"3dmolviewer_17178820816667562\"  style=\"position: relative; width: 400px; height: 400px;\">\n",
       "        <p id=\"3dmolwarning_17178820816667562\" style=\"background-color:#ffcccc;color:black\">3Dmol.js failed to load for some reason.  Please check your browser console for error messages.<br></p>\n",
       "        </div>\n",
       "<script>\n",
       "\n",
       "var loadScriptAsync = function(uri){\n",
       "  return new Promise((resolve, reject) => {\n",
       "    //this is to ignore the existence of requirejs amd\n",
       "    var savedexports, savedmodule;\n",
       "    if (typeof exports !== 'undefined') savedexports = exports;\n",
       "    else exports = {}\n",
       "    if (typeof module !== 'undefined') savedmodule = module;\n",
       "    else module = {}\n",
       "\n",
       "    var tag = document.createElement('script');\n",
       "    tag.src = uri;\n",
       "    tag.async = true;\n",
       "    tag.onload = () => {\n",
       "        exports = savedexports;\n",
       "        module = savedmodule;\n",
       "        resolve();\n",
       "    };\n",
       "  var firstScriptTag = document.getElementsByTagName('script')[0];\n",
       "  firstScriptTag.parentNode.insertBefore(tag, firstScriptTag);\n",
       "});\n",
       "};\n",
       "\n",
       "if(typeof $3Dmolpromise === 'undefined') {\n",
       "$3Dmolpromise = null;\n",
       "  $3Dmolpromise = loadScriptAsync('https://cdnjs.cloudflare.com/ajax/libs/3Dmol/2.1.0/3Dmol-min.js');\n",
       "}\n",
       "\n",
       "var viewer_17178820816667562 = null;\n",
       "var warn = document.getElementById(\"3dmolwarning_17178820816667562\");\n",
       "if(warn) {\n",
       "    warn.parentNode.removeChild(warn);\n",
       "}\n",
       "$3Dmolpromise.then(function() {\n",
       "viewer_17178820816667562 = $3Dmol.createViewer(document.getElementById(\"3dmolviewer_17178820816667562\"),{backgroundColor:\"white\"});\n",
       "viewer_17178820816667562.zoomTo();\n",
       "\tviewer_17178820816667562.addModel(\"NC(=O)O\\n\\n\\n  7  6  0  0  0  0  0  0  0  0999 V2000\\n   -1.3189    0.2182   -0.0262 N   0  0  0  0  0  0  0  0  0  0  0\\n    0.0410   -0.0671   -0.0779 C   0  0  0  0  0  0  0  0  0  0  0\\n    0.5671   -0.7386   -0.9303 O   0  0  0  0  0  0  0  0  0  0  0\\n    0.7686    0.5235    0.9142 O   0  0  0  0  0  0  0  0  0  0  0\\n   -1.8569   -0.3354   -0.6811 H   0  0  0  0  0  0  0  0  0  0  0\\n   -1.7516    0.2908    0.8869 H   0  0  0  0  0  0  0  0  0  0  0\\n    0.2489    1.2247    1.3403 H   0  0  0  0  0  0  0  0  0  0  0\\n  2  1  1  0  0  0  0\\n  7  4  1  0  0  0  0\\n  5  1  1  0  0  0  0\\n  6  1  1  0  0  0  0\\n  2  4  1  0  0  0  0\\n  2  3  2  0  0  0  0\\nM  END\\n\");\n",
       "\tviewer_17178820816667562.setStyle({\"stick\": {}});\n",
       "\tviewer_17178820816667562.zoomTo();\n",
       "viewer_17178820816667562.render();\n",
       "});\n",
       "</script>"
      ]
     },
     "metadata": {},
     "output_type": "display_data"
    }
   ],
   "source": [
    "mol = psimol.Molecule.from_smiles('NC(=O)O')\n",
    "mol.visualize()\n",
    "\n",
    "optimized_molecule, _, _ = mol.optimize(maxiter=800, geom_maxiter=300)\n",
    "optimized_molecule.visualize()"
   ]
  },
  {
   "cell_type": "markdown",
   "metadata": {},
   "source": [
    "#### Once calculated, the vibrational modes of molecules can be interactively animated"
   ]
  },
  {
   "cell_type": "code",
   "execution_count": null,
   "metadata": {},
   "outputs": [],
   "source": [
    "optimized_molecule.calculate_frequencies()"
   ]
  },
  {
   "cell_type": "code",
   "execution_count": 26,
   "metadata": {},
   "outputs": [
    {
     "data": {
      "application/3dmoljs_load.v0": "<div id=\"3dmolviewer_171788283464623\"  style=\"position: relative; width: 400px; height: 400px;\">\n        <p id=\"3dmolwarning_171788283464623\" style=\"background-color:#ffcccc;color:black\">3Dmol.js failed to load for some reason.  Please check your browser console for error messages.<br></p>\n        </div>\n<script>\n\nvar loadScriptAsync = function(uri){\n  return new Promise((resolve, reject) => {\n    //this is to ignore the existence of requirejs amd\n    var savedexports, savedmodule;\n    if (typeof exports !== 'undefined') savedexports = exports;\n    else exports = {}\n    if (typeof module !== 'undefined') savedmodule = module;\n    else module = {}\n\n    var tag = document.createElement('script');\n    tag.src = uri;\n    tag.async = true;\n    tag.onload = () => {\n        exports = savedexports;\n        module = savedmodule;\n        resolve();\n    };\n  var firstScriptTag = document.getElementsByTagName('script')[0];\n  firstScriptTag.parentNode.insertBefore(tag, firstScriptTag);\n});\n};\n\nif(typeof $3Dmolpromise === 'undefined') {\n$3Dmolpromise = null;\n  $3Dmolpromise = loadScriptAsync('https://cdnjs.cloudflare.com/ajax/libs/3Dmol/2.1.0/3Dmol-min.js');\n}\n\nvar viewer_171788283464623 = null;\nvar warn = document.getElementById(\"3dmolwarning_171788283464623\");\nif(warn) {\n    warn.parentNode.removeChild(warn);\n}\n$3Dmolpromise.then(function() {\nviewer_171788283464623 = $3Dmol.createViewer(document.getElementById(\"3dmolviewer_171788283464623\"),{backgroundColor:\"white\"});\nviewer_171788283464623.zoomTo();\n\tviewer_171788283464623.addModel(\"7\\nNC(=O)O\\nN -1.31894 0.21821 -0.02618 -0.1921039704895106 0.23305887651446566 0.11881303281711866\\nC 0.04100 -0.06706 -0.07788 0.16650318333475825 0.05326610534455545 0.03759852488174742\\nO 0.56706 -0.73862 -0.93028 0.015306569504307565 -0.0008605631160320738 0.056423987324828444\\nO 0.76856 0.52354 0.91421 -0.08953714322934374 -0.06508210470424829 0.4756629729535608\\nH -1.85688 -0.33536 -0.68111 0.0937099496069639 -0.05506581422456478 -0.02962359191935787\\nH -1.75155 0.29081 0.88690 0.06223253860892948 0.005152449748776032 0.3822995635472564\\nH 0.24890 1.22465 1.34027 0.0014105816304158518 -0.0011568538483939879 -0.0015618917996737473\",\"xyz\",{\"vibrate\": {\"frames\": 10, \"amplitude\": 1}});\n\tviewer_171788283464623.setStyle({\"stick\": {}});\n\tviewer_171788283464623.animate({\"loop\": \"backAndForth\"});\n\tviewer_171788283464623.zoomTo();\nviewer_171788283464623.render();\n});\n</script>",
      "text/html": [
       "<div id=\"3dmolviewer_171788283464623\"  style=\"position: relative; width: 400px; height: 400px;\">\n",
       "        <p id=\"3dmolwarning_171788283464623\" style=\"background-color:#ffcccc;color:black\">3Dmol.js failed to load for some reason.  Please check your browser console for error messages.<br></p>\n",
       "        </div>\n",
       "<script>\n",
       "\n",
       "var loadScriptAsync = function(uri){\n",
       "  return new Promise((resolve, reject) => {\n",
       "    //this is to ignore the existence of requirejs amd\n",
       "    var savedexports, savedmodule;\n",
       "    if (typeof exports !== 'undefined') savedexports = exports;\n",
       "    else exports = {}\n",
       "    if (typeof module !== 'undefined') savedmodule = module;\n",
       "    else module = {}\n",
       "\n",
       "    var tag = document.createElement('script');\n",
       "    tag.src = uri;\n",
       "    tag.async = true;\n",
       "    tag.onload = () => {\n",
       "        exports = savedexports;\n",
       "        module = savedmodule;\n",
       "        resolve();\n",
       "    };\n",
       "  var firstScriptTag = document.getElementsByTagName('script')[0];\n",
       "  firstScriptTag.parentNode.insertBefore(tag, firstScriptTag);\n",
       "});\n",
       "};\n",
       "\n",
       "if(typeof $3Dmolpromise === 'undefined') {\n",
       "$3Dmolpromise = null;\n",
       "  $3Dmolpromise = loadScriptAsync('https://cdnjs.cloudflare.com/ajax/libs/3Dmol/2.1.0/3Dmol-min.js');\n",
       "}\n",
       "\n",
       "var viewer_171788283464623 = null;\n",
       "var warn = document.getElementById(\"3dmolwarning_171788283464623\");\n",
       "if(warn) {\n",
       "    warn.parentNode.removeChild(warn);\n",
       "}\n",
       "$3Dmolpromise.then(function() {\n",
       "viewer_171788283464623 = $3Dmol.createViewer(document.getElementById(\"3dmolviewer_171788283464623\"),{backgroundColor:\"white\"});\n",
       "viewer_171788283464623.zoomTo();\n",
       "\tviewer_171788283464623.addModel(\"7\\nNC(=O)O\\nN -1.31894 0.21821 -0.02618 -0.1921039704895106 0.23305887651446566 0.11881303281711866\\nC 0.04100 -0.06706 -0.07788 0.16650318333475825 0.05326610534455545 0.03759852488174742\\nO 0.56706 -0.73862 -0.93028 0.015306569504307565 -0.0008605631160320738 0.056423987324828444\\nO 0.76856 0.52354 0.91421 -0.08953714322934374 -0.06508210470424829 0.4756629729535608\\nH -1.85688 -0.33536 -0.68111 0.0937099496069639 -0.05506581422456478 -0.02962359191935787\\nH -1.75155 0.29081 0.88690 0.06223253860892948 0.005152449748776032 0.3822995635472564\\nH 0.24890 1.22465 1.34027 0.0014105816304158518 -0.0011568538483939879 -0.0015618917996737473\",\"xyz\",{\"vibrate\": {\"frames\": 10, \"amplitude\": 1}});\n",
       "\tviewer_171788283464623.setStyle({\"stick\": {}});\n",
       "\tviewer_171788283464623.animate({\"loop\": \"backAndForth\"});\n",
       "\tviewer_171788283464623.zoomTo();\n",
       "viewer_171788283464623.render();\n",
       "});\n",
       "</script>"
      ]
     },
     "metadata": {},
     "output_type": "display_data"
    }
   ],
   "source": [
    "mode = 4\n",
    "optimized_molecule.show_modes(mode)"
   ]
  },
  {
   "cell_type": "markdown",
   "metadata": {},
   "source": [
    "### Adding explicit hydrogens to molecule"
   ]
  },
  {
   "cell_type": "code",
   "execution_count": 13,
   "metadata": {},
   "outputs": [
    {
     "data": {
      "application/3dmoljs_load.v0": "<div id=\"3dmolviewer_17178822821671731\"  style=\"position: relative; width: 400px; height: 400px;\">\n        <p id=\"3dmolwarning_17178822821671731\" style=\"background-color:#ffcccc;color:black\">3Dmol.js failed to load for some reason.  Please check your browser console for error messages.<br></p>\n        </div>\n<script>\n\nvar loadScriptAsync = function(uri){\n  return new Promise((resolve, reject) => {\n    //this is to ignore the existence of requirejs amd\n    var savedexports, savedmodule;\n    if (typeof exports !== 'undefined') savedexports = exports;\n    else exports = {}\n    if (typeof module !== 'undefined') savedmodule = module;\n    else module = {}\n\n    var tag = document.createElement('script');\n    tag.src = uri;\n    tag.async = true;\n    tag.onload = () => {\n        exports = savedexports;\n        module = savedmodule;\n        resolve();\n    };\n  var firstScriptTag = document.getElementsByTagName('script')[0];\n  firstScriptTag.parentNode.insertBefore(tag, firstScriptTag);\n});\n};\n\nif(typeof $3Dmolpromise === 'undefined') {\n$3Dmolpromise = null;\n  $3Dmolpromise = loadScriptAsync('https://cdnjs.cloudflare.com/ajax/libs/3Dmol/2.1.0/3Dmol-min.js');\n}\n\nvar viewer_17178822821671731 = null;\nvar warn = document.getElementById(\"3dmolwarning_17178822821671731\");\nif(warn) {\n    warn.parentNode.removeChild(warn);\n}\n$3Dmolpromise.then(function() {\nviewer_17178822821671731 = $3Dmol.createViewer(document.getElementById(\"3dmolviewer_17178822821671731\"),{backgroundColor:\"white\"});\nviewer_17178822821671731.zoomTo();\n\tviewer_17178822821671731.addModel(\"\\n\\n\\n 13 13  0  0  0  0  0  0  0  0999 V2000\\n    2.0564   -0.1654    0.3973 C   0  0  0  0  0  0  0  0  0  0  0\\n    0.6889    2.0285   -0.6482 C   0  0  0  0  0  0  0  0  0  0  0\\n    2.7407    1.0233    0.1253 C   0  0  0  0  0  0  0  0  0  0  0\\n    2.0573    2.1178   -0.4002 C   0  0  0  0  0  0  0  0  0  0  0\\n   -3.5940    1.0321    0.0459 C   0  0  0  0  0  0  0  0  0  0  0\\n    0.6774   -0.2751    0.1510 C   0  0  0  0  0  0  0  0  0  0  0\\n    0.0027    0.8423   -0.3589 C   0  0  0  0  0  0  0  0  0  0  0\\n    0.6329   -2.5453    0.9336 O   0  0  0  0  0  0  0  0  0  0  0\\n   -1.7645    1.4325    1.5657 O   0  0  0  0  0  0  0  0  0  0  0\\n   -1.2489   -1.6841    0.1298 O   0  0  0  0  0  0  0  0  0  0  0\\n    0.0528   -1.5888    0.4496 C   0  0  0  0  0  0  0  0  0  0  0\\n   -2.1520    1.1284    0.4451 C   0  0  0  0  0  0  0  0  0  0  0\\n   -1.3617    0.8283   -0.6583 O   0  0  0  0  0  0  0  0  0  0  0\\n  8 11  2  0  0  0  0\\n 12  9  2  0  0  0  0\\n  6  1  4  0  0  0  0\\n  6  7  4  0  0  0  0\\n  5 12  1  0  0  0  0\\n 11 10  1  0  0  0  0\\n  7 13  1  0  0  0  0\\n  6 11  1  0  0  0  0\\n  4  2  4  0  0  0  0\\n  3  1  4  0  0  0  0\\n  3  4  4  0  0  0  0\\n 12 13  1  0  0  0  0\\n  7  2  4  0  0  0  0\\nM  END\\n\");\n\tviewer_17178822821671731.setStyle({\"stick\": {}});\n\tviewer_17178822821671731.zoomTo();\nviewer_17178822821671731.render();\n});\n</script>",
      "text/html": [
       "<div id=\"3dmolviewer_17178822821671731\"  style=\"position: relative; width: 400px; height: 400px;\">\n",
       "        <p id=\"3dmolwarning_17178822821671731\" style=\"background-color:#ffcccc;color:black\">3Dmol.js failed to load for some reason.  Please check your browser console for error messages.<br></p>\n",
       "        </div>\n",
       "<script>\n",
       "\n",
       "var loadScriptAsync = function(uri){\n",
       "  return new Promise((resolve, reject) => {\n",
       "    //this is to ignore the existence of requirejs amd\n",
       "    var savedexports, savedmodule;\n",
       "    if (typeof exports !== 'undefined') savedexports = exports;\n",
       "    else exports = {}\n",
       "    if (typeof module !== 'undefined') savedmodule = module;\n",
       "    else module = {}\n",
       "\n",
       "    var tag = document.createElement('script');\n",
       "    tag.src = uri;\n",
       "    tag.async = true;\n",
       "    tag.onload = () => {\n",
       "        exports = savedexports;\n",
       "        module = savedmodule;\n",
       "        resolve();\n",
       "    };\n",
       "  var firstScriptTag = document.getElementsByTagName('script')[0];\n",
       "  firstScriptTag.parentNode.insertBefore(tag, firstScriptTag);\n",
       "});\n",
       "};\n",
       "\n",
       "if(typeof $3Dmolpromise === 'undefined') {\n",
       "$3Dmolpromise = null;\n",
       "  $3Dmolpromise = loadScriptAsync('https://cdnjs.cloudflare.com/ajax/libs/3Dmol/2.1.0/3Dmol-min.js');\n",
       "}\n",
       "\n",
       "var viewer_17178822821671731 = null;\n",
       "var warn = document.getElementById(\"3dmolwarning_17178822821671731\");\n",
       "if(warn) {\n",
       "    warn.parentNode.removeChild(warn);\n",
       "}\n",
       "$3Dmolpromise.then(function() {\n",
       "viewer_17178822821671731 = $3Dmol.createViewer(document.getElementById(\"3dmolviewer_17178822821671731\"),{backgroundColor:\"white\"});\n",
       "viewer_17178822821671731.zoomTo();\n",
       "\tviewer_17178822821671731.addModel(\"\\n\\n\\n 13 13  0  0  0  0  0  0  0  0999 V2000\\n    2.0564   -0.1654    0.3973 C   0  0  0  0  0  0  0  0  0  0  0\\n    0.6889    2.0285   -0.6482 C   0  0  0  0  0  0  0  0  0  0  0\\n    2.7407    1.0233    0.1253 C   0  0  0  0  0  0  0  0  0  0  0\\n    2.0573    2.1178   -0.4002 C   0  0  0  0  0  0  0  0  0  0  0\\n   -3.5940    1.0321    0.0459 C   0  0  0  0  0  0  0  0  0  0  0\\n    0.6774   -0.2751    0.1510 C   0  0  0  0  0  0  0  0  0  0  0\\n    0.0027    0.8423   -0.3589 C   0  0  0  0  0  0  0  0  0  0  0\\n    0.6329   -2.5453    0.9336 O   0  0  0  0  0  0  0  0  0  0  0\\n   -1.7645    1.4325    1.5657 O   0  0  0  0  0  0  0  0  0  0  0\\n   -1.2489   -1.6841    0.1298 O   0  0  0  0  0  0  0  0  0  0  0\\n    0.0528   -1.5888    0.4496 C   0  0  0  0  0  0  0  0  0  0  0\\n   -2.1520    1.1284    0.4451 C   0  0  0  0  0  0  0  0  0  0  0\\n   -1.3617    0.8283   -0.6583 O   0  0  0  0  0  0  0  0  0  0  0\\n  8 11  2  0  0  0  0\\n 12  9  2  0  0  0  0\\n  6  1  4  0  0  0  0\\n  6  7  4  0  0  0  0\\n  5 12  1  0  0  0  0\\n 11 10  1  0  0  0  0\\n  7 13  1  0  0  0  0\\n  6 11  1  0  0  0  0\\n  4  2  4  0  0  0  0\\n  3  1  4  0  0  0  0\\n  3  4  4  0  0  0  0\\n 12 13  1  0  0  0  0\\n  7  2  4  0  0  0  0\\nM  END\\n\");\n",
       "\tviewer_17178822821671731.setStyle({\"stick\": {}});\n",
       "\tviewer_17178822821671731.zoomTo();\n",
       "viewer_17178822821671731.render();\n",
       "});\n",
       "</script>"
      ]
     },
     "metadata": {},
     "output_type": "display_data"
    },
    {
     "data": {
      "application/3dmoljs_load.v0": "<div id=\"3dmolviewer_17178822823254888\"  style=\"position: relative; width: 400px; height: 400px;\">\n        <p id=\"3dmolwarning_17178822823254888\" style=\"background-color:#ffcccc;color:black\">3Dmol.js failed to load for some reason.  Please check your browser console for error messages.<br></p>\n        </div>\n<script>\n\nvar loadScriptAsync = function(uri){\n  return new Promise((resolve, reject) => {\n    //this is to ignore the existence of requirejs amd\n    var savedexports, savedmodule;\n    if (typeof exports !== 'undefined') savedexports = exports;\n    else exports = {}\n    if (typeof module !== 'undefined') savedmodule = module;\n    else module = {}\n\n    var tag = document.createElement('script');\n    tag.src = uri;\n    tag.async = true;\n    tag.onload = () => {\n        exports = savedexports;\n        module = savedmodule;\n        resolve();\n    };\n  var firstScriptTag = document.getElementsByTagName('script')[0];\n  firstScriptTag.parentNode.insertBefore(tag, firstScriptTag);\n});\n};\n\nif(typeof $3Dmolpromise === 'undefined') {\n$3Dmolpromise = null;\n  $3Dmolpromise = loadScriptAsync('https://cdnjs.cloudflare.com/ajax/libs/3Dmol/2.1.0/3Dmol-min.js');\n}\n\nvar viewer_17178822823254888 = null;\nvar warn = document.getElementById(\"3dmolwarning_17178822823254888\");\nif(warn) {\n    warn.parentNode.removeChild(warn);\n}\n$3Dmolpromise.then(function() {\nviewer_17178822823254888 = $3Dmol.createViewer(document.getElementById(\"3dmolviewer_17178822823254888\"),{backgroundColor:\"white\"});\nviewer_17178822823254888.zoomTo();\n\tviewer_17178822823254888.addModel(\"\\n\\n\\n 21 21  0  0  0  0  0  0  0  0999 V2000\\n    2.0564   -0.1654    0.3973 C   0  0  0  0  0  0  0  0  0  0  0\\n    0.6889    2.0285   -0.6482 C   0  0  0  0  0  0  0  0  0  0  0\\n    2.7407    1.0233    0.1253 C   0  0  0  0  0  0  0  0  0  0  0\\n    2.0573    2.1178   -0.4002 C   0  0  0  0  0  0  0  0  0  0  0\\n   -3.5940    1.0321    0.0459 C   0  0  0  0  0  0  0  0  0  0  0\\n    0.6774   -0.2751    0.1510 C   0  0  0  0  0  0  0  0  0  0  0\\n    0.0027    0.8423   -0.3589 C   0  0  0  0  0  0  0  0  0  0  0\\n    0.6329   -2.5453    0.9336 O   0  0  0  0  0  0  0  0  0  0  0\\n   -1.7645    1.4325    1.5657 O   0  0  0  0  0  0  0  0  0  0  0\\n   -1.2489   -1.6841    0.1298 O   0  0  0  0  0  0  0  0  0  0  0\\n    0.0528   -1.5888    0.4496 C   0  0  0  0  0  0  0  0  0  0  0\\n   -2.1520    1.1284    0.4451 C   0  0  0  0  0  0  0  0  0  0  0\\n   -1.3617    0.8283   -0.6583 O   0  0  0  0  0  0  0  0  0  0  0\\n    2.5850   -1.0050    0.7979 H   0  0  0  0  0  0  0  0  0  0  0\\n    0.1584    2.8621   -1.0588 H   0  0  0  0  0  0  0  0  0  0  0\\n    3.7904    1.0886    0.3225 H   0  0  0  0  0  0  0  0  0  0  0\\n    2.5822    3.0255   -0.6134 H   0  0  0  0  0  0  0  0  0  0  0\\n   -4.1514    0.7991   -0.8372 H   0  0  0  0  0  0  0  0  0  0  0\\n   -4.4541    0.4658    0.3364 H   0  0  0  0  0  0  0  0  0  0  0\\n   -4.4449    1.6798    0.0103 H   0  0  0  0  0  0  0  0  0  0  0\\n   -2.1692   -1.7515   -0.0964 H   0  0  0  0  0  0  0  0  0  0  0\\n  8 11  2  0  0  0  0\\n 11 10  1  0  0  0  0\\n  5 18  1  0  0  0  0\\n 15  2  1  0  0  0  0\\n  7 13  1  0  0  0  0\\n  3  1  4  0  0  0  0\\n  5 20  1  0  0  0  0\\n  6 11  1  0  0  0  0\\n  5 19  1  0  0  0  0\\n  7  2  4  0  0  0  0\\n  5 12  1  0  0  0  0\\n  4 17  1  0  0  0  0\\n  1 14  1  0  0  0  0\\n  4  2  4  0  0  0  0\\n 12  9  2  0  0  0  0\\n  6  1  4  0  0  0  0\\n  6  7  4  0  0  0  0\\n 21 10  1  0  0  0  0\\n  3  4  4  0  0  0  0\\n 12 13  1  0  0  0  0\\n  3 16  1  0  0  0  0\\nM  END\\n\");\n\tviewer_17178822823254888.setStyle({\"stick\": {}});\n\tviewer_17178822823254888.zoomTo();\nviewer_17178822823254888.render();\n});\n</script>",
      "text/html": [
       "<div id=\"3dmolviewer_17178822823254888\"  style=\"position: relative; width: 400px; height: 400px;\">\n",
       "        <p id=\"3dmolwarning_17178822823254888\" style=\"background-color:#ffcccc;color:black\">3Dmol.js failed to load for some reason.  Please check your browser console for error messages.<br></p>\n",
       "        </div>\n",
       "<script>\n",
       "\n",
       "var loadScriptAsync = function(uri){\n",
       "  return new Promise((resolve, reject) => {\n",
       "    //this is to ignore the existence of requirejs amd\n",
       "    var savedexports, savedmodule;\n",
       "    if (typeof exports !== 'undefined') savedexports = exports;\n",
       "    else exports = {}\n",
       "    if (typeof module !== 'undefined') savedmodule = module;\n",
       "    else module = {}\n",
       "\n",
       "    var tag = document.createElement('script');\n",
       "    tag.src = uri;\n",
       "    tag.async = true;\n",
       "    tag.onload = () => {\n",
       "        exports = savedexports;\n",
       "        module = savedmodule;\n",
       "        resolve();\n",
       "    };\n",
       "  var firstScriptTag = document.getElementsByTagName('script')[0];\n",
       "  firstScriptTag.parentNode.insertBefore(tag, firstScriptTag);\n",
       "});\n",
       "};\n",
       "\n",
       "if(typeof $3Dmolpromise === 'undefined') {\n",
       "$3Dmolpromise = null;\n",
       "  $3Dmolpromise = loadScriptAsync('https://cdnjs.cloudflare.com/ajax/libs/3Dmol/2.1.0/3Dmol-min.js');\n",
       "}\n",
       "\n",
       "var viewer_17178822823254888 = null;\n",
       "var warn = document.getElementById(\"3dmolwarning_17178822823254888\");\n",
       "if(warn) {\n",
       "    warn.parentNode.removeChild(warn);\n",
       "}\n",
       "$3Dmolpromise.then(function() {\n",
       "viewer_17178822823254888 = $3Dmol.createViewer(document.getElementById(\"3dmolviewer_17178822823254888\"),{backgroundColor:\"white\"});\n",
       "viewer_17178822823254888.zoomTo();\n",
       "\tviewer_17178822823254888.addModel(\"\\n\\n\\n 21 21  0  0  0  0  0  0  0  0999 V2000\\n    2.0564   -0.1654    0.3973 C   0  0  0  0  0  0  0  0  0  0  0\\n    0.6889    2.0285   -0.6482 C   0  0  0  0  0  0  0  0  0  0  0\\n    2.7407    1.0233    0.1253 C   0  0  0  0  0  0  0  0  0  0  0\\n    2.0573    2.1178   -0.4002 C   0  0  0  0  0  0  0  0  0  0  0\\n   -3.5940    1.0321    0.0459 C   0  0  0  0  0  0  0  0  0  0  0\\n    0.6774   -0.2751    0.1510 C   0  0  0  0  0  0  0  0  0  0  0\\n    0.0027    0.8423   -0.3589 C   0  0  0  0  0  0  0  0  0  0  0\\n    0.6329   -2.5453    0.9336 O   0  0  0  0  0  0  0  0  0  0  0\\n   -1.7645    1.4325    1.5657 O   0  0  0  0  0  0  0  0  0  0  0\\n   -1.2489   -1.6841    0.1298 O   0  0  0  0  0  0  0  0  0  0  0\\n    0.0528   -1.5888    0.4496 C   0  0  0  0  0  0  0  0  0  0  0\\n   -2.1520    1.1284    0.4451 C   0  0  0  0  0  0  0  0  0  0  0\\n   -1.3617    0.8283   -0.6583 O   0  0  0  0  0  0  0  0  0  0  0\\n    2.5850   -1.0050    0.7979 H   0  0  0  0  0  0  0  0  0  0  0\\n    0.1584    2.8621   -1.0588 H   0  0  0  0  0  0  0  0  0  0  0\\n    3.7904    1.0886    0.3225 H   0  0  0  0  0  0  0  0  0  0  0\\n    2.5822    3.0255   -0.6134 H   0  0  0  0  0  0  0  0  0  0  0\\n   -4.1514    0.7991   -0.8372 H   0  0  0  0  0  0  0  0  0  0  0\\n   -4.4541    0.4658    0.3364 H   0  0  0  0  0  0  0  0  0  0  0\\n   -4.4449    1.6798    0.0103 H   0  0  0  0  0  0  0  0  0  0  0\\n   -2.1692   -1.7515   -0.0964 H   0  0  0  0  0  0  0  0  0  0  0\\n  8 11  2  0  0  0  0\\n 11 10  1  0  0  0  0\\n  5 18  1  0  0  0  0\\n 15  2  1  0  0  0  0\\n  7 13  1  0  0  0  0\\n  3  1  4  0  0  0  0\\n  5 20  1  0  0  0  0\\n  6 11  1  0  0  0  0\\n  5 19  1  0  0  0  0\\n  7  2  4  0  0  0  0\\n  5 12  1  0  0  0  0\\n  4 17  1  0  0  0  0\\n  1 14  1  0  0  0  0\\n  4  2  4  0  0  0  0\\n 12  9  2  0  0  0  0\\n  6  1  4  0  0  0  0\\n  6  7  4  0  0  0  0\\n 21 10  1  0  0  0  0\\n  3  4  4  0  0  0  0\\n 12 13  1  0  0  0  0\\n  3 16  1  0  0  0  0\\nM  END\\n\");\n",
       "\tviewer_17178822823254888.setStyle({\"stick\": {}});\n",
       "\tviewer_17178822823254888.zoomTo();\n",
       "viewer_17178822823254888.render();\n",
       "});\n",
       "</script>"
      ]
     },
     "metadata": {},
     "output_type": "display_data"
    }
   ],
   "source": [
    "aspirin_noH = psimol.Molecule.from_xyz('example_data/aspirin_noH.xyz')\n",
    "aspirin_noH.visualize()\n",
    "\n",
    "aspirin_noH.add_hydrogens()\n",
    "aspirin_noH.visualize()"
   ]
  },
  {
   "cell_type": "markdown",
   "metadata": {},
   "source": [
    "### Mutating atoms and getting some basic molecular properties"
   ]
  },
  {
   "cell_type": "code",
   "execution_count": 25,
   "metadata": {},
   "outputs": [
    {
     "data": {
      "application/3dmoljs_load.v0": "<div id=\"3dmolviewer_1717882686148767\"  style=\"position: relative; width: 400px; height: 400px;\">\n        <p id=\"3dmolwarning_1717882686148767\" style=\"background-color:#ffcccc;color:black\">3Dmol.js failed to load for some reason.  Please check your browser console for error messages.<br></p>\n        </div>\n<script>\n\nvar loadScriptAsync = function(uri){\n  return new Promise((resolve, reject) => {\n    //this is to ignore the existence of requirejs amd\n    var savedexports, savedmodule;\n    if (typeof exports !== 'undefined') savedexports = exports;\n    else exports = {}\n    if (typeof module !== 'undefined') savedmodule = module;\n    else module = {}\n\n    var tag = document.createElement('script');\n    tag.src = uri;\n    tag.async = true;\n    tag.onload = () => {\n        exports = savedexports;\n        module = savedmodule;\n        resolve();\n    };\n  var firstScriptTag = document.getElementsByTagName('script')[0];\n  firstScriptTag.parentNode.insertBefore(tag, firstScriptTag);\n});\n};\n\nif(typeof $3Dmolpromise === 'undefined') {\n$3Dmolpromise = null;\n  $3Dmolpromise = loadScriptAsync('https://cdnjs.cloudflare.com/ajax/libs/3Dmol/2.1.0/3Dmol-min.js');\n}\n\nvar viewer_1717882686148767 = null;\nvar warn = document.getElementById(\"3dmolwarning_1717882686148767\");\nif(warn) {\n    warn.parentNode.removeChild(warn);\n}\n$3Dmolpromise.then(function() {\nviewer_1717882686148767 = $3Dmol.createViewer(document.getElementById(\"3dmolviewer_1717882686148767\"),{backgroundColor:\"white\"});\nviewer_1717882686148767.zoomTo();\n\tviewer_1717882686148767.addModel(\"c1ccccc1\\n\\n\\n 12 12  0  0  0  0  0  0  0  0999 V2000\\n    0.0000   -1.5000    0.0000 C   0  0  0  0  0  0  0  0  0  0  0\\n    0.0000    0.0000    0.0000 C   0  0  0  0  0  0  0  0  0  0  0\\n    1.2990    0.7500    0.0000 C   0  0  0  0  0  0  0  0  0  0  0\\n    2.5981    0.0000    0.0000 C   0  0  0  0  0  0  0  0  0  0  0\\n    2.5981   -1.5000    0.0000 C   0  0  0  0  0  0  0  0  0  0  0\\n    1.2990   -2.2500    0.0000 C   0  0  0  0  0  0  0  0  0  0  0\\n   -0.9266   -2.0350    0.0000 H   0  0  0  0  0  0  0  0  0  0  0\\n   -0.9266    0.5350    0.0000 H   0  0  0  0  0  0  0  0  0  0  0\\n    1.2990    1.8200    0.0000 H   0  0  0  0  0  0  0  0  0  0  0\\n    3.5247    0.5350   -0.0000 H   0  0  0  0  0  0  0  0  0  0  0\\n    3.5247   -2.0350    0.0000 H   0  0  0  0  0  0  0  0  0  0  0\\n    1.2990   -3.3200   -0.0000 H   0  0  0  0  0  0  0  0  0  0  0\\n 10  4  1  0  0  0  0\\n  5  6  4  0  0  0  0\\n  7  1  1  0  0  0  0\\n  3  2  4  0  0  0  0\\n  1  6  4  0  0  0  0\\n  2  1  4  0  0  0  0\\n  5 11  1  0  0  0  0\\n  3  9  1  0  0  0  0\\n  2  8  1  0  0  0  0\\n  3  4  4  0  0  0  0\\n 12  6  1  0  0  0  0\\n  5  4  4  0  0  0  0\\nM  END\\n\");\n\tviewer_1717882686148767.setStyle({\"stick\": {}});\n\tviewer_1717882686148767.zoomTo();\nviewer_1717882686148767.render();\n});\n</script>",
      "text/html": [
       "<div id=\"3dmolviewer_1717882686148767\"  style=\"position: relative; width: 400px; height: 400px;\">\n",
       "        <p id=\"3dmolwarning_1717882686148767\" style=\"background-color:#ffcccc;color:black\">3Dmol.js failed to load for some reason.  Please check your browser console for error messages.<br></p>\n",
       "        </div>\n",
       "<script>\n",
       "\n",
       "var loadScriptAsync = function(uri){\n",
       "  return new Promise((resolve, reject) => {\n",
       "    //this is to ignore the existence of requirejs amd\n",
       "    var savedexports, savedmodule;\n",
       "    if (typeof exports !== 'undefined') savedexports = exports;\n",
       "    else exports = {}\n",
       "    if (typeof module !== 'undefined') savedmodule = module;\n",
       "    else module = {}\n",
       "\n",
       "    var tag = document.createElement('script');\n",
       "    tag.src = uri;\n",
       "    tag.async = true;\n",
       "    tag.onload = () => {\n",
       "        exports = savedexports;\n",
       "        module = savedmodule;\n",
       "        resolve();\n",
       "    };\n",
       "  var firstScriptTag = document.getElementsByTagName('script')[0];\n",
       "  firstScriptTag.parentNode.insertBefore(tag, firstScriptTag);\n",
       "});\n",
       "};\n",
       "\n",
       "if(typeof $3Dmolpromise === 'undefined') {\n",
       "$3Dmolpromise = null;\n",
       "  $3Dmolpromise = loadScriptAsync('https://cdnjs.cloudflare.com/ajax/libs/3Dmol/2.1.0/3Dmol-min.js');\n",
       "}\n",
       "\n",
       "var viewer_1717882686148767 = null;\n",
       "var warn = document.getElementById(\"3dmolwarning_1717882686148767\");\n",
       "if(warn) {\n",
       "    warn.parentNode.removeChild(warn);\n",
       "}\n",
       "$3Dmolpromise.then(function() {\n",
       "viewer_1717882686148767 = $3Dmol.createViewer(document.getElementById(\"3dmolviewer_1717882686148767\"),{backgroundColor:\"white\"});\n",
       "viewer_1717882686148767.zoomTo();\n",
       "\tviewer_1717882686148767.addModel(\"c1ccccc1\\n\\n\\n 12 12  0  0  0  0  0  0  0  0999 V2000\\n    0.0000   -1.5000    0.0000 C   0  0  0  0  0  0  0  0  0  0  0\\n    0.0000    0.0000    0.0000 C   0  0  0  0  0  0  0  0  0  0  0\\n    1.2990    0.7500    0.0000 C   0  0  0  0  0  0  0  0  0  0  0\\n    2.5981    0.0000    0.0000 C   0  0  0  0  0  0  0  0  0  0  0\\n    2.5981   -1.5000    0.0000 C   0  0  0  0  0  0  0  0  0  0  0\\n    1.2990   -2.2500    0.0000 C   0  0  0  0  0  0  0  0  0  0  0\\n   -0.9266   -2.0350    0.0000 H   0  0  0  0  0  0  0  0  0  0  0\\n   -0.9266    0.5350    0.0000 H   0  0  0  0  0  0  0  0  0  0  0\\n    1.2990    1.8200    0.0000 H   0  0  0  0  0  0  0  0  0  0  0\\n    3.5247    0.5350   -0.0000 H   0  0  0  0  0  0  0  0  0  0  0\\n    3.5247   -2.0350    0.0000 H   0  0  0  0  0  0  0  0  0  0  0\\n    1.2990   -3.3200   -0.0000 H   0  0  0  0  0  0  0  0  0  0  0\\n 10  4  1  0  0  0  0\\n  5  6  4  0  0  0  0\\n  7  1  1  0  0  0  0\\n  3  2  4  0  0  0  0\\n  1  6  4  0  0  0  0\\n  2  1  4  0  0  0  0\\n  5 11  1  0  0  0  0\\n  3  9  1  0  0  0  0\\n  2  8  1  0  0  0  0\\n  3  4  4  0  0  0  0\\n 12  6  1  0  0  0  0\\n  5  4  4  0  0  0  0\\nM  END\\n\");\n",
       "\tviewer_1717882686148767.setStyle({\"stick\": {}});\n",
       "\tviewer_1717882686148767.zoomTo();\n",
       "viewer_1717882686148767.render();\n",
       "});\n",
       "</script>"
      ]
     },
     "metadata": {},
     "output_type": "display_data"
    },
    {
     "name": "stdout",
     "output_type": "stream",
     "text": [
      "C (2; Carbon) : C (1; Carbon) \n",
      "C (1; Carbon) : C (6; Carbon) \n",
      "H (Hydrogen) - C (1; Carbon) \n",
      "C (3; Carbon) : C (2; Carbon) \n",
      "C (2; Carbon) - H (Hydrogen) \n",
      "C (3; Carbon) : C (4; Carbon) \n",
      "C (3; Carbon) - H (Hydrogen) \n",
      "C (5; Carbon) : C (4; Carbon) \n",
      "H (Hydrogen) - C (4; Carbon) \n",
      "C (5; Carbon) : C (6; Carbon) \n",
      "C (5; Carbon) - H (Hydrogen) \n",
      "H (Hydrogen) - C (6; Carbon) \n"
     ]
    },
    {
     "data": {
      "application/3dmoljs_load.v0": "<div id=\"3dmolviewer_1717882686173183\"  style=\"position: relative; width: 400px; height: 400px;\">\n        <p id=\"3dmolwarning_1717882686173183\" style=\"background-color:#ffcccc;color:black\">3Dmol.js failed to load for some reason.  Please check your browser console for error messages.<br></p>\n        </div>\n<script>\n\nvar loadScriptAsync = function(uri){\n  return new Promise((resolve, reject) => {\n    //this is to ignore the existence of requirejs amd\n    var savedexports, savedmodule;\n    if (typeof exports !== 'undefined') savedexports = exports;\n    else exports = {}\n    if (typeof module !== 'undefined') savedmodule = module;\n    else module = {}\n\n    var tag = document.createElement('script');\n    tag.src = uri;\n    tag.async = true;\n    tag.onload = () => {\n        exports = savedexports;\n        module = savedmodule;\n        resolve();\n    };\n  var firstScriptTag = document.getElementsByTagName('script')[0];\n  firstScriptTag.parentNode.insertBefore(tag, firstScriptTag);\n});\n};\n\nif(typeof $3Dmolpromise === 'undefined') {\n$3Dmolpromise = null;\n  $3Dmolpromise = loadScriptAsync('https://cdnjs.cloudflare.com/ajax/libs/3Dmol/2.1.0/3Dmol-min.js');\n}\n\nvar viewer_1717882686173183 = null;\nvar warn = document.getElementById(\"3dmolwarning_1717882686173183\");\nif(warn) {\n    warn.parentNode.removeChild(warn);\n}\n$3Dmolpromise.then(function() {\nviewer_1717882686173183 = $3Dmol.createViewer(document.getElementById(\"3dmolviewer_1717882686173183\"),{backgroundColor:\"white\"});\nviewer_1717882686173183.zoomTo();\n\tviewer_1717882686173183.addModel(\"c1ccccc1\\n\\n\\n 12 12  0  0  0  0  0  0  0  0999 V2000\\n    0.0000   -1.5000    0.0000 C   0  0  0  0  0  0  0  0  0  0  0\\n    0.0000    0.0000    0.0000 C   0  0  0  0  0  0  0  0  0  0  0\\n    1.2990    0.7500    0.0000 C   0  0  0  0  0  0  0  0  0  0  0\\n    2.5981    0.0000    0.0000 C   0  0  0  0  0  0  0  0  0  0  0\\n    2.5981   -1.5000    0.0000 C   0  0  0  0  0  0  0  0  0  0  0\\n    1.2990   -2.2500    0.0000 C   0  0  0  0  0  0  0  0  0  0  0\\n   -0.9266   -2.0350    0.0000 H   0  0  0  0  0  0  0  0  0  0  0\\n   -0.9266    0.5350    0.0000 H   0  0  0  0  0  0  0  0  0  0  0\\n    1.2990    1.8200    0.0000 H   0  0  0  0  0  0  0  0  0  0  0\\n    3.5247    0.5350   -0.0000 H   0  0  0  0  0  0  0  0  0  0  0\\n    3.5247   -2.0350    0.0000 H   0  0  0  0  0  0  0  0  0  0  0\\n    1.2990   -3.3200   -0.0000 O   0  0  0  0  0  0  0  0  0  0  0\\n 10  4  1  0  0  0  0\\n  5  6  4  0  0  0  0\\n  7  1  1  0  0  0  0\\n  3  2  4  0  0  0  0\\n  1  6  4  0  0  0  0\\n  2  1  4  0  0  0  0\\n  5 11  1  0  0  0  0\\n  3  9  1  0  0  0  0\\n  2  8  1  0  0  0  0\\n  3  4  4  0  0  0  0\\n 12  6  1  0  0  0  0\\n  5  4  4  0  0  0  0\\nM  END\\n\");\n\tviewer_1717882686173183.setStyle({\"stick\": {}});\n\tviewer_1717882686173183.zoomTo();\nviewer_1717882686173183.render();\n});\n</script>",
      "text/html": [
       "<div id=\"3dmolviewer_1717882686173183\"  style=\"position: relative; width: 400px; height: 400px;\">\n",
       "        <p id=\"3dmolwarning_1717882686173183\" style=\"background-color:#ffcccc;color:black\">3Dmol.js failed to load for some reason.  Please check your browser console for error messages.<br></p>\n",
       "        </div>\n",
       "<script>\n",
       "\n",
       "var loadScriptAsync = function(uri){\n",
       "  return new Promise((resolve, reject) => {\n",
       "    //this is to ignore the existence of requirejs amd\n",
       "    var savedexports, savedmodule;\n",
       "    if (typeof exports !== 'undefined') savedexports = exports;\n",
       "    else exports = {}\n",
       "    if (typeof module !== 'undefined') savedmodule = module;\n",
       "    else module = {}\n",
       "\n",
       "    var tag = document.createElement('script');\n",
       "    tag.src = uri;\n",
       "    tag.async = true;\n",
       "    tag.onload = () => {\n",
       "        exports = savedexports;\n",
       "        module = savedmodule;\n",
       "        resolve();\n",
       "    };\n",
       "  var firstScriptTag = document.getElementsByTagName('script')[0];\n",
       "  firstScriptTag.parentNode.insertBefore(tag, firstScriptTag);\n",
       "});\n",
       "};\n",
       "\n",
       "if(typeof $3Dmolpromise === 'undefined') {\n",
       "$3Dmolpromise = null;\n",
       "  $3Dmolpromise = loadScriptAsync('https://cdnjs.cloudflare.com/ajax/libs/3Dmol/2.1.0/3Dmol-min.js');\n",
       "}\n",
       "\n",
       "var viewer_1717882686173183 = null;\n",
       "var warn = document.getElementById(\"3dmolwarning_1717882686173183\");\n",
       "if(warn) {\n",
       "    warn.parentNode.removeChild(warn);\n",
       "}\n",
       "$3Dmolpromise.then(function() {\n",
       "viewer_1717882686173183 = $3Dmol.createViewer(document.getElementById(\"3dmolviewer_1717882686173183\"),{backgroundColor:\"white\"});\n",
       "viewer_1717882686173183.zoomTo();\n",
       "\tviewer_1717882686173183.addModel(\"c1ccccc1\\n\\n\\n 12 12  0  0  0  0  0  0  0  0999 V2000\\n    0.0000   -1.5000    0.0000 C   0  0  0  0  0  0  0  0  0  0  0\\n    0.0000    0.0000    0.0000 C   0  0  0  0  0  0  0  0  0  0  0\\n    1.2990    0.7500    0.0000 C   0  0  0  0  0  0  0  0  0  0  0\\n    2.5981    0.0000    0.0000 C   0  0  0  0  0  0  0  0  0  0  0\\n    2.5981   -1.5000    0.0000 C   0  0  0  0  0  0  0  0  0  0  0\\n    1.2990   -2.2500    0.0000 C   0  0  0  0  0  0  0  0  0  0  0\\n   -0.9266   -2.0350    0.0000 H   0  0  0  0  0  0  0  0  0  0  0\\n   -0.9266    0.5350    0.0000 H   0  0  0  0  0  0  0  0  0  0  0\\n    1.2990    1.8200    0.0000 H   0  0  0  0  0  0  0  0  0  0  0\\n    3.5247    0.5350   -0.0000 H   0  0  0  0  0  0  0  0  0  0  0\\n    3.5247   -2.0350    0.0000 H   0  0  0  0  0  0  0  0  0  0  0\\n    1.2990   -3.3200   -0.0000 O   0  0  0  0  0  0  0  0  0  0  0\\n 10  4  1  0  0  0  0\\n  5  6  4  0  0  0  0\\n  7  1  1  0  0  0  0\\n  3  2  4  0  0  0  0\\n  1  6  4  0  0  0  0\\n  2  1  4  0  0  0  0\\n  5 11  1  0  0  0  0\\n  3  9  1  0  0  0  0\\n  2  8  1  0  0  0  0\\n  3  4  4  0  0  0  0\\n 12  6  1  0  0  0  0\\n  5  4  4  0  0  0  0\\nM  END\\n\");\n",
       "\tviewer_1717882686173183.setStyle({\"stick\": {}});\n",
       "\tviewer_1717882686173183.zoomTo();\n",
       "viewer_1717882686173183.render();\n",
       "});\n",
       "</script>"
      ]
     },
     "metadata": {},
     "output_type": "display_data"
    },
    {
     "name": "stdout",
     "output_type": "stream",
     "text": [
      "Molar mass: 93.0\n",
      "Total charge: 0\n"
     ]
    }
   ],
   "source": [
    "benzene = psimol.Molecule.from_smiles('c1ccccc1')\n",
    "benzene.visualize()\n",
    "\n",
    "# Print all bonds\n",
    "benzene.print_bonds()\n",
    "\n",
    "# Mutate last hydrogen to oxygen\n",
    "last_hydrogen = benzene.atoms[-1]\n",
    "last_hydrogen.mutate('O')\n",
    "benzene.visualize()\n",
    "\n",
    "# Print molar mass and total charge\n",
    "print('Molar mass:', benzene.molar_mass)\n",
    "print('Total charge:', benzene.total_charge)"
   ]
  },
  {
   "cell_type": "markdown",
   "metadata": {},
   "source": [
    "### Saving obtained molecules to .xyz or .mol files"
   ]
  },
  {
   "cell_type": "code",
   "execution_count": 27,
   "metadata": {},
   "outputs": [],
   "source": [
    "output_path = 'example_data'\n",
    "\n",
    "optimized_molecule.save_xyz(output_path + '/dummy_molecule.xyz')\n",
    "optimized_molecule.save_mol(output_path + '/dummy_molecule.mol')"
   ]
  },
  {
   "cell_type": "code",
   "execution_count": null,
   "metadata": {},
   "outputs": [],
   "source": []
  }
 ],
 "metadata": {
  "kernelspec": {
   "display_name": "psimol-env",
   "language": "python",
   "name": "python3"
  },
  "language_info": {
   "codemirror_mode": {
    "name": "ipython",
    "version": 3
   },
   "file_extension": ".py",
   "mimetype": "text/x-python",
   "name": "python",
   "nbconvert_exporter": "python",
   "pygments_lexer": "ipython3",
   "version": "3.12.3"
  }
 },
 "nbformat": 4,
 "nbformat_minor": 2
}
